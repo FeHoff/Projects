{
 "cells": [
  {
   "cell_type": "markdown",
   "metadata": {},
   "source": [
    "# Make a gif"
   ]
  },
  {
   "cell_type": "code",
   "execution_count": 2,
   "metadata": {
    "collapsed": true
   },
   "outputs": [],
   "source": [
    "import os\n",
    "import numpy as np\n",
    "import subprocess as sp"
   ]
  },
  {
   "cell_type": "markdown",
   "metadata": {},
   "source": [
    "convert -delay 2 -loop 0 *.png animated.gif\n",
    "composite -dissolve 60 -gravity South summary_X1517240_anat.jpg summary_X1517240_func.jpg -alpha Set test.jpg"
   ]
  },
  {
   "cell_type": "code",
   "execution_count": 3,
   "metadata": {
    "collapsed": true
   },
   "outputs": [],
   "source": [
    "in_path = '/data1/auto_qc/sample_data/adhd200_qc_niak/test'\n",
    "test_path = '/data1/auto_qc/sample_data/adhd200_qc_niak/new_test2'\n",
    "if not os.path.isdir(test_path):\n",
    "    os.makedirs(test_path)\n",
    "anat = 'summary_X1517240_anat.jpg'\n",
    "func = 'summary_X1517240_func.jpg'"
   ]
  },
  {
   "cell_type": "code",
   "execution_count": 44,
   "metadata": {
    "collapsed": false
   },
   "outputs": [],
   "source": [
    "dis = np.arange(0,101,20)\n",
    "dis = np.array([0,50,100])"
   ]
  },
  {
   "cell_type": "code",
   "execution_count": 45,
   "metadata": {
    "collapsed": false
   },
   "outputs": [
    {
     "name": "stdout",
     "output_type": "stream",
     "text": [
      "0\n",
      "0\n",
      "0\n"
     ]
    }
   ],
   "source": [
    "anat_path = os.path.join(in_path, anat)\n",
    "func_path = os.path.join(in_path, func)\n",
    "file_list = list()\n",
    "for idx, dissolve in enumerate(dis):\n",
    "    out_path = os.path.join(test_path, '{}_out_{}.jpg'.format(idx, dissolve))\n",
    "    file_list.append(out_path)\n",
    "    command = ['composite', '-dissolve', '{}'.format(dissolve), '-gravity', 'South',\n",
    "               anat_path, func_path, '-alpha', 'Set', out_path]\n",
    "    print(sp.call(command))"
   ]
  },
  {
   "cell_type": "code",
   "execution_count": 50,
   "metadata": {
    "collapsed": true
   },
   "outputs": [],
   "source": [
    "command2 = ['convert', '-delay', '20', '-loop', '1'] + file_list + file_list[::-1] + [os.path.join(test_path,'animated_lowres.gif')]"
   ]
  },
  {
   "cell_type": "code",
   "execution_count": 51,
   "metadata": {
    "collapsed": false
   },
   "outputs": [
    {
     "data": {
      "text/plain": [
       "0"
      ]
     },
     "execution_count": 51,
     "metadata": {},
     "output_type": "execute_result"
    }
   ],
   "source": [
    "sp.call(command2)"
   ]
  },
  {
   "cell_type": "code",
   "execution_count": 41,
   "metadata": {
    "collapsed": false
   },
   "outputs": [
    {
     "data": {
      "text/plain": [
       "array([  0,  20,  40,  60,  80, 100])"
      ]
     },
     "execution_count": 41,
     "metadata": {},
     "output_type": "execute_result"
    }
   ],
   "source": [
    "dis"
   ]
  },
  {
   "cell_type": "code",
   "execution_count": null,
   "metadata": {
    "collapsed": true
   },
   "outputs": [],
   "source": []
  }
 ],
 "metadata": {
  "kernelspec": {
   "display_name": "Python 2",
   "language": "python",
   "name": "python2"
  },
  "language_info": {
   "codemirror_mode": {
    "name": "ipython",
    "version": 2
   },
   "file_extension": ".py",
   "mimetype": "text/x-python",
   "name": "python",
   "nbconvert_exporter": "python",
   "pygments_lexer": "ipython2",
   "version": "2.7.11+"
  }
 },
 "nbformat": 4,
 "nbformat_minor": 0
}
