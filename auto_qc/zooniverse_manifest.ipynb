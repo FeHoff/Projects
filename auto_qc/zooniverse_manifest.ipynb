{
 "cells": [
  {
   "cell_type": "code",
   "execution_count": 40,
   "metadata": {
    "collapsed": true
   },
   "outputs": [],
   "source": [
    "import os\n",
    "import glob\n",
    "import shutil"
   ]
  },
  {
   "cell_type": "code",
   "execution_count": 41,
   "metadata": {
    "collapsed": true
   },
   "outputs": [],
   "source": [
    "in_path = '/data1/auto_qc/sample_data/adhd200_qc_niak'\n",
    "out_path = '/data1/auto_qc/sample_data/adhd200_qc_niak/test'\n",
    "if not os.path.isdir(out_path):\n",
    "    os.makedirs(out_path)"
   ]
  },
  {
   "cell_type": "code",
   "execution_count": 42,
   "metadata": {
    "collapsed": true
   },
   "outputs": [],
   "source": [
    "list_subjects = ['X1538046', 'X1517240', 'X1561488']"
   ]
  },
  {
   "cell_type": "code",
   "execution_count": 43,
   "metadata": {
    "collapsed": true
   },
   "outputs": [],
   "source": [
    "temp_anat = 'summary_{}_anat.jpg'\n",
    "temp_func = 'summary_{}_func.jpg'"
   ]
  },
  {
   "cell_type": "code",
   "execution_count": 44,
   "metadata": {
    "collapsed": false
   },
   "outputs": [],
   "source": [
    "out_csv = 'sub_id,image1,image2'\n",
    "for sub_id in list_subjects:\n",
    "    anat_path = glob.glob(os.path.join(in_path, temp_anat.format(sub_id)))[0]\n",
    "    func_path = glob.glob(os.path.join(in_path, temp_func.format(sub_id)))[0]\n",
    "    out_csv = '{}\\n{},{},{}'.format(out_csv,sub_id,temp_anat.format(sub_id),temp_func.format(sub_id))\n",
    "    # Copy the files over to the new path\n",
    "    anat_new = os.path.join(out_path, temp_anat.format(sub_id))\n",
    "    func_new = os.path.join(out_path, temp_func.format(sub_id))\n",
    "    shutil.copy(anat_path, anat_new)\n",
    "    shutil.copy(func_path, func_new)"
   ]
  },
  {
   "cell_type": "code",
   "execution_count": 45,
   "metadata": {
    "collapsed": false
   },
   "outputs": [
    {
     "data": {
      "text/plain": [
       "'sub_id,image1,image2\\nX1538046,summary_X1538046_anat.jpg,summary_X1538046_func.jpg\\nX1517240,summary_X1517240_anat.jpg,summary_X1517240_func.jpg\\nX1561488,summary_X1561488_anat.jpg,summary_X1561488_func.jpg'"
      ]
     },
     "execution_count": 45,
     "metadata": {},
     "output_type": "execute_result"
    }
   ],
   "source": [
    "out_csv"
   ]
  },
  {
   "cell_type": "code",
   "execution_count": 46,
   "metadata": {
    "collapsed": false
   },
   "outputs": [],
   "source": [
    "with open(os.path.join(out_path, 'test.csv'), 'w') as out:\n",
    "    out.write(out_csv)"
   ]
  },
  {
   "cell_type": "code",
   "execution_count": null,
   "metadata": {
    "collapsed": true
   },
   "outputs": [],
   "source": []
  }
 ],
 "metadata": {
  "kernelspec": {
   "display_name": "Python 3",
   "language": "python",
   "name": "python3"
  },
  "language_info": {
   "codemirror_mode": {
    "name": "ipython",
    "version": 3
   },
   "file_extension": ".py",
   "mimetype": "text/x-python",
   "name": "python",
   "nbconvert_exporter": "python",
   "pygments_lexer": "ipython3",
   "version": "3.5.1+"
  }
 },
 "nbformat": 4,
 "nbformat_minor": 0
}
