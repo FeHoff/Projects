{
 "cells": [
  {
   "cell_type": "code",
   "execution_count": 20,
   "metadata": {
    "collapsed": true
   },
   "outputs": [],
   "source": [
    "%matplotlib inline\n",
    "import matplotlib.pyplot as plt\n",
    "import numpy as np\n",
    "import pandas as pd\n",
    "import scipy.io\n",
    "from scipy.stats import norm\n",
    "\n",
    "import local_fdr"
   ]
  },
  {
   "cell_type": "code",
   "execution_count": 148,
   "metadata": {
    "collapsed": false
   },
   "outputs": [],
   "source": [
    "def local_fdr(P_VALUE):\n",
    "    ## Compute Z-values\n",
    "    Z_VALUE = norm.ppf(1-P_VALUE,loc=0, scale=1)\n",
    "    # Set an EM algorithm Tolerance Value\n",
    "    TOL = 10**-3\n",
    "    # Declare FDR Control LEVEL\n",
    "    ALPHA = 0.05\n",
    "\n",
    "    # Initialize Variables\n",
    "    ## Get length of Z_VALUE\n",
    "    N = len(Z_VALUE)\n",
    "\n",
    "    ## Initialize Mixing Probabilities\n",
    "    PI_A = 0.5\n",
    "    PI_B = 0.5\n",
    "    ## Initialize Means\n",
    "    MEAN_A = 0\n",
    "    MEAN_B = 2\n",
    "    ## Initialize Standard Deviations\n",
    "    SD_A = 1\n",
    "    SD_B = 1\n",
    "\n",
    "    # Initialize Loglikelihood function\n",
    "    LOGLIKE = 0\n",
    "    for ii in range(N):\n",
    "        LOGLIKE = LOGLIKE + np.log(PI_A*norm.pdf(Z_VALUE[ii],MEAN_A,SD_A) + PI_B*norm.pdf(Z_VALUE[ii],MEAN_B,SD_B))\n",
    "\n",
    "    ## Create an old Loglikelihood value\n",
    "    LOGOLD = -np.inf\n",
    "\n",
    "\n",
    "    # EM Algorithm Loopq\n",
    "    while LOGLIKE - LOGOLD > TOL:\n",
    "        ## Update Old LL Value\n",
    "        LOGOLD = LOGLIKE\n",
    "\n",
    "        ## Compute A Posteriori Probability (E-STEP)\n",
    "        TAU_A = PI_A*norm.pdf(Z_VALUE,MEAN_A,SD_A)/(PI_A*\n",
    "                norm.pdf(Z_VALUE,MEAN_A,SD_A) +\n",
    "                PI_B*norm.pdf(Z_VALUE,MEAN_B,SD_B))\n",
    "        TAU_B = 1 - TAU_A\n",
    "\n",
    "        ## Estimate Means (M-STEP part 1)\n",
    "        MEAN_A = np.sum(TAU_A*Z_VALUE)/np.sum(TAU_A)\n",
    "        MEAN_B = np.sum(TAU_B*Z_VALUE)/np.sum(TAU_B)\n",
    "\n",
    "        ## Estimate SDs (M-STEP part 2)\n",
    "        SD_A = np.sqrt(np.sum(TAU_A*(Z_VALUE-MEAN_A)**2)/np.sum(TAU_A))\n",
    "        SD_B = np.sqrt(np.sum(TAU_B*(Z_VALUE-MEAN_B)**2)/np.sum(TAU_B))\n",
    "\n",
    "        ## Recompute Loglikelihood\n",
    "        LOGLIKE = 0\n",
    "        for ii in range(N):\n",
    "            LOGLIKE = LOGLIKE + np.log(PI_A*norm.pdf(Z_VALUE[ii],MEAN_A,SD_A) + PI_B*norm.pdf(Z_VALUE[ii],MEAN_B,SD_B))\n",
    "\n",
    "\n",
    "    # Find out which is the NULL and which is the ALT distribution\n",
    "    if MEAN_A < MEAN_B:\n",
    "        ## Put All of the A stuff into 0 (NULL)\n",
    "        MEAN_0 = MEAN_A\n",
    "        SD_0 = SD_A\n",
    "        PI_0 = PI_A\n",
    "        ## Put all of the B stuff into 1 (ALT)\n",
    "        MEAN_1 = MEAN_B\n",
    "        SD_1 = SD_B\n",
    "        PI_1 = PI_B\n",
    "    else:\n",
    "        ## Put All of the A stuff into 1 (ALT)\n",
    "        MEAN_1 = MEAN_A\n",
    "        SD_1 = SD_A\n",
    "        PI_1 = PI_A\n",
    "        ## Put all of the B stuff into 0 (NULL)\n",
    "        MEAN_0 = MEAN_B\n",
    "        SD_0 = SD_B\n",
    "        PI_0 = PI_B\n",
    "\n",
    "    # Compute local FDR\n",
    "    LFDR = PI_0*norm.pdf(Z_VALUE,MEAN_0,SD_0)/(PI_0*\n",
    "                norm.pdf(Z_VALUE,MEAN_0,SD_0) +\n",
    "                PI_1*norm.pdf(Z_VALUE,MEAN_1,SD_1))\n",
    "\n",
    "    # Get possibly global FDR values\n",
    "    FDR = np.cumsum(np.sort(LFDR))/np.array(range(1,N+1))\n",
    "\n",
    "    ## Find the Critical value for which FDR is controlled at ALPHA\n",
    "    CRIT = np.sort(LFDR)[np.where(FDR>ALPHA)[0][0]]\n",
    "\n",
    "    # Get vector of Rejected P-Values\n",
    "    REJECT = np.array(LFDR < CRIT,dtype=int)\n",
    "    ## Print out vector of Rejected P-Values in Order\n",
    "    print(REJECT)\n",
    "    return REJECT"
   ]
  },
  {
   "cell_type": "code",
   "execution_count": 166,
   "metadata": {
    "collapsed": false
   },
   "outputs": [
    {
     "name": "stdout",
     "output_type": "stream",
     "text": [
      "[  3.38983309e-01   4.07159362e-01   2.48538403e-01   2.53265157e-01\n",
      "   6.13034248e-01   7.66447382e-01   1.14951394e-01   7.73872371e-01\n",
      "   6.12502288e-01   1.61343500e-01   4.60993082e-01   1.13897381e-04\n",
      "   3.42420056e-01   1.43135323e-01   5.35957233e-02   8.43231102e-03\n",
      "   6.18464822e-01   4.30333214e-01   2.30520377e-02   2.98371138e-05]\n",
      "[0 0 0 0 0 0 0 0 0 0 0 1 0 0 1 1 0 0 1 1]\n"
     ]
    },
    {
     "data": {
      "text/plain": [
       "array([0, 0, 0, 0, 0, 0, 0, 0, 0, 0, 0, 1, 0, 0, 1, 1, 0, 0, 1, 1])"
      ]
     },
     "execution_count": 166,
     "metadata": {},
     "output_type": "execute_result"
    }
   ],
   "source": [
    "# Simulate some P-values\n",
    "TEST_STAT=np.array([np.random.normal(0,1,10),np.random.normal(1,1,10)]).flatten()\n",
    "P_VALUE = 1-norm.cdf(TEST_STAT,loc=0, scale=1)\n",
    "print(P_VALUE)\n",
    "local_fdr.local_fdr(P_VALUE)"
   ]
  },
  {
   "cell_type": "code",
   "execution_count": 167,
   "metadata": {
    "collapsed": false
   },
   "outputs": [
    {
     "name": "stdout",
     "output_type": "stream",
     "text": [
      "[0 0 0 1 1 1 0 1 0 0 0 1 0 1 1 1 1 1 1 1 1 0 0 1 0 0 0 0 1 1 0 0 0 0 1 0 0\n",
      " 0 1 0 0 0 0 0 0 1 0 1 0 1 0 0 1 1 1 0 0 0 0 0 0 0 0 0 0 0 0 0 0 0 1 1 0 0\n",
      " 0 0 0 1 1 0 0 0 0 1 1 1 1 0 0 0 0 0 0 0 0 0 1 0 0 0 0 0 0 0 0 0 1 1 0 0 0\n",
      " 0 1 0 1 0 0 1 1 1 0 0 1 0 0 0 0 1 0 0 0 0 0 0 1 0 0 1 1 1 1 1 1 0 0 1 0 0\n",
      " 1 1 1 1 0 0 1 0 1 0 0 0 0 0 0 0 1 0 0 0 0 0 0 0 0 0 0 0 0 1 0 1 0 0 0 1 0\n",
      " 0 0 0 1 0 0 0 0 0 0 0 0 0 0 0 0 0 0 0 0 0 0 0 0 0 0 0 0 0 0 0 0 0 0 0 0 0\n",
      " 0 0 0 0 0 0 0 0 0 0 0 0 0 0 0 0 0 0 0 0 0 0 1 0 1 0 0 0 0 0 0 0 1 1 0 0 0\n",
      " 1 1 1 1 1 1 0 0 0 0 0 0 0 0 1 0 1 0 0 0 0 0 0 0 0 0 0 0 0 0 0 0 0 0 0 0 0\n",
      " 0 0 0 0 0 0 0 0 0 0 0 0 0 0 0 0 0 0 0 0 0 0 0 0 0 0 0 0 0 0 0 0 0 1 1 1 0\n",
      " 0 1 0 0 1 0 1 0 0 0 0 0 0 0 0 0 0 0 0 0 1 0 0 0 0 1 0 1 0 0 0 0 0 0 0 0 0\n",
      " 0 1 0 0 0 0 0 0 0 0 0 0 0 0 0 0 0 0 0 0 0 0 0 0 0 0 0 0 1 0 0 0 0 0 1 0 0\n",
      " 0 0 0 0 0 0 0 0 0 0 0 0 0 1 0 1 1 0 0 0 0 0 0 1 0 0 0 0 0 0 0 0 1 0 0 0 1\n",
      " 1 1 0 0 0 0 0 0 0 0 0 0 0 0 1 1 1 0 0 1 0 0 0 1 0 1 0 0 1 0 0 0 1 1 0 0 0\n",
      " 0 0 0 0 0 0 0 0 0 0 0 0 1 0 0 0 0 0 0 0 0 0 0 0 0 0 0 0 1 1 0 0 0 0 0 0 0\n",
      " 0 0 0 0 0 0 1 0 0 0 0 0 0 0 0 1 0 0 0 0 0 0 0 1 0 0 0 0 0 0 0 0 0 0 0 0 0\n",
      " 0 1 0 0 0 0 0 0 1 0 0 0 0 0 1 0 0 0 0 0 0 0 0 0 0 0 0 0 0 0 0 0 0 0 0 0 0\n",
      " 0 0 0 0 0 0 0 0 0 0 0 0 0 0 0 0 1 0 0 0 0 0 1 0 0 0 0 0 0 0 0 0 0 0 0 0 0\n",
      " 0]\n"
     ]
    },
    {
     "data": {
      "text/plain": [
       "array([0, 0, 0, 1, 1, 1, 0, 1, 0, 0, 0, 1, 0, 1, 1, 1, 1, 1, 1, 1, 1, 0, 0,\n",
       "       1, 0, 0, 0, 0, 1, 1, 0, 0, 0, 0, 1, 0, 0, 0, 1, 0, 0, 0, 0, 0, 0, 1,\n",
       "       0, 1, 0, 1, 0, 0, 1, 1, 1, 0, 0, 0, 0, 0, 0, 0, 0, 0, 0, 0, 0, 0, 0,\n",
       "       0, 1, 1, 0, 0, 0, 0, 0, 1, 1, 0, 0, 0, 0, 1, 1, 1, 1, 0, 0, 0, 0, 0,\n",
       "       0, 0, 0, 0, 1, 0, 0, 0, 0, 0, 0, 0, 0, 0, 1, 1, 0, 0, 0, 0, 1, 0, 1,\n",
       "       0, 0, 1, 1, 1, 0, 0, 1, 0, 0, 0, 0, 1, 0, 0, 0, 0, 0, 0, 1, 0, 0, 1,\n",
       "       1, 1, 1, 1, 1, 0, 0, 1, 0, 0, 1, 1, 1, 1, 0, 0, 1, 0, 1, 0, 0, 0, 0,\n",
       "       0, 0, 0, 1, 0, 0, 0, 0, 0, 0, 0, 0, 0, 0, 0, 0, 1, 0, 1, 0, 0, 0, 1,\n",
       "       0, 0, 0, 0, 1, 0, 0, 0, 0, 0, 0, 0, 0, 0, 0, 0, 0, 0, 0, 0, 0, 0, 0,\n",
       "       0, 0, 0, 0, 0, 0, 0, 0, 0, 0, 0, 0, 0, 0, 0, 0, 0, 0, 0, 0, 0, 0, 0,\n",
       "       0, 0, 0, 0, 0, 0, 0, 0, 0, 0, 0, 0, 0, 0, 1, 0, 1, 0, 0, 0, 0, 0, 0,\n",
       "       0, 1, 1, 0, 0, 0, 1, 1, 1, 1, 1, 1, 0, 0, 0, 0, 0, 0, 0, 0, 1, 0, 1,\n",
       "       0, 0, 0, 0, 0, 0, 0, 0, 0, 0, 0, 0, 0, 0, 0, 0, 0, 0, 0, 0, 0, 0, 0,\n",
       "       0, 0, 0, 0, 0, 0, 0, 0, 0, 0, 0, 0, 0, 0, 0, 0, 0, 0, 0, 0, 0, 0, 0,\n",
       "       0, 0, 0, 0, 0, 0, 0, 1, 1, 1, 0, 0, 1, 0, 0, 1, 0, 1, 0, 0, 0, 0, 0,\n",
       "       0, 0, 0, 0, 0, 0, 0, 0, 1, 0, 0, 0, 0, 1, 0, 1, 0, 0, 0, 0, 0, 0, 0,\n",
       "       0, 0, 0, 1, 0, 0, 0, 0, 0, 0, 0, 0, 0, 0, 0, 0, 0, 0, 0, 0, 0, 0, 0,\n",
       "       0, 0, 0, 0, 0, 0, 0, 1, 0, 0, 0, 0, 0, 1, 0, 0, 0, 0, 0, 0, 0, 0, 0,\n",
       "       0, 0, 0, 0, 0, 0, 1, 0, 1, 1, 0, 0, 0, 0, 0, 0, 1, 0, 0, 0, 0, 0, 0,\n",
       "       0, 0, 1, 0, 0, 0, 1, 1, 1, 0, 0, 0, 0, 0, 0, 0, 0, 0, 0, 0, 0, 1, 1,\n",
       "       1, 0, 0, 1, 0, 0, 0, 1, 0, 1, 0, 0, 1, 0, 0, 0, 1, 1, 0, 0, 0, 0, 0,\n",
       "       0, 0, 0, 0, 0, 0, 0, 0, 0, 0, 1, 0, 0, 0, 0, 0, 0, 0, 0, 0, 0, 0, 0,\n",
       "       0, 0, 0, 1, 1, 0, 0, 0, 0, 0, 0, 0, 0, 0, 0, 0, 0, 0, 1, 0, 0, 0, 0,\n",
       "       0, 0, 0, 0, 1, 0, 0, 0, 0, 0, 0, 0, 1, 0, 0, 0, 0, 0, 0, 0, 0, 0, 0,\n",
       "       0, 0, 0, 0, 1, 0, 0, 0, 0, 0, 0, 1, 0, 0, 0, 0, 0, 1, 0, 0, 0, 0, 0,\n",
       "       0, 0, 0, 0, 0, 0, 0, 0, 0, 0, 0, 0, 0, 0, 0, 0, 0, 0, 0, 0, 0, 0, 0,\n",
       "       0, 0, 0, 0, 0, 0, 0, 0, 0, 0, 1, 0, 0, 0, 0, 0, 1, 0, 0, 0, 0, 0, 0,\n",
       "       0, 0, 0, 0, 0, 0, 0, 0, 0])"
      ]
     },
     "execution_count": 167,
     "metadata": {},
     "output_type": "execute_result"
    }
   ],
   "source": [
    "# load real p-values\n",
    "P_VALUE = pd.read_csv('pce_glm_connectome/motor_sc35.txt',delim_whitespace=True)\n",
    "P_VALUE = np.array(P_VALUE.columns.values,dtype=float)\n",
    "local_fdr.local_fdr(P_VALUE)"
   ]
  }
 ],
 "metadata": {
  "kernelspec": {
   "display_name": "Python 2",
   "language": "python",
   "name": "python2"
  },
  "language_info": {
   "codemirror_mode": {
    "name": "ipython",
    "version": 2
   },
   "file_extension": ".py",
   "mimetype": "text/x-python",
   "name": "python",
   "nbconvert_exporter": "python",
   "pygments_lexer": "ipython2",
   "version": "2.7.10"
  }
 },
 "nbformat": 4,
 "nbformat_minor": 0
}
