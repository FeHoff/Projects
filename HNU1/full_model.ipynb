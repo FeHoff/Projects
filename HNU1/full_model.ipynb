{
 "cells": [
  {
   "cell_type": "code",
   "execution_count": 1,
   "metadata": {
    "collapsed": true
   },
   "outputs": [],
   "source": [
    "import re\n",
    "import numpy as np\n",
    "import pandas as pd"
   ]
  },
  {
   "cell_type": "code",
   "execution_count": 2,
   "metadata": {
    "collapsed": true
   },
   "outputs": [],
   "source": [
    "# Paths\n",
    "path_qc = '/data1/guillimin/sim_data/data/hnu1/preproc_20161103/quality_control/manual_qc_rating.csv'\n",
    "path_pheno = '/data1/guillimin/sim_data/data/hnu1/pheno/hnu1_pheno.csv'\n",
    "path_motion = '/data1/guillimin/sim_data/data/hnu1/preproc_20161103/quality_control/group_motion/qc_scrubbing_group.csv'\n",
    "path_full = '/data1/guillimin/sim_data/data/hnu1/pheno/hnu1_full_model.csv'\n",
    "path_maybe = '/data1/guillimin/sim_data/data/hnu1/pheno/hnu1_qc_pass_model.csv'"
   ]
  },
  {
   "cell_type": "code",
   "execution_count": 3,
   "metadata": {
    "collapsed": true
   },
   "outputs": [],
   "source": [
    "qc = pd.read_csv(path_qc)\n",
    "qc['SubID'] = qc.SubID.astype(int)"
   ]
  },
  {
   "cell_type": "code",
   "execution_count": 4,
   "metadata": {
    "collapsed": true
   },
   "outputs": [],
   "source": [
    "pheno = pd.read_csv(path_pheno)\n",
    "pheno.rename(columns={'SUBID':'SubID', 'AGE_AT_SCAN_1':'AGE_AT_SCAN'}, inplace=True)\n",
    "# Rename Numeric values\n",
    "pheno.SEASON.replace(to_replace={0:'Winter', 1:'Spring', 2:'Summer', 3:'Fall'}, inplace=True)\n",
    "pheno.SEX.replace(to_replace={1:'Female', 2:'Male'}, inplace=True)\n",
    "pheno.PRECEDING_CONDITION.replace(to_replace={0:'No active task'}, inplace=True)\n",
    "pheno.VISUAL_STIMULATION_CONDITION.replace(to_replace={1:'Fixation'}, inplace=True)\n",
    "pheno.RETEST_DESIGN.replace(to_replace={2:'Between Session'}, inplace=True)\n",
    "# Get session and sub_session code\n",
    "pheno['session'] = [np.int(re.search(r'(?<=Retest_)\\d+', row.SESSION).group()[0])+1 if not row.SESSION=='Baseline' else 1 for index, row in pheno.iterrows()]\n",
    "pheno['tmp'] = ['{}_{}'.format(row.SubID, row.session) for index, row in pheno.iterrows()]"
   ]
  },
  {
   "cell_type": "code",
   "execution_count": 5,
   "metadata": {
    "collapsed": false
   },
   "outputs": [],
   "source": [
    "motion = pd.read_csv(path_motion)\n",
    "motion.rename(columns={' ':'ID_info'}, inplace=True)\n",
    "# Get SubID and session\n",
    "motion['SubID'] = [np.int(row.ID_info.split('_')[0]) for index, row in motion.iterrows()]\n",
    "motion['session'] = [np.int(re.search(r'(?<=session)\\d+', row.ID_info.split('_')[1]).group()) for index, row in motion.iterrows()]\n",
    "motion['tmp'] = ['{}_{}'.format(row.SubID, row.session) for index, row in motion.iterrows()]"
   ]
  },
  {
   "cell_type": "code",
   "execution_count": 6,
   "metadata": {
    "collapsed": false
   },
   "outputs": [],
   "source": [
    "# Combine stuff\n",
    "mot_phen = pd.merge(motion[['frames_scrubbed ', 'frames_OK ', 'FD ', 'FD_scrubbed', 'tmp']], pheno, on='tmp')\n",
    "combine = pd.merge(qc, mot_phen, on='SubID')"
   ]
  },
  {
   "cell_type": "code",
   "execution_count": 7,
   "metadata": {
    "collapsed": true
   },
   "outputs": [],
   "source": [
    "# Select columns and order\n",
    "cols = ['SubID', 'session', 'AGE_AT_SCAN', 'SEX', 'RESTING_STATE_INSTRUCTION', \n",
    "       'VISUAL_STIMULATION_CONDITION', 'RETEST_DESIGN', 'PRECEDING_CONDITION',\n",
    "       'RETEST_DURATION', 'RETEST_UNITS', 'TIME_OF_DAY', 'SEASON',\n",
    "       'LMP', 'frames_scrubbed ', 'frames_OK ', 'FD ',\n",
    "       'FD_scrubbed', 'T1', 'T2']"
   ]
  },
  {
   "cell_type": "code",
   "execution_count": 8,
   "metadata": {
    "collapsed": true
   },
   "outputs": [],
   "source": [
    "full = combine[cols]"
   ]
  },
  {
   "cell_type": "code",
   "execution_count": 9,
   "metadata": {
    "collapsed": false
   },
   "outputs": [],
   "source": [
    "# Save the model\n",
    "full.to_csv(path_full, index=False)\n",
    "maybe = full.loc[full.T1!='FAIL']\n",
    "maybe.to_csv(path_maybe, index=False)"
   ]
  },
  {
   "cell_type": "code",
   "execution_count": 10,
   "metadata": {
    "collapsed": false
   },
   "outputs": [
    {
     "data": {
      "text/plain": [
       "Index(['SubID', 'session', 'AGE_AT_SCAN', 'SEX', 'RESTING_STATE_INSTRUCTION',\n",
       "       'VISUAL_STIMULATION_CONDITION', 'RETEST_DESIGN', 'PRECEDING_CONDITION',\n",
       "       'RETEST_DURATION', 'RETEST_UNITS', 'TIME_OF_DAY', 'SEASON', 'LMP',\n",
       "       'frames_scrubbed ', 'frames_OK ', 'FD ', 'FD_scrubbed', 'T1', 'T2'],\n",
       "      dtype='object')"
      ]
     },
     "execution_count": 10,
     "metadata": {},
     "output_type": "execute_result"
    }
   ],
   "source": [
    "full.columns"
   ]
  }
 ],
 "metadata": {
  "kernelspec": {
   "display_name": "Python 3.5 (v)",
   "language": "python",
   "name": "py35"
  },
  "language_info": {
   "codemirror_mode": {
    "name": "ipython",
    "version": 3
   },
   "file_extension": ".py",
   "mimetype": "text/x-python",
   "name": "python",
   "nbconvert_exporter": "python",
   "pygments_lexer": "ipython3",
   "version": "3.5.2+"
  }
 },
 "nbformat": 4,
 "nbformat_minor": 1
}
