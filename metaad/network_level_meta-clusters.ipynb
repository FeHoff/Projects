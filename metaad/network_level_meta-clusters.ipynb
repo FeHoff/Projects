{
 "cells": [
  {
   "cell_type": "code",
   "execution_count": 9,
   "metadata": {
    "collapsed": false
   },
   "outputs": [],
   "source": [
    "# AUTHOR Christian Dansereau 2016\n",
    "\n",
    "%matplotlib inline\n",
    "import numpy as np\n",
    "import matplotlib.pyplot as plt\n",
    "\n",
    "import pandas as pd\n",
    "import scipy.io\n",
    "import os\n",
    "import nibabel as nib\n",
    "from nibabel.affines import apply_affine\n",
    "from nilearn import plotting\n",
    "import numpy.linalg as npl"
   ]
  },
  {
   "cell_type": "markdown",
   "metadata": {},
   "source": [
    "# Load data"
   ]
  },
  {
   "cell_type": "code",
   "execution_count": 10,
   "metadata": {
    "collapsed": false
   },
   "outputs": [],
   "source": [
    "#seed_data = pd.read_csv('20160128_AD_Decrease_Meta_Christian.csv')\n",
    "\n",
    "template_036= nib.load('/home/cdansereau/data/template_cambridge_basc_multiscale_nii_sym/template_cambridge_basc_multiscale_sym_scale036.nii.gz')\n",
    "template_020= nib.load('/home/cdansereau/data/template_cambridge_basc_multiscale_nii_sym/template_cambridge_basc_multiscale_sym_scale020.nii.gz')\n",
    "template_012= nib.load('/home/cdansereau/data/template_cambridge_basc_multiscale_nii_sym/template_cambridge_basc_multiscale_sym_scale012.nii.gz')\n",
    "template_007= nib.load('/home/cdansereau/data/template_cambridge_basc_multiscale_nii_sym/template_cambridge_basc_multiscale_sym_scale007.nii.gz')\n",
    "\n",
    "template = template_007\n",
    "\n",
    "scale = '7'\n",
    "\n",
    "#seed_data = pd.read_csv('20160405_AD_Seed_Regions_ForChristian_Revised.csv')\n",
    "#seed_data = pd.read_csv('20160405_MCI_Seed_Regions_ForChristian_Revised.csv')\n",
    "seed_data = pd.read_csv('20160405_ADMCI_Seed_Regions_ForChristian_Revised.csv')\n",
    "\n",
    "#output_stats = 'AD_seedregions_scale'+scale+'_stats.mat'\n",
    "#output_vol   = 'AD_seedregions_hitfreq_scale'+scale+'_vol.nii.gz'\n",
    "#output_stats = 'MCI_seedregions_scale'+scale+'_stats.mat'\n",
    "#output_vol   = 'MCI_seedregions_hitfreq_scale'+scale+'_vol.nii.gz'\n",
    "output_stats = 'ADMCI_seedregions_scale'+scale+'_stats.mat'\n",
    "output_vol   = 'ADMCI_seedregions_hitfreq_scale'+scale+'_vol.nii.gz'\n"
   ]
  },
  {
   "cell_type": "code",
   "execution_count": 11,
   "metadata": {
    "collapsed": false,
    "scrolled": true
   },
   "outputs": [
    {
     "data": {
      "text/plain": [
       "5"
      ]
     },
     "execution_count": 11,
     "metadata": {},
     "output_type": "execute_result"
    }
   ],
   "source": [
    "seed_data.iloc[1]['Cambridge_Scale7_label']"
   ]
  },
  {
   "cell_type": "markdown",
   "metadata": {
    "collapsed": true
   },
   "source": [
    "## Get the number of coordinates reported for each network"
   ]
  },
  {
   "cell_type": "code",
   "execution_count": 12,
   "metadata": {
    "collapsed": false,
    "scrolled": true
   },
   "outputs": [
    {
     "name": "stdout",
     "output_type": "stream",
     "text": [
      "Out of brain coordinates: 15\n",
      "[[ 0.          0.          0.          0.          1.          0.          0.        ]\n",
      " [ 0.          0.          0.125       0.25        0.125       0.25        0.25      ]\n",
      " [ 0.          0.          0.          0.          1.          0.          0.        ]\n",
      " [ 0.          0.          0.          0.          1.          0.          0.        ]\n",
      " [ 0.          0.          0.          0.          1.          0.          0.        ]\n",
      " [ 0.          0.          0.          0.          0.5         0.5         0.        ]\n",
      " [ 0.          0.          0.          0.          1.          0.          0.        ]\n",
      " [ 0.          0.          0.          0.          1.          0.          0.        ]\n",
      " [ 0.          0.          0.          0.          1.          0.          0.        ]\n",
      " [ 0.          0.06060606  0.          0.          0.42424242  0.51515152\n",
      "   0.        ]\n",
      " [ 0.16393443  0.06557377  0.01639344  0.08196721  0.24590164  0.24590164\n",
      "   0.18032787]\n",
      " [ 0.07692308  0.          0.07692308  0.15384615  0.23076923  0.23076923\n",
      "   0.23076923]\n",
      " [ 0.          0.          0.          0.          1.          0.          0.        ]\n",
      " [ 0.          0.          0.          0.          1.          0.          0.        ]\n",
      " [ 0.          0.25        0.          0.25        0.5         0.          0.        ]\n",
      " [ 0.          0.          0.          0.          0.27272727  0.54545455\n",
      "   0.18181818]\n",
      " [ 0.          0.5         0.          0.          0.5         0.          0.        ]\n",
      " [ 0.          0.          0.          0.          0.25        0.25        0.5       ]\n",
      " [ 0.          0.33333333  0.          0.          0.          0.\n",
      "   0.66666667]\n",
      " [ 0.          0.          0.          0.125       0.25        0.375       0.25      ]\n",
      " [ 0.          0.2         0.          0.          0.2         0.4         0.2       ]\n",
      " [ 0.          0.          0.          0.28571429  0.28571429  0.28571429\n",
      "   0.14285714]\n",
      " [ 0.04225352  0.04225352  0.          0.01408451  0.4084507   0.35211268\n",
      "   0.14084507]\n",
      " [ 0.          0.          0.          0.          0.66666667  0.\n",
      "   0.33333333]\n",
      " [ 0.04166667  0.04166667  0.          0.01388889  0.41666667  0.34722222\n",
      "   0.13888889]\n",
      " [ 0.23809524  0.23809524  0.          0.          0.47619048  0.04761905\n",
      "   0.        ]\n",
      " [ 0.          0.          0.125       0.25        0.25        0.25        0.125     ]\n",
      " [ 0.          1.          0.          0.          0.          0.          0.        ]\n",
      " [ 0.          0.125       0.125       0.          0.          0.5         0.25      ]\n",
      " [ 0.          0.          0.          0.          1.          0.          0.        ]\n",
      " [ 0.          0.          0.          0.          0.5         0.          0.5       ]]\n",
      "[ 0.01815719  0.09214608  0.01510698  0.04595165  0.53233321  0.16435307\n",
      "  0.13195182]\n"
     ]
    }
   ],
   "source": [
    "from numpy.linalg import norm\n",
    "# find the closest network to the coordo\n",
    "def get_nearest_net(template,world_coor):\n",
    "    list_coord = np.array(np.where(template.get_data()>0))\n",
    "    mni_coord = apply_affine(template.get_affine(),list_coord.T)\n",
    "    distances = norm(mni_coord-np.array(world_coor),axis=1)\n",
    "    #print distances.shape\n",
    "    idx_nearest_net = np.where(distances == np.min(distances))[0][0]\n",
    "    return int(template.get_data()[list_coord[:,idx_nearest_net][0],list_coord[:,idx_nearest_net][1],list_coord[:,idx_nearest_net][2]])\n",
    "    \n",
    "#get_nearest_net(template,[-15,-10,-10])\n",
    "# Convert from world MNI space to the EPI voxel space\n",
    "def get_world2vox(template, mni_coord):\n",
    "    return np.round(apply_affine(npl.inv(template.get_affine()),mni_coord)+[1])\n",
    "    \n",
    "network_votes = np.zeros((np.max(template.get_data().flatten()),1))[:,0]\n",
    "network_votes\n",
    "\n",
    "# get the voxel coordinates of the MNI seeds\n",
    "\n",
    "votes = []\n",
    "n_outofbrain=0\n",
    "for i in range(seed_data.shape[0]):\n",
    "    tmp_val = seed_data['Cambridge_Scale7_label'].iloc[i]\n",
    "    if tmp_val == 0:\n",
    "        mni_space_targets = seed_data[['x','y','z']].iloc[i]\n",
    "        vox_corrd = get_world2vox(template,mni_space_targets)\n",
    "        net_class = template.get_data()[vox_corrd[0],vox_corrd[1],vox_corrd[2]]\n",
    "    else:\n",
    "        net_class = tmp_val\n",
    "    if net_class==0:\n",
    "        n_outofbrain+=1\n",
    "        votes.append(get_nearest_net(template,[mni_space_targets[0],mni_space_targets[1],mni_space_targets[2]]))\n",
    "    else:\n",
    "        votes.append(net_class)\n",
    "\n",
    "print('Out of brain coordinates: '+ str(n_outofbrain))\n",
    "votes = np.array(votes)    \n",
    "\n",
    "# take one vote for each study only\n",
    "uni_pmid = np.unique(seed_data['PMID'])\n",
    "votes.shape\n",
    "frequency_votes=np.zeros((len(uni_pmid),len(network_votes)))\n",
    "#for i in range(len(uni_pmid)):\n",
    "#    frequency_votes = np.hstack((frequency_votes,np.unique(votes[(seed_data['PMID']==uni_pmid[i]).values])))\n",
    "for i in range(len(uni_pmid)):\n",
    "    aa = votes[(seed_data['PMID']==uni_pmid[i]).values]\n",
    "    for j in aa:\n",
    "        frequency_votes[i,j-1] = (aa == j).sum()/float(len(aa))\n",
    "print frequency_votes\n",
    "\n",
    "\n",
    "# compile the stats for each network\n",
    "#for i in range(1,len(network_votes)+1):\n",
    "#    network_votes[i-1] = np.mean(frequency_votes==i)\n",
    "network_votes = np.mean(frequency_votes,axis=0)\n",
    "print network_votes\n",
    "#vox_corrd[np.array(votes)==5,:]"
   ]
  },
  {
   "cell_type": "code",
   "execution_count": 13,
   "metadata": {
    "collapsed": false
   },
   "outputs": [
    {
     "data": {
      "text/plain": [
       "(31, 7)"
      ]
     },
     "execution_count": 13,
     "metadata": {},
     "output_type": "execute_result"
    }
   ],
   "source": [
    "frequency_votes.shape"
   ]
  },
  {
   "cell_type": "code",
   "execution_count": 14,
   "metadata": {
    "collapsed": false
   },
   "outputs": [
    {
     "name": "stdout",
     "output_type": "stream",
     "text": [
      "[ 5.  5.  5.  5.  5.  5.  5.  6.  5.  5.  2.  2.  5.  5.  5.  5.  4.  4.\n",
      "  5.  5.  2.  2.  2.  2.  7.  7.  7.  7.  5.  7.  2.  6.  6.  5.  5.  7.\n",
      "  6.  6.  4.  4.  5.  5.  5.  6.  5.  5.  2.  2.  6.  5.  5.  6.  5.  5.\n",
      "  6.  6.  6.  6.  6.  5.  6.  6.  6.  6.  5.  5.  6.  5.  6.  6.  5.  6.\n",
      "  6.  5.  5.  5.  2.  2.  5.  1.  1.  4.  1.  5.  5.  5.  5.  6.  6.  1.\n",
      "  7.  7.  6.  7.  5.  2.  6.  5.  6.  6.  4.  6.  6.  6.  4.  1.  7.  7.\n",
      "  1.  5.  5.  1.  7.  2.  1.  6.  1.  4.  7.  6.  3.  5.  4.  5.  6.  6.\n",
      "  5.  7.  7.  6.  1.  7.  6.  7.  6.  6.  3.  4.  4.  1.  7.  5.  6.  7.\n",
      "  7.  5.  5.  6.  5.  7.  7.  5.  7.  5.  5.  5.  5.  6.  5.  5.  2.  1.\n",
      "  1.  2.  2.  2.  2.  5.  5.  1.  1.  5.  5.  1.  5.  4.  5.  4.  5.  7.\n",
      "  6.  6.  3.  5.  7.  5.  5.  5.  5.  3.  6.  6.  6.  6.  7.  7.  2.  5.\n",
      "  6.  6.  6.  5.  6.  7.  6.  5.  7.  6.  5.  2.  2.  2.  2.  2.  2.  2.\n",
      "  2.  2.  2.  5.  5.  5.  5.  2.  2.  4.  4.  7.  6.  6.  5.  3.  7.  5.\n",
      "  5.  5.  6.  7.  6.  6.  7.  4.  5.  5.  5.  5.  6.  5.  5.  5.  6.  5.\n",
      "  5.  6.  6.  5.  5.  5.  5.  5.  5.  5.  5.  5.  5.  5.  5.  5.  6.  6.\n",
      "  5.  5.  1.  6.  6.  5.  6.  1.  6.  5.  7.  2.  5.  5.  6.  2.  6.  1.\n",
      "  6.  4.  6.  6.  6.  6.  6.  6.  6.  5.  6.  7.  6.  2.  6.  6.  6.  7.\n",
      "  7.  7.  7.  7.  7.  7.  7.  5.  5.  5.  5.  6.  5.  5.  5.  6.  5.  5.\n",
      "  6.  6.  5.  5.  5.  5.  5.  5.  5.  5.  5.  5.  5.  5.  5.  5.  6.  6.\n",
      "  5.  5.  1.  6.  6.  5.  6.  1.  6.  5.  7.  2.  5.  5.  6.  2.  6.  1.\n",
      "  6.  4.  6.  6.  6.  6.  6.  6.  6.  5.  6.  7.  6.  2.  6.  6.  6.  7.\n",
      "  7.  7.  7.  7.  7.  7.  7.  5.  5.  5.  6.  5.  5.  2.  1.  1.  2.  2.\n",
      "  2.  2.  5.  5.  1.  1.  5.  5.  1.  5.  5.  7.  6.  6.  3.  4.  4.  1.\n",
      "  7.  5.  6.  7.  7.  5.  5.]\n",
      "[ 5.  5.  5.  5.  5.  5.  5.  6.  5.  5.  2.  2.  5.  5.  5.  5.  4.  4.\n",
      "  5.  5.  2.  2.  2.  2.  7.  7.  7.  7.  5.  7.  2.  6.  6.  5.  5.  7.\n",
      "  6.  6.  4.  4.  5.  5.  5.  6.  5.  5.  2.  2.  6.  5.  5.  6.  5.  5.\n",
      "  6.  6.  6.  6.  6.  5.  6.  6.  6.  6.  5.  5.  6.  5.  6.  6.  5.  6.\n",
      "  6.  5.  5.  5.  2.  2.  5.  1.  1.  4.  1.  5.  5.  5.  5.  6.  6.  1.\n",
      "  7.  7.  6.  7.  5.  2.  6.  5.  6.  6.  4.  6.  6.  6.  4.  1.  7.  7.\n",
      "  1.  5.  5.  1.  7.  2.  1.  6.  1.  4.  7.  6.  3.  5.  4.  5.  6.  6.\n",
      "  5.  7.  7.  6.  1.  7.  6.  7.  6.  6.  3.  4.  4.  1.  7.  5.  6.  7.\n",
      "  7.  5.  5.  6.  5.  7.  7.  5.  7.  5.  5.  5.  5.  6.  5.  5.  2.  1.\n",
      "  1.  2.  2.  2.  2.  5.  5.  1.  1.  5.  5.  1.  5.  4.  5.  4.  5.  7.\n",
      "  6.  6.  3.  5.  7.  5.  5.  5.  5.  3.  6.  6.  6.  6.  7.  7.  2.  5.\n",
      "  6.  6.  6.  5.  6.  7.  6.  5.  7.  6.  5.  2.  2.  2.  2.  2.  2.  2.\n",
      "  2.  2.  2.  5.  5.  5.  5.  2.  2.  4.  4.  7.  6.  6.  5.  3.  7.  5.\n",
      "  5.  5.  6.  7.  6.  6.  7.  4.  5.  5.  5.  5.  6.  5.  5.  5.  6.  5.\n",
      "  5.  6.  6.  5.  5.  5.  5.  5.  5.  5.  5.  5.  5.  5.  5.  5.  6.  6.\n",
      "  5.  5.  1.  6.  6.  5.  6.  1.  6.  5.  7.  2.  5.  5.  6.  2.  6.  1.\n",
      "  6.  4.  6.  6.  6.  6.  6.  6.  6.  5.  6.  7.  6.  2.  6.  6.  6.  7.\n",
      "  7.  7.  7.  7.  7.  7.  7.  5.  5.  5.  5.  6.  5.  5.  5.  6.  5.  5.\n",
      "  6.  6.  5.  5.  5.  5.  5.  5.  5.  5.  5.  5.  5.  5.  5.  5.  6.  6.\n",
      "  5.  5.  1.  6.  6.  5.  6.  1.  6.  5.  7.  2.  5.  5.  6.  2.  6.  1.\n",
      "  6.  4.  6.  6.  6.  6.  6.  6.  6.  5.  6.  7.  6.  2.  6.  6.  6.  7.\n",
      "  7.  7.  7.  7.  7.  7.  7.  5.  5.  5.  6.  5.  5.  2.  1.  1.  2.  2.\n",
      "  2.  2.  5.  5.  1.  1.  5.  5.  1.  5.  5.  7.  6.  6.  3.  4.  4.  1.\n",
      "  7.  5.  6.  7.  7.  5.  5.]\n"
     ]
    }
   ],
   "source": [
    "print votes\n",
    "seed_data['Cambridge_Scale7_label'] = votes\n",
    "print seed_data['Cambridge_Scale7_label'].values"
   ]
  },
  {
   "cell_type": "code",
   "execution_count": 15,
   "metadata": {
    "collapsed": true
   },
   "outputs": [],
   "source": [
    "seed_data.to_csv('20160314_MCI_Seed_Regions_christian_assigned.csv')"
   ]
  },
  {
   "cell_type": "code",
   "execution_count": 16,
   "metadata": {
    "collapsed": false
   },
   "outputs": [],
   "source": [
    "def gen1perm(n_seeds,proba):\n",
    "    ratio_votes_1study = np.zeros_like(proba)\n",
    "    perm_votes = np.random.choice(range(0,len(proba)),size=(n_seeds,1),p=proba)\n",
    "    for j in perm_votes:\n",
    "        ratio_votes_1study[j] = (perm_votes == j).sum()/float(len(perm_votes))\n",
    "    return ratio_votes_1study\n",
    "\n",
    "# check if the proba is respected \n",
    "#print proba_networks\n",
    "#gen1perm(10000,proba_networks)\n",
    "#ange(0,len(proba_networks))"
   ]
  },
  {
   "cell_type": "markdown",
   "metadata": {},
   "source": [
    "## Generate random coordinates\n",
    "#### The assigned coodinates are generated for each network witha proability equivalent to there volume size compare to the total volume of the brain"
   ]
  },
  {
   "cell_type": "code",
   "execution_count": 17,
   "metadata": {
    "collapsed": false
   },
   "outputs": [
    {
     "name": "stdout",
     "output_type": "stream",
     "text": [
      "1.0\n",
      "[ 0.12507354  0.0961412   0.08271327  0.11642153  0.15549403  0.21121301\n",
      "  0.21294342]\n"
     ]
    }
   ],
   "source": [
    "'''\n",
    "from numpy.random import permutation\n",
    "def permute_table(frequency_votes,n_iter):\n",
    "    h0_results = []\n",
    "    for n in range(n_iter):\n",
    "        perm_freq = frequency_votes.copy()\n",
    "        #print perm_freq\n",
    "        for i in range(perm_freq.shape[0]):\n",
    "            perm_freq[i,:] = permutation(perm_freq[i,:])\n",
    "        #print perm_freq\n",
    "        h0_results.append(np.mean(perm_freq,axis=0))\n",
    "    return np.array(h0_results).T\n",
    "'''\n",
    "def compute_freq(votes,data_ratio_votes,seed_data,proba):\n",
    "    # take one vote for each study only\n",
    "    uni_pmid = np.unique(seed_data['PMID'])\n",
    "    ratio_votes=np.zeros((data_ratio_votes.shape[0],data_ratio_votes.shape[1],10000))\n",
    "    for idx_perm in range(ratio_votes.shape[-1]):\n",
    "        #    frequency_votes = np.hstack((frequency_votes,np.unique(votes[(seed_data['PMID']==uni_pmid[i]).values])))\n",
    "        for i in range(len(uni_pmid)):\n",
    "            aa = votes[(seed_data['PMID']==uni_pmid[i]).values]\n",
    "            n_seeds = len(aa)\n",
    "            ratio_votes[i,:,idx_perm] = gen1perm(n_seeds,proba)\n",
    "        #print ratio_votes.shape\n",
    "    # compute the frequency\n",
    "    freq_data = np.mean(ratio_votes,axis=0)\n",
    "        \n",
    "    for i in range(freq_data.shape[0]):\n",
    "        freq_data[i,:] = np.sort(freq_data[i,:])[::-1]\n",
    "        \n",
    "    return freq_data\n",
    "\n",
    "# Total volume of the brain\n",
    "total_volume = np.sum(template.get_data()>0)\n",
    "\n",
    "# compute the proba of each network\n",
    "proba_networks=[]\n",
    "for i in range(1,len(network_votes)+1):\n",
    "    proba_networks.append(np.sum(template.get_data()==i)/(total_volume*1.))\n",
    "proba_networks = np.array(proba_networks)\n",
    "print np.sum(proba_networks)\n",
    "print proba_networks\n",
    "\n",
    "# generate random values \n",
    "'''\n",
    "def gen_rnd_hits(proba,n_seeds):\n",
    "    results_h0 =  np.random.choice(range(0,len(proba)),size=(n_seeds,1000),p=proba)\n",
    "    #results_h0 = permute_table(frequency_votes,1000)\n",
    "    print results_h0.shape\n",
    "    ditributions = []\n",
    "    for i in range(frequency_votes.shape[1]):\n",
    "        results_h0[i,:] = np.sort(results_h0[i,:])[::-1]\n",
    "        #ditributions.append(one_way_pdf)   \n",
    "    #return ditributions\n",
    "    return results_h0\n",
    "'''\n",
    "#dist_data = gen_rnd_hits(proba_networks,np.sum(network_votes))\n",
    "dist_data = compute_freq(votes,frequency_votes,seed_data,proba_networks)"
   ]
  },
  {
   "cell_type": "code",
   "execution_count": 18,
   "metadata": {
    "collapsed": false
   },
   "outputs": [
    {
     "data": {
      "text/plain": [
       "[<matplotlib.lines.Line2D at 0x7f2bc5190390>]"
      ]
     },
     "execution_count": 18,
     "metadata": {},
     "output_type": "execute_result"
    },
    {
     "data": {
      "image/png": "[encoded data removed]",
      "text/plain": [
       "<matplotlib.figure.Figure at 0x7f2bfc693c50>"
      ]
     },
     "metadata": {},
     "output_type": "display_data"
    },
    {
     "data": {
      "image/png": "[encoded data removed]",
      "text/plain": [
       "<matplotlib.figure.Figure at 0x7f2bc86633d0>"
      ]
     },
     "metadata": {},
     "output_type": "display_data"
    }
   ],
   "source": [
    "plt.figure()\n",
    "plt.hist(dist_data[0],bins=np.arange(0,1,.01))\n",
    "plt.figure()\n",
    "plt.plot(dist_data[0].T)"
   ]
  },
  {
   "cell_type": "markdown",
   "metadata": {},
   "source": [
    "## Generate the p-values for each network"
   ]
  },
  {
   "cell_type": "code",
   "execution_count": 19,
   "metadata": {
    "collapsed": false
   },
   "outputs": [
    {
     "name": "stdout",
     "output_type": "stream",
     "text": [
      "[ 0.01815719  0.09214608  0.01510698  0.04595165  0.53233321  0.16435307\n",
      "  0.13195182]\n",
      "[1.0, 0.51494850514948509, 1.0, 0.9973002699730027, 9.9990000999900015e-05, 0.8617138286171383, 0.97820217978202184]\n"
     ]
    },
    {
     "data": {
      "text/plain": [
       "<matplotlib.text.Text at 0x7f2bc50fb910>"
      ]
     },
     "execution_count": 19,
     "metadata": {},
     "output_type": "execute_result"
    },
    {
     "data": {
      "image/png": "[encoded data removed]",
      "text/plain": [
       "<matplotlib.figure.Figure at 0x7f2bc51be150>"
      ]
     },
     "metadata": {},
     "output_type": "display_data"
    }
   ],
   "source": [
    "def getpval_old(nhit,dist_data):\n",
    "    distribution_val =  np.histogram(dist_data,bins=np.arange(0,1,0.01))\n",
    "    idx_bin = np.where((distribution_val[1]>=round(nhit,2)) & (distribution_val[1]<=round(nhit,2)))[0][0]\n",
    "    #print distribution_val[1]\n",
    "    return (np.sum(distribution_val[0][idx_bin:-1])+1)/(dist_data.shape[0]+1.)\n",
    "\n",
    "def getpval(target,dist_data):\n",
    "    dist_sorted = np.sort(np.copy(dist_data))\n",
    "    b = np.sum(dist_sorted > target)\n",
    "    #print b\n",
    "    #print dist_data.shape[0]\n",
    "    #print distribution_val[1]\n",
    "    return ((b+1.)/(dist_data.shape[0]+1.))\n",
    "\n",
    "print network_votes\n",
    "\n",
    "pval_results=[]\n",
    "for i in range(0,len(dist_data)):\n",
    "    pval_results.append(getpval(network_votes[i],dist_data[i,:]))\n",
    "    \n",
    "print pval_results\n",
    "plt.figure()\n",
    "plt.bar(np.arange(1,len(pval_results)+1),pval_results,width=0.5,align='center')\n",
    "plt.xlabel('Networks')\n",
    "plt.ylabel('p-value')"
   ]
  },
  {
   "cell_type": "markdown",
   "metadata": {
    "collapsed": true
   },
   "source": [
    "### Map the p-values to the template"
   ]
  },
  {
   "cell_type": "code",
   "execution_count": 20,
   "metadata": {
    "collapsed": false
   },
   "outputs": [
    {
     "data": {
      "text/plain": [
       "<nilearn.plotting.displays.OrthoSlicer at 0x7f2bb475f110>"
      ]
     },
     "execution_count": 20,
     "metadata": {},
     "output_type": "execute_result"
    },
    {
     "data": {
      "text/plain": [
       "<matplotlib.figure.Figure at 0x7f2bb4ba15d0>"
      ]
     },
     "metadata": {},
     "output_type": "display_data"
    },
    {
     "data": {
      "image/png": "[encoded data removed]",
      "text/plain": [
       "<matplotlib.figure.Figure at 0x7f2bdec3d990>"
      ]
     },
     "metadata": {},
     "output_type": "display_data"
    },
    {
     "data": {
      "text/plain": [
       "<matplotlib.figure.Figure at 0x7f2bb4bf9710>"
      ]
     },
     "metadata": {},
     "output_type": "display_data"
    },
    {
     "data": {
      "image/png": "[encoded data removed]",
      "text/plain": [
       "<matplotlib.figure.Figure at 0x7f2bb47caa50>"
      ]
     },
     "metadata": {},
     "output_type": "display_data"
    }
   ],
   "source": [
    "from proteus.matrix import tseries as ts\n",
    "hitfreq_vol = ts.vec2map(network_votes,template)\n",
    "pval_vol = ts.vec2map(1-np.array(pval_results),template)\n",
    "plt.figure()\n",
    "plotting.plot_stat_map(hitfreq_vol,cut_coords=(0,0,0),draw_cross=False)\n",
    "plt.figure()\n",
    "plotting.plot_stat_map(pval_vol,cut_coords=(0,0,0),draw_cross=False)\n"
   ]
  },
  {
   "cell_type": "markdown",
   "metadata": {},
   "source": [
    "#### FDR correction of the p-values"
   ]
  },
  {
   "cell_type": "code",
   "execution_count": 21,
   "metadata": {
    "collapsed": false,
    "scrolled": true
   },
   "outputs": [
    {
     "name": "stdout",
     "output_type": "stream",
     "text": [
      "[ 0.01815719  0.09214608  0.01510698  0.04595165  0.53233321  0.16435307\n",
      "  0.13195182]\n",
      "[False False False False  True False False]\n",
      "[  1.00000000e+00   1.00000000e+00   1.00000000e+00   1.00000000e+00\n",
      "   6.99930007e-04   1.00000000e+00   1.00000000e+00]\n"
     ]
    }
   ],
   "source": [
    "# correct for FRD\n",
    "from statsmodels.sandbox.stats.multicomp import fdrcorrection0\n",
    "\n",
    "fdr_test,fdr_pval=fdrcorrection0(pval_results,alpha=0.05)\n",
    "print network_votes\n",
    "print fdr_test\n",
    "print fdr_pval"
   ]
  },
  {
   "cell_type": "code",
   "execution_count": 22,
   "metadata": {
    "collapsed": false
   },
   "outputs": [],
   "source": [
    "# save the results\n",
    "\n",
    "path_output = '/home/cdansereau/git/Projects/metaad/maps_results/'\n",
    "stats_results = {'Hits':network_votes ,'pvalues':pval_results,'fdr_test':fdr_test,'fdr_pval':fdr_pval,'n_outofbrain':n_outofbrain}\n",
    "scipy.io.savemat(path_output + output_stats, stats_results)\n",
    "hitfreq_vol.to_filename(os.path.join(path_output,output_vol))\n",
    "#hitfreq_vol.to_filename(os.path.join('/home/cdansereau/git/Projects/metaad/maps_results/','AD_pval_vol.nii.gz'))"
   ]
  }
 ],
 "metadata": {
  "kernelspec": {
   "display_name": "Python 2",
   "language": "python",
   "name": "python2"
  },
  "language_info": {
   "codemirror_mode": {
    "name": "ipython",
    "version": 2
   },
   "file_extension": ".py",
   "mimetype": "text/x-python",
   "name": "python",
   "nbconvert_exporter": "python",
   "pygments_lexer": "ipython2",
   "version": "2.7.12"
  }
 },
 "nbformat": 4,
 "nbformat_minor": 0
}
