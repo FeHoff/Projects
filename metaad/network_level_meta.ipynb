{
 "cells": [
  {
   "cell_type": "code",
   "execution_count": 266,
   "metadata": {
    "collapsed": false
   },
   "outputs": [],
   "source": [
    "# AUTHOR Christian Dansereau 2016\n",
    "\n",
    "%matplotlib inline\n",
    "import numpy as np\n",
    "import matplotlib.pyplot as plt\n",
    "\n",
    "import pandas as pd\n",
    "import scipy.io\n",
    "import os\n",
    "import nibabel as nib\n",
    "from nibabel.affines import apply_affine\n",
    "from nilearn import plotting\n",
    "import numpy.linalg as npl"
   ]
  },
  {
   "cell_type": "markdown",
   "metadata": {},
   "source": [
    "# Load data"
   ]
  },
  {
   "cell_type": "code",
   "execution_count": 267,
   "metadata": {
    "collapsed": false
   },
   "outputs": [],
   "source": [
    "#seed_data = pd.read_csv('20160128_AD_Decrease_Meta_Christian.csv')\n",
    "\n",
    "#seed_data = pd.read_csv('20160129_AD_Decrease_Meta_Final.csv')\n",
    "#seed_data = pd.read_csv('20160129_AD_Increase_Meta_Final.csv')\n",
    "\n",
    "#seed_data = pd.read_csv('20160129_MCI_Decrease_Meta_Final.csv')\n",
    "seed_data = pd.read_csv('20160129_MCI_Increase_Meta_Final.csv')\n",
    "\n",
    "\n",
    "template_036= nib.load('/home/cdansereau/data/template_cambridge_basc_multiscale_nii_sym/template_cambridge_basc_multiscale_sym_scale036.nii.gz')\n",
    "template_020= nib.load('/home/cdansereau/data/template_cambridge_basc_multiscale_nii_sym/template_cambridge_basc_multiscale_sym_scale020.nii.gz')\n",
    "template_012= nib.load('/home/cdansereau/data/template_cambridge_basc_multiscale_nii_sym/template_cambridge_basc_multiscale_sym_scale012.nii.gz')\n",
    "template_007= nib.load('/home/cdansereau/data/template_cambridge_basc_multiscale_nii_sym/template_cambridge_basc_multiscale_sym_scale007.nii.gz')\n",
    "\n",
    "template = template_036"
   ]
  },
  {
   "cell_type": "code",
   "execution_count": 268,
   "metadata": {
    "collapsed": false
   },
   "outputs": [
    {
     "data": {
      "text/html": [
       "<div>\n",
       "<table border=\"1\" class=\"dataframe\">\n",
       "  <thead>\n",
       "    <tr style=\"text-align: right;\">\n",
       "      <th></th>\n",
       "      <th>PMID</th>\n",
       "      <th>Author</th>\n",
       "      <th>Year</th>\n",
       "      <th>subjects</th>\n",
       "      <th>x</th>\n",
       "      <th>y</th>\n",
       "      <th>z</th>\n",
       "      <th>Contrast</th>\n",
       "      <th>Direction</th>\n",
       "    </tr>\n",
       "  </thead>\n",
       "  <tbody>\n",
       "    <tr>\n",
       "      <th>0</th>\n",
       "      <td>19765560</td>\n",
       "      <td>Bai</td>\n",
       "      <td>2009</td>\n",
       "      <td>56</td>\n",
       "      <td>-9.00</td>\n",
       "      <td>57.00</td>\n",
       "      <td>-12.00</td>\n",
       "      <td>MCI</td>\n",
       "      <td>Increase</td>\n",
       "    </tr>\n",
       "    <tr>\n",
       "      <th>1</th>\n",
       "      <td>19765560</td>\n",
       "      <td>Bai</td>\n",
       "      <td>2009</td>\n",
       "      <td>56</td>\n",
       "      <td>3.00</td>\n",
       "      <td>57.00</td>\n",
       "      <td>-15.00</td>\n",
       "      <td>MCI</td>\n",
       "      <td>Increase</td>\n",
       "    </tr>\n",
       "    <tr>\n",
       "      <th>2</th>\n",
       "      <td>19765560</td>\n",
       "      <td>Bai</td>\n",
       "      <td>2009</td>\n",
       "      <td>56</td>\n",
       "      <td>-6.00</td>\n",
       "      <td>36.00</td>\n",
       "      <td>33.00</td>\n",
       "      <td>MCI</td>\n",
       "      <td>Increase</td>\n",
       "    </tr>\n",
       "    <tr>\n",
       "      <th>3</th>\n",
       "      <td>19765560</td>\n",
       "      <td>Bai</td>\n",
       "      <td>2009</td>\n",
       "      <td>56</td>\n",
       "      <td>-39.00</td>\n",
       "      <td>33.00</td>\n",
       "      <td>-18.00</td>\n",
       "      <td>MCI</td>\n",
       "      <td>Increase</td>\n",
       "    </tr>\n",
       "    <tr>\n",
       "      <th>4</th>\n",
       "      <td>19765560</td>\n",
       "      <td>Bai</td>\n",
       "      <td>2009</td>\n",
       "      <td>56</td>\n",
       "      <td>-39.00</td>\n",
       "      <td>-18.00</td>\n",
       "      <td>-30.00</td>\n",
       "      <td>MCI</td>\n",
       "      <td>Increase</td>\n",
       "    </tr>\n",
       "    <tr>\n",
       "      <th>5</th>\n",
       "      <td>20930266</td>\n",
       "      <td>Bai</td>\n",
       "      <td>2011</td>\n",
       "      <td>44</td>\n",
       "      <td>-15.00</td>\n",
       "      <td>-45.00</td>\n",
       "      <td>-48.00</td>\n",
       "      <td>MCI</td>\n",
       "      <td>Increase</td>\n",
       "    </tr>\n",
       "    <tr>\n",
       "      <th>6</th>\n",
       "      <td>20930266</td>\n",
       "      <td>Bai</td>\n",
       "      <td>2011</td>\n",
       "      <td>44</td>\n",
       "      <td>-15.00</td>\n",
       "      <td>-45.00</td>\n",
       "      <td>-45.00</td>\n",
       "      <td>MCI</td>\n",
       "      <td>Increase</td>\n",
       "    </tr>\n",
       "    <tr>\n",
       "      <th>7</th>\n",
       "      <td>20930266</td>\n",
       "      <td>Bai</td>\n",
       "      <td>2011</td>\n",
       "      <td>44</td>\n",
       "      <td>3.00</td>\n",
       "      <td>-57.00</td>\n",
       "      <td>12.00</td>\n",
       "      <td>MCI</td>\n",
       "      <td>Increase</td>\n",
       "    </tr>\n",
       "    <tr>\n",
       "      <th>8</th>\n",
       "      <td>20930266</td>\n",
       "      <td>Bai</td>\n",
       "      <td>2011</td>\n",
       "      <td>44</td>\n",
       "      <td>-3.00</td>\n",
       "      <td>-63.00</td>\n",
       "      <td>9.00</td>\n",
       "      <td>MCI</td>\n",
       "      <td>Increase</td>\n",
       "    </tr>\n",
       "    <tr>\n",
       "      <th>9</th>\n",
       "      <td>21982164</td>\n",
       "      <td>Jin</td>\n",
       "      <td>2012</td>\n",
       "      <td>16</td>\n",
       "      <td>8.00</td>\n",
       "      <td>46.00</td>\n",
       "      <td>36.00</td>\n",
       "      <td>MCI</td>\n",
       "      <td>Increase</td>\n",
       "    </tr>\n",
       "    <tr>\n",
       "      <th>10</th>\n",
       "      <td>21982164</td>\n",
       "      <td>Jin</td>\n",
       "      <td>2012</td>\n",
       "      <td>16</td>\n",
       "      <td>-46.00</td>\n",
       "      <td>-42.00</td>\n",
       "      <td>54.00</td>\n",
       "      <td>MCI</td>\n",
       "      <td>Increase</td>\n",
       "    </tr>\n",
       "    <tr>\n",
       "      <th>11</th>\n",
       "      <td>21982164</td>\n",
       "      <td>Jin</td>\n",
       "      <td>2012</td>\n",
       "      <td>16</td>\n",
       "      <td>-2.00</td>\n",
       "      <td>-30.00</td>\n",
       "      <td>36.00</td>\n",
       "      <td>MCI</td>\n",
       "      <td>Increase</td>\n",
       "    </tr>\n",
       "    <tr>\n",
       "      <th>12</th>\n",
       "      <td>21982164</td>\n",
       "      <td>Jin</td>\n",
       "      <td>2012</td>\n",
       "      <td>16</td>\n",
       "      <td>4.00</td>\n",
       "      <td>-28.00</td>\n",
       "      <td>36.00</td>\n",
       "      <td>MCI</td>\n",
       "      <td>Increase</td>\n",
       "    </tr>\n",
       "    <tr>\n",
       "      <th>13</th>\n",
       "      <td>22005016</td>\n",
       "      <td>Han</td>\n",
       "      <td>2012</td>\n",
       "      <td>80</td>\n",
       "      <td>-45.00</td>\n",
       "      <td>-27.00</td>\n",
       "      <td>-27.00</td>\n",
       "      <td>MCI</td>\n",
       "      <td>Increase</td>\n",
       "    </tr>\n",
       "    <tr>\n",
       "      <th>14</th>\n",
       "      <td>22005016</td>\n",
       "      <td>Han</td>\n",
       "      <td>2012</td>\n",
       "      <td>80</td>\n",
       "      <td>-6.00</td>\n",
       "      <td>30.00</td>\n",
       "      <td>-27.00</td>\n",
       "      <td>MCI</td>\n",
       "      <td>Increase</td>\n",
       "    </tr>\n",
       "    <tr>\n",
       "      <th>15</th>\n",
       "      <td>22005016</td>\n",
       "      <td>Han</td>\n",
       "      <td>2012</td>\n",
       "      <td>80</td>\n",
       "      <td>60.00</td>\n",
       "      <td>12.00</td>\n",
       "      <td>24.00</td>\n",
       "      <td>MCI</td>\n",
       "      <td>Increase</td>\n",
       "    </tr>\n",
       "    <tr>\n",
       "      <th>16</th>\n",
       "      <td>22005016</td>\n",
       "      <td>Han</td>\n",
       "      <td>2012</td>\n",
       "      <td>80</td>\n",
       "      <td>-57.00</td>\n",
       "      <td>-9.00</td>\n",
       "      <td>36.00</td>\n",
       "      <td>MCI</td>\n",
       "      <td>Increase</td>\n",
       "    </tr>\n",
       "    <tr>\n",
       "      <th>17</th>\n",
       "      <td>22451310</td>\n",
       "      <td>Liang</td>\n",
       "      <td>2012</td>\n",
       "      <td>32</td>\n",
       "      <td>-15.00</td>\n",
       "      <td>-6.00</td>\n",
       "      <td>21.00</td>\n",
       "      <td>MCI</td>\n",
       "      <td>Increase</td>\n",
       "    </tr>\n",
       "    <tr>\n",
       "      <th>18</th>\n",
       "      <td>22451310</td>\n",
       "      <td>Liang</td>\n",
       "      <td>2012</td>\n",
       "      <td>32</td>\n",
       "      <td>-6.00</td>\n",
       "      <td>12.00</td>\n",
       "      <td>3.00</td>\n",
       "      <td>MCI</td>\n",
       "      <td>Increase</td>\n",
       "    </tr>\n",
       "    <tr>\n",
       "      <th>19</th>\n",
       "      <td>22451310</td>\n",
       "      <td>Liang</td>\n",
       "      <td>2012</td>\n",
       "      <td>32</td>\n",
       "      <td>-15.00</td>\n",
       "      <td>12.00</td>\n",
       "      <td>12.00</td>\n",
       "      <td>MCI</td>\n",
       "      <td>Increase</td>\n",
       "    </tr>\n",
       "    <tr>\n",
       "      <th>20</th>\n",
       "      <td>22451310</td>\n",
       "      <td>Liang</td>\n",
       "      <td>2012</td>\n",
       "      <td>32</td>\n",
       "      <td>-6.00</td>\n",
       "      <td>-12.00</td>\n",
       "      <td>3.00</td>\n",
       "      <td>MCI</td>\n",
       "      <td>Increase</td>\n",
       "    </tr>\n",
       "    <tr>\n",
       "      <th>21</th>\n",
       "      <td>22451310</td>\n",
       "      <td>Liang</td>\n",
       "      <td>2012</td>\n",
       "      <td>32</td>\n",
       "      <td>-9.00</td>\n",
       "      <td>-12.00</td>\n",
       "      <td>12.00</td>\n",
       "      <td>MCI</td>\n",
       "      <td>Increase</td>\n",
       "    </tr>\n",
       "    <tr>\n",
       "      <th>22</th>\n",
       "      <td>22451310</td>\n",
       "      <td>Liang</td>\n",
       "      <td>2012</td>\n",
       "      <td>32</td>\n",
       "      <td>-45.00</td>\n",
       "      <td>-27.00</td>\n",
       "      <td>15.00</td>\n",
       "      <td>MCI</td>\n",
       "      <td>Increase</td>\n",
       "    </tr>\n",
       "    <tr>\n",
       "      <th>23</th>\n",
       "      <td>22451310</td>\n",
       "      <td>Liang</td>\n",
       "      <td>2012</td>\n",
       "      <td>32</td>\n",
       "      <td>-39.00</td>\n",
       "      <td>-33.00</td>\n",
       "      <td>18.00</td>\n",
       "      <td>MCI</td>\n",
       "      <td>Increase</td>\n",
       "    </tr>\n",
       "    <tr>\n",
       "      <th>24</th>\n",
       "      <td>22451310</td>\n",
       "      <td>Liang</td>\n",
       "      <td>2012</td>\n",
       "      <td>32</td>\n",
       "      <td>6.00</td>\n",
       "      <td>-12.00</td>\n",
       "      <td>15.00</td>\n",
       "      <td>MCI</td>\n",
       "      <td>Increase</td>\n",
       "    </tr>\n",
       "    <tr>\n",
       "      <th>25</th>\n",
       "      <td>22451310</td>\n",
       "      <td>Liang</td>\n",
       "      <td>2012</td>\n",
       "      <td>32</td>\n",
       "      <td>15.00</td>\n",
       "      <td>-9.00</td>\n",
       "      <td>12.00</td>\n",
       "      <td>MCI</td>\n",
       "      <td>Increase</td>\n",
       "    </tr>\n",
       "    <tr>\n",
       "      <th>26</th>\n",
       "      <td>22451310</td>\n",
       "      <td>Liang</td>\n",
       "      <td>2012</td>\n",
       "      <td>32</td>\n",
       "      <td>9.00</td>\n",
       "      <td>-12.00</td>\n",
       "      <td>0.00</td>\n",
       "      <td>MCI</td>\n",
       "      <td>Increase</td>\n",
       "    </tr>\n",
       "    <tr>\n",
       "      <th>27</th>\n",
       "      <td>22451310</td>\n",
       "      <td>Liang</td>\n",
       "      <td>2012</td>\n",
       "      <td>32</td>\n",
       "      <td>-36.00</td>\n",
       "      <td>57.00</td>\n",
       "      <td>21.00</td>\n",
       "      <td>MCI</td>\n",
       "      <td>Increase</td>\n",
       "    </tr>\n",
       "    <tr>\n",
       "      <th>28</th>\n",
       "      <td>22451310</td>\n",
       "      <td>Liang</td>\n",
       "      <td>2012</td>\n",
       "      <td>32</td>\n",
       "      <td>-45.00</td>\n",
       "      <td>21.00</td>\n",
       "      <td>39.00</td>\n",
       "      <td>MCI</td>\n",
       "      <td>Increase</td>\n",
       "    </tr>\n",
       "    <tr>\n",
       "      <th>29</th>\n",
       "      <td>25043909</td>\n",
       "      <td>Pasquini</td>\n",
       "      <td>2015</td>\n",
       "      <td>44</td>\n",
       "      <td>-30.00</td>\n",
       "      <td>-14.00</td>\n",
       "      <td>-26.00</td>\n",
       "      <td>MCI</td>\n",
       "      <td>Increase</td>\n",
       "    </tr>\n",
       "    <tr>\n",
       "      <th>30</th>\n",
       "      <td>25547636</td>\n",
       "      <td>Gardini</td>\n",
       "      <td>2015</td>\n",
       "      <td>42</td>\n",
       "      <td>-1.88</td>\n",
       "      <td>-39.72</td>\n",
       "      <td>5.85</td>\n",
       "      <td>MCI</td>\n",
       "      <td>Increase</td>\n",
       "    </tr>\n",
       "    <tr>\n",
       "      <th>31</th>\n",
       "      <td>25547636</td>\n",
       "      <td>Gardini</td>\n",
       "      <td>2015</td>\n",
       "      <td>42</td>\n",
       "      <td>4.47</td>\n",
       "      <td>-42.82</td>\n",
       "      <td>6.03</td>\n",
       "      <td>MCI</td>\n",
       "      <td>Increase</td>\n",
       "    </tr>\n",
       "    <tr>\n",
       "      <th>32</th>\n",
       "      <td>25547636</td>\n",
       "      <td>Gardini</td>\n",
       "      <td>2015</td>\n",
       "      <td>42</td>\n",
       "      <td>42.33</td>\n",
       "      <td>-19.32</td>\n",
       "      <td>-29.10</td>\n",
       "      <td>MCI</td>\n",
       "      <td>Increase</td>\n",
       "    </tr>\n",
       "    <tr>\n",
       "      <th>33</th>\n",
       "      <td>25745400</td>\n",
       "      <td>Yi</td>\n",
       "      <td>2015</td>\n",
       "      <td>32</td>\n",
       "      <td>-20.00</td>\n",
       "      <td>-70.00</td>\n",
       "      <td>16.00</td>\n",
       "      <td>MCI</td>\n",
       "      <td>Increase</td>\n",
       "    </tr>\n",
       "    <tr>\n",
       "      <th>34</th>\n",
       "      <td>25745400</td>\n",
       "      <td>Yi</td>\n",
       "      <td>2015</td>\n",
       "      <td>32</td>\n",
       "      <td>22.00</td>\n",
       "      <td>-68.00</td>\n",
       "      <td>58.00</td>\n",
       "      <td>MCI</td>\n",
       "      <td>Increase</td>\n",
       "    </tr>\n",
       "    <tr>\n",
       "      <th>35</th>\n",
       "      <td>25745400</td>\n",
       "      <td>Yi</td>\n",
       "      <td>2015</td>\n",
       "      <td>32</td>\n",
       "      <td>56.00</td>\n",
       "      <td>-50.00</td>\n",
       "      <td>14.00</td>\n",
       "      <td>MCI</td>\n",
       "      <td>Increase</td>\n",
       "    </tr>\n",
       "    <tr>\n",
       "      <th>36</th>\n",
       "      <td>25745400</td>\n",
       "      <td>Yi</td>\n",
       "      <td>2015</td>\n",
       "      <td>32</td>\n",
       "      <td>-48.00</td>\n",
       "      <td>-72.00</td>\n",
       "      <td>18.00</td>\n",
       "      <td>MCI</td>\n",
       "      <td>Increase</td>\n",
       "    </tr>\n",
       "    <tr>\n",
       "      <th>37</th>\n",
       "      <td>25745400</td>\n",
       "      <td>Yi</td>\n",
       "      <td>2015</td>\n",
       "      <td>32</td>\n",
       "      <td>0.00</td>\n",
       "      <td>-50.00</td>\n",
       "      <td>-2.00</td>\n",
       "      <td>MCI</td>\n",
       "      <td>Increase</td>\n",
       "    </tr>\n",
       "  </tbody>\n",
       "</table>\n",
       "</div>"
      ],
      "text/plain": [
       "        PMID   Author   Year  subjects      x      y      z Contrast Direction\n",
       "0   19765560       Bai  2009        56  -9.00  57.00 -12.00      MCI  Increase\n",
       "1   19765560       Bai  2009        56   3.00  57.00 -15.00      MCI  Increase\n",
       "2   19765560       Bai  2009        56  -6.00  36.00  33.00      MCI  Increase\n",
       "3   19765560       Bai  2009        56 -39.00  33.00 -18.00      MCI  Increase\n",
       "4   19765560       Bai  2009        56 -39.00 -18.00 -30.00      MCI  Increase\n",
       "5   20930266       Bai  2011        44 -15.00 -45.00 -48.00      MCI  Increase\n",
       "6   20930266       Bai  2011        44 -15.00 -45.00 -45.00      MCI  Increase\n",
       "7   20930266       Bai  2011        44   3.00 -57.00  12.00      MCI  Increase\n",
       "8   20930266       Bai  2011        44  -3.00 -63.00   9.00      MCI  Increase\n",
       "9   21982164       Jin  2012        16   8.00  46.00  36.00      MCI  Increase\n",
       "10  21982164       Jin  2012        16 -46.00 -42.00  54.00      MCI  Increase\n",
       "11  21982164       Jin  2012        16  -2.00 -30.00  36.00      MCI  Increase\n",
       "12  21982164       Jin  2012        16   4.00 -28.00  36.00      MCI  Increase\n",
       "13  22005016       Han  2012        80 -45.00 -27.00 -27.00      MCI  Increase\n",
       "14  22005016       Han  2012        80  -6.00  30.00 -27.00      MCI  Increase\n",
       "15  22005016       Han  2012        80  60.00  12.00  24.00      MCI  Increase\n",
       "16  22005016       Han  2012        80 -57.00  -9.00  36.00      MCI  Increase\n",
       "17  22451310     Liang  2012        32 -15.00  -6.00  21.00      MCI  Increase\n",
       "18  22451310     Liang  2012        32  -6.00  12.00   3.00      MCI  Increase\n",
       "19  22451310     Liang  2012        32 -15.00  12.00  12.00      MCI  Increase\n",
       "20  22451310     Liang  2012        32  -6.00 -12.00   3.00      MCI  Increase\n",
       "21  22451310     Liang  2012        32  -9.00 -12.00  12.00      MCI  Increase\n",
       "22  22451310     Liang  2012        32 -45.00 -27.00  15.00      MCI  Increase\n",
       "23  22451310     Liang  2012        32 -39.00 -33.00  18.00      MCI  Increase\n",
       "24  22451310     Liang  2012        32   6.00 -12.00  15.00      MCI  Increase\n",
       "25  22451310     Liang  2012        32  15.00  -9.00  12.00      MCI  Increase\n",
       "26  22451310     Liang  2012        32   9.00 -12.00   0.00      MCI  Increase\n",
       "27  22451310     Liang  2012        32 -36.00  57.00  21.00      MCI  Increase\n",
       "28  22451310     Liang  2012        32 -45.00  21.00  39.00      MCI  Increase\n",
       "29  25043909  Pasquini  2015        44 -30.00 -14.00 -26.00      MCI  Increase\n",
       "30  25547636   Gardini  2015        42  -1.88 -39.72   5.85      MCI  Increase\n",
       "31  25547636   Gardini  2015        42   4.47 -42.82   6.03      MCI  Increase\n",
       "32  25547636   Gardini  2015        42  42.33 -19.32 -29.10      MCI  Increase\n",
       "33  25745400        Yi  2015        32 -20.00 -70.00  16.00      MCI  Increase\n",
       "34  25745400        Yi  2015        32  22.00 -68.00  58.00      MCI  Increase\n",
       "35  25745400        Yi  2015        32  56.00 -50.00  14.00      MCI  Increase\n",
       "36  25745400        Yi  2015        32 -48.00 -72.00  18.00      MCI  Increase\n",
       "37  25745400        Yi  2015        32   0.00 -50.00  -2.00      MCI  Increase"
      ]
     },
     "execution_count": 268,
     "metadata": {},
     "output_type": "execute_result"
    }
   ],
   "source": [
    "seed_data"
   ]
  },
  {
   "cell_type": "markdown",
   "metadata": {
    "collapsed": true
   },
   "source": [
    "## Get the number of coordinates reported for each network"
   ]
  },
  {
   "cell_type": "code",
   "execution_count": 269,
   "metadata": {
    "collapsed": false
   },
   "outputs": [
    {
     "name": "stdout",
     "output_type": "stream",
     "text": [
      "[ 0.  0.  1.  1.  2.  0.  0.  5.  0.  1.  0.  3.  0.  2.  0.  0.  0.  2.\n",
      "  0.  0.  0.  1.  0.  0.  2.  0.  0.  0.  1.  2.  2.  3.  1.  1.  0.  2.]\n"
     ]
    }
   ],
   "source": [
    "# Convert from world MNI space to the EPI voxel space\n",
    "def get_world2vox(template, mni_coord):\n",
    "    return np.round(apply_affine(npl.inv(template.get_affine()),mni_coord)+[1])\n",
    "    \n",
    "network_votes = np.zeros((np.max(template.get_data().flatten()),1))[:,0]\n",
    "network_votes\n",
    "\n",
    "# get the voxel coordinates of the MNI seeds\n",
    "vox_corrd = get_world2vox(template,seed_data[['x','y','z']].values)\n",
    "votes = []\n",
    "for i in range(vox_corrd.shape[0]):\n",
    "    votes.append(template.get_data()[vox_corrd[i,0],vox_corrd[i,1],vox_corrd[i,2]])\n",
    "votes = np.array(votes)    \n",
    "\n",
    "for i in range(1,len(network_votes)+1):\n",
    "    network_votes[i-1] = np.sum(votes==i)\n",
    "\n",
    "print network_votes \n",
    "#vox_corrd[np.array(votes)==5,:]"
   ]
  },
  {
   "cell_type": "markdown",
   "metadata": {},
   "source": [
    "## Generate random coordinates\n",
    "#### The assigned coodinates are generated for each network witha proability equivalent to there volume size compare to the total volume of the brain"
   ]
  },
  {
   "cell_type": "code",
   "execution_count": 270,
   "metadata": {
    "collapsed": false
   },
   "outputs": [
    {
     "name": "stdout",
     "output_type": "stream",
     "text": [
      "1.0\n",
      "[ 0.01292611  0.01787506  0.01579858  0.01342793  0.01671569  0.01412009\n",
      "  0.01960547  0.02496972  0.01775394  0.02441599  0.01770202  0.02941685\n",
      "  0.02853435  0.01915556  0.02929573  0.03292957  0.03163177  0.02310088\n",
      "  0.02479668  0.03317183  0.04075099  0.02912269  0.02611178  0.02978024\n",
      "  0.04455788  0.02891504  0.01429313  0.02278941  0.02957259  0.03215089\n",
      "  0.0433293   0.03299879  0.03421007  0.03739401  0.04514622  0.06153314]\n"
     ]
    }
   ],
   "source": [
    "\n",
    "# Total volume of the brain\n",
    "total_volume = np.sum(template.get_data()>0)\n",
    "\n",
    "# compute the proba of each network\n",
    "proba_networks=[]\n",
    "for i in range(1,len(network_votes)+1):\n",
    "    proba_networks.append(np.sum(template.get_data()==i)/(total_volume*1.))\n",
    "proba_networks = np.array(proba_networks)\n",
    "print np.sum(proba_networks)\n",
    "print proba_networks\n",
    "\n",
    "# generate random values \n",
    "def gen_rnd_hits(proba,n_seeds):\n",
    "    results_h0 =  np.random.choice(range(0,len(proba)),size=(n_seeds,1000),p=proba)\n",
    "    ditributions = []\n",
    "    for i in range(len(proba)):\n",
    "        one_way_pdf = np.sort(np.sum(results_h0 == i,axis=0))\n",
    "        ditributions.append(one_way_pdf[::-1])   \n",
    "    return ditributions\n",
    "    \n",
    "dist_data = gen_rnd_hits(proba_networks,np.sum(network_votes[1:]))\n"
   ]
  },
  {
   "cell_type": "code",
   "execution_count": 271,
   "metadata": {
    "collapsed": false
   },
   "outputs": [
    {
     "data": {
      "text/plain": [
       "[<matplotlib.lines.Line2D at 0x7f4cdedb7750>]"
      ]
     },
     "execution_count": 271,
     "metadata": {},
     "output_type": "execute_result"
    },
    {
     "data": {
      "image/png": "[encoded data removed]",
      "text/plain": [
       "<matplotlib.figure.Figure at 0x7f4cdf71ad90>"
      ]
     },
     "metadata": {},
     "output_type": "display_data"
    },
    {
     "data": {
      "image/png": "[encoded data removed]",
      "text/plain": [
       "<matplotlib.figure.Figure at 0x7f4cdff437d0>"
      ]
     },
     "metadata": {},
     "output_type": "display_data"
    }
   ],
   "source": [
    "plt.figure()\n",
    "plt.hist(dist_data[0],bins=np.arange(0,100,1))\n",
    "plt.figure()\n",
    "plt.plot(dist_data[0].T)"
   ]
  },
  {
   "cell_type": "markdown",
   "metadata": {},
   "source": [
    "## Generate the p-values for each network"
   ]
  },
  {
   "cell_type": "code",
   "execution_count": 272,
   "metadata": {
    "collapsed": false
   },
   "outputs": [
    {
     "name": "stdout",
     "output_type": "stream",
     "text": [
      "[ 0.  1.  1.  2.  0.  0.  5.  0.  1.  0.  3.  0.  2.  0.  0.  0.  2.  0.\n",
      "  0.  0.  1.  0.  0.  2.  0.  0.  0.  1.  2.  2.  3.  1.  1.  0.  2.]\n",
      "[1.0, 1.0, 0.38961038961038963, 0.37362637362637363, 0.1068931068931069, 1.0, 1.0, 0.001998001998001998, 1.0, 0.56343656343656345, 1.0, 0.059940059940059943, 1.0, 0.12787212787212787, 1.0, 1.0, 1.0, 0.14885114885114886, 1.0, 1.0, 1.0, 0.59140859140859137, 1.0, 1.0, 0.41458541458541459, 1.0, 1.0, 1.0, 0.62037962037962036, 0.25674325674325676, 0.38761238761238759, 0.095904095904095904, 0.6793206793206793, 0.68231768231768231, 1.0, 0.61738261738261735]\n"
     ]
    },
    {
     "data": {
      "text/plain": [
       "<matplotlib.text.Text at 0x7f4cdecdcb50>"
      ]
     },
     "execution_count": 272,
     "metadata": {},
     "output_type": "execute_result"
    },
    {
     "data": {
      "image/png": "[encoded data removed]",
      "text/plain": [
       "<matplotlib.figure.Figure at 0x7f4cdff4bf90>"
      ]
     },
     "metadata": {},
     "output_type": "display_data"
    }
   ],
   "source": [
    "def getpval(nhit,dist_data):\n",
    "    distribution_val =  np.histogram(dist_data,bins=np.arange(0,100,1))\n",
    "    return (np.sum(distribution_val[0][nhit:-1])+1)/(dist_data.shape[0]+1.)\n",
    "\n",
    "print network_votes[1:]\n",
    "\n",
    "pval_results=[]\n",
    "for i in range(0,len(dist_data)):\n",
    "    pval_results.append(getpval(network_votes[i],dist_data[i]))\n",
    "    \n",
    "print pval_results\n",
    "plt.figure()\n",
    "plt.bar(np.arange(1,len(pval_results)+1),pval_results,width=0.5,align='center')\n",
    "plt.xlabel('Networks')\n",
    "plt.ylabel('p-value')"
   ]
  },
  {
   "cell_type": "markdown",
   "metadata": {
    "collapsed": true
   },
   "source": [
    "### Map the p-values to the template"
   ]
  },
  {
   "cell_type": "code",
   "execution_count": 273,
   "metadata": {
    "collapsed": false
   },
   "outputs": [
    {
     "data": {
      "text/plain": [
       "<nilearn.plotting.displays.OrthoSlicer at 0x7f4cde87ae10>"
      ]
     },
     "execution_count": 273,
     "metadata": {},
     "output_type": "execute_result"
    },
    {
     "data": {
      "text/plain": [
       "<matplotlib.figure.Figure at 0x7f4cdfa7ea50>"
      ]
     },
     "metadata": {},
     "output_type": "display_data"
    },
    {
     "data": {
      "image/png": "[encoded data removed]",
      "text/plain": [
       "<matplotlib.figure.Figure at 0x7f4cdef49790>"
      ]
     },
     "metadata": {},
     "output_type": "display_data"
    },
    {
     "data": {
      "text/plain": [
       "<matplotlib.figure.Figure at 0x7f4cdf9341d0>"
      ]
     },
     "metadata": {},
     "output_type": "display_data"
    },
    {
     "data": {
      "image/png": "[encoded data removed]",
      "text/plain": [
       "<matplotlib.figure.Figure at 0x7f4cde8fa4d0>"
      ]
     },
     "metadata": {},
     "output_type": "display_data"
    }
   ],
   "source": [
    "from proteus.matrix import tseries as ts\n",
    "hitfreq_vol = ts.vec2map(network_votes,template)\n",
    "pval_vol = ts.vec2map(1-np.array(pval_results),template)\n",
    "plt.figure()\n",
    "plotting.plot_stat_map(hitfreq_vol,cut_coords=(0,0,0),draw_cross=False)\n",
    "plt.figure()\n",
    "plotting.plot_stat_map(pval_vol,cut_coords=(0,0,0),draw_cross=False)\n"
   ]
  },
  {
   "cell_type": "markdown",
   "metadata": {},
   "source": [
    "#### FDR correction of the p-values"
   ]
  },
  {
   "cell_type": "code",
   "execution_count": 274,
   "metadata": {
    "collapsed": false,
    "scrolled": true
   },
   "outputs": [],
   "source": [
    "# correct for FRD\n",
    "from statsmodels.sandbox.stats.multicomp import fdrcorrection0\n",
    "\n",
    "fdr_test,fdr_pval=fdrcorrection0(pval_results,alpha=0.05)"
   ]
  },
  {
   "cell_type": "code",
   "execution_count": 275,
   "metadata": {
    "collapsed": false
   },
   "outputs": [
    {
     "name": "stdout",
     "output_type": "stream",
     "text": [
      "[ 0.  0.  1.  1.  2.  0.  0.  5.  0.  1.  0.  3.  0.  2.  0.  0.  0.  2.\n",
      "  0.  0.  0.  1.  0.  0.  2.  0.  0.  0.  1.  2.  2.  3.  1.  1.  0.  2.]\n",
      "[False False False False False False False False False False False False\n",
      " False False False False False False False False False False False False\n",
      " False False False False False False False False False False False False]\n"
     ]
    }
   ],
   "source": [
    "print network_votes\n",
    "print fdr_test"
   ]
  },
  {
   "cell_type": "code",
   "execution_count": 276,
   "metadata": {
    "collapsed": false
   },
   "outputs": [],
   "source": [
    "# save the results\n",
    "path_output = '/home/cdansereau/git/Projects/metaad/maps_results/'\n",
    "stats_results = {'Hits':network_votes ,'pvalues':pval_results,'fdr_test':fdr_test,'fdr_pval':fdr_pval}\n",
    "scipy.io.savemat(path_output + 'MCI_increase_scale36_stats.mat',stats_results)\n",
    "hitfreq_vol.to_filename(os.path.join(path_output,'MCI_increase_hitfreq_scale36_vol.nii.gz'))\n",
    "#hitfreq_vol.to_filename(os.path.join('/home/cdansereau/git/Projects/metaad/maps_results/','AD_pval_vol.nii.gz'))"
   ]
  }
 ],
 "metadata": {
  "kernelspec": {
   "display_name": "Python 2",
   "language": "python",
   "name": "python2"
  },
  "language_info": {
   "codemirror_mode": {
    "name": "ipython",
    "version": 2
   },
   "file_extension": ".py",
   "mimetype": "text/x-python",
   "name": "python",
   "nbconvert_exporter": "python",
   "pygments_lexer": "ipython2",
   "version": "2.7.11"
  }
 },
 "nbformat": 4,
 "nbformat_minor": 0
}
