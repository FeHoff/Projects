{
 "cells": [
  {
   "cell_type": "markdown",
   "metadata": {},
   "source": [
    "# Generate the model and the inputs for UM1"
   ]
  },
  {
   "cell_type": "code",
   "execution_count": 1,
   "metadata": {
    "collapsed": true
   },
   "outputs": [],
   "source": [
    "# Imports\n",
    "import os\n",
    "import numpy as np\n",
    "import pandas as pd\n",
    "from scipy import io as sio"
   ]
  },
  {
   "cell_type": "code",
   "execution_count": 2,
   "metadata": {
    "collapsed": true
   },
   "outputs": [],
   "source": [
    "in_pheno = '/home/surchs/GDrive/Projects/Subtypes/TRT/pAD_base_pass_PRE.csv'\n",
    "in_qc = '/home/surchs/GDrive/Projects/Subtypes/TRT/qc_scrubbing_group.csv'\n",
    "local_root = '/data1/guilimin/data/preventAD/subtype_TRT'\n",
    "raw_path = '/data1/guilimin/database2/preventad/rsn_preprocess_20150831/fmri'\n",
    "\n",
    "name = 'preventAD'\n",
    "scale = 7\n",
    "nb_subtypes = 5\n",
    "procs = 6\n",
    "mask_path = '/data1/guilimin/database2/preventad/mask_mnc/mask.mnc'\n",
    "pipe_folder = os.path.join(local_root, 'subtype/sc{}/pre/'.format(scale, name))\n",
    "model_name = '{}_model.csv'.format(name)\n",
    "model_path = os.path.join(local_root, 'pheno', 'sc{}'.format(scale), model_name)\n",
    "mat_name = '{}_model.mat'.format(name)\n",
    "mat_path = os.path.join(local_root, 'pheno', 'sc{}'.format(scale), mat_name)"
   ]
  },
  {
   "cell_type": "code",
   "execution_count": 3,
   "metadata": {
    "collapsed": true
   },
   "outputs": [],
   "source": [
    "group_var = 'FD_scrubbed'\n",
    "coi = 'FD_scrubbed'\n",
    "model_vars = ['SubID', 'FD_scrubbed']\n",
    "regress_vars = ['FD_scrubbed']"
   ]
  },
  {
   "cell_type": "code",
   "execution_count": 4,
   "metadata": {
    "collapsed": false
   },
   "outputs": [],
   "source": [
    "# Get the files\n",
    "pheno = pd.read_csv(in_pheno)\n",
    "qc = pd.read_csv(in_qc)\n",
    "qc.rename(columns={' ':'SubID'}, inplace=True)\n",
    "# Get the list of subject names in the sample\n",
    "subs = list(pheno['CandID'].astype(str))\n",
    "qc.SubID = qc.SubID.astype(str)"
   ]
  },
  {
   "cell_type": "code",
   "execution_count": 5,
   "metadata": {
    "collapsed": false
   },
   "outputs": [],
   "source": [
    "# Get the raw files for each subject in subs\n",
    "data_frame = pd.DataFrame()\n",
    "data_dict = dict()\n",
    "path_list = list()\n",
    "sub_list = list()\n",
    "for sub in subs:\n",
    "    s_name = 's{}'.format(sub)\n",
    "    data_frame = data_frame.append(qc[qc.SubID.str.contains(sub) & qc.SubID.str.contains('BL00') & qc.SubID.str.contains('rest1')])\n",
    "    f_name = data_frame.tail()['SubID'].values.astype(str)[0].strip(' ')\n",
    "    f_path = os.path.join(raw_path, 'fmri_{}.mnc.gz'.format(f_name))\n",
    "    if os.path.isfile(f_path):\n",
    "        data_dict[s_name] = f_path\n",
    "        path_list.append(f_path)\n",
    "        sub_list.append(s_name)\n",
    "    else:\n",
    "        print('    {} wants {} but it''s  not there'.format(sub))"
   ]
  },
  {
   "cell_type": "code",
   "execution_count": 6,
   "metadata": {
    "collapsed": true
   },
   "outputs": [],
   "source": [
    "path_array = np.array(path_list, dtype=object)\n",
    "sub_array = np.array(sub_list, dtype=object)"
   ]
  },
  {
   "cell_type": "code",
   "execution_count": 7,
   "metadata": {
    "collapsed": true
   },
   "outputs": [],
   "source": [
    "model_dir = os.path.join(local_root, 'pheno', 'sc{}'.format(scale))\n",
    "if not os.path.isdir(model_dir):\n",
    "    os.makedirs(model_dir)"
   ]
  },
  {
   "cell_type": "markdown",
   "metadata": {},
   "source": [
    "## Generate the input structure for the pipeline"
   ]
  },
  {
   "cell_type": "code",
   "execution_count": 8,
   "metadata": {
    "collapsed": true
   },
   "outputs": [],
   "source": [
    "# Select and reorder the columns I need to run\n",
    "model = data_frame[model_vars]\n",
    "# Set the regressors\n",
    "regressors = regress_vars\n",
    "# Save it locally\n",
    "model.to_csv(model_path, index=False)"
   ]
  },
  {
   "cell_type": "code",
   "execution_count": 9,
   "metadata": {
    "collapsed": true
   },
   "outputs": [],
   "source": [
    "# Set up the files_in\n",
    "file_dict = dict()\n",
    "#file_dict['data'] = data_dict\n",
    "file_dict['mask'] = mask_path\n",
    "file_dict['model'] = model_path"
   ]
  },
  {
   "cell_type": "code",
   "execution_count": 10,
   "metadata": {
    "collapsed": false
   },
   "outputs": [],
   "source": [
    "# Set up the opt\n",
    "opt_dict = dict()\n",
    "opt_dict['folder_out'] = pipe_folder\n",
    "opt_dict['scale'] = scale\n",
    "opt_dict['stack'] = {'regress_conf': np.array(regressors,dtype=object)}\n",
    "opt_dict['subtype'] = {'nb_subtype':nb_subtypes}\n",
    "\n",
    "cont_dict = dict()\n",
    "cont_dict[coi] = 1\n",
    "# Add this\n",
    "opt_dict['association'] = {'contrast':cont_dict, 'fdr':0.05}\n",
    "opt_dict['visu'] = {'data_type': 'continuous'}\n",
    "\n",
    "# Set test to true\n",
    "opt_dict['flag_test'] = True\n",
    "# No figures, octave is too stupid for figures\n",
    "opt_dict['flag_visu'] = True\n",
    "opt_dict['flag_chi2'] = False"
   ]
  },
  {
   "cell_type": "code",
   "execution_count": 11,
   "metadata": {
    "collapsed": false
   },
   "outputs": [],
   "source": [
    "# Set up psom options\n",
    "psom_dict = dict()\n",
    "psom_dict['path_logs'] = os.path.join(pipe_folder, 'logs')\n",
    "psom_dict['max_queued'] = procs"
   ]
  },
  {
   "cell_type": "code",
   "execution_count": 12,
   "metadata": {
    "collapsed": false
   },
   "outputs": [],
   "source": [
    "# Save the whole shebang\n",
    "mat_dict = dict()\n",
    "mat_dict['files_in'] = file_dict\n",
    "mat_dict['opt'] = opt_dict\n",
    "mat_dict['opt_psom'] = psom_dict\n",
    "mat_dict['paths'] = path_array\n",
    "mat_dict['subs'] = sub_array\n",
    "sio.savemat(mat_path, mat_dict)"
   ]
  }
 ],
 "metadata": {
  "kernelspec": {
   "display_name": "Python 3",
   "language": "python",
   "name": "python3"
  },
  "language_info": {
   "codemirror_mode": {
    "name": "ipython",
    "version": 3
   },
   "file_extension": ".py",
   "mimetype": "text/x-python",
   "name": "python",
   "nbconvert_exporter": "python",
   "pygments_lexer": "ipython3",
   "version": "3.5.2+"
  }
 },
 "nbformat": 4,
 "nbformat_minor": 0
}
