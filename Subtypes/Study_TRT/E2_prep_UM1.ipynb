{
 "cells": [
  {
   "cell_type": "markdown",
   "metadata": {},
   "source": [
    "# Prepare UM1 sample for E2\n",
    "I want a sample of the UM1 data from CoRR to run my retest analysis on.\n",
    "\n"
   ]
  },
  {
   "cell_type": "code",
   "execution_count": 1,
   "metadata": {
    "collapsed": true
   },
   "outputs": [],
   "source": [
    "# Imports\n",
    "import pandas as pd"
   ]
  },
  {
   "cell_type": "code",
   "execution_count": 2,
   "metadata": {
    "collapsed": true
   },
   "outputs": [],
   "source": [
    "# Paths\n",
    "pheno_in = '/home/surchs/GDrive/Projects/Subtypes/TRT/stopad_model_16_6_21_moreapoe.csv'\n",
    "pheno_out = '/home/surchs/GDrive/Projects/Subtypes/TRT/prevent_AD_good.csv'\n",
    "motion_in = '/home/surchs/GDrive/Projects/Subtypes/TRT/qc_scrubbing_group.csv'\n",
    "qc_in = '/home/surchs/GDrive/Projects/Subtypes/TRT/rs-fMRI_NIAK_preprocessing_QC_DR2.csv'\n",
    "full_out = '/home/surchs/GDrive/Projects/Subtypes/TRT/full_prevent_AD_merged.csv'\n",
    "\n",
    "pass_out = '/home/surchs/GDrive/Projects/Subtypes/TRT/pAD_base_pass_PRE.csv'"
   ]
  },
  {
   "cell_type": "code",
   "execution_count": 3,
   "metadata": {
    "collapsed": false
   },
   "outputs": [],
   "source": [
    "# Read the phenotype file\n",
    "pheno = pd.read_table(pheno_in)"
   ]
  },
  {
   "cell_type": "code",
   "execution_count": 4,
   "metadata": {
    "collapsed": true
   },
   "outputs": [],
   "source": [
    "# Rename the subject column to something useful\n",
    "pheno.rename(columns={'Unnamed: 0':'SubID'}, inplace=True)"
   ]
  },
  {
   "cell_type": "code",
   "execution_count": 5,
   "metadata": {
    "collapsed": false
   },
   "outputs": [
    {
     "name": "stderr",
     "output_type": "stream",
     "text": [
      "/usr/local/lib/python3.5/dist-packages/ipykernel/__main__.py:3: SettingWithCopyWarning: \n",
      "A value is trying to be set on a copy of a slice from a DataFrame\n",
      "\n",
      "See the caveats in the documentation: http://pandas.pydata.org/pandas-docs/stable/indexing.html#indexing-view-versus-copy\n",
      "  app.launch_new_instance()\n"
     ]
    }
   ],
   "source": [
    "# Make an extra column to encode the treatment group\n",
    "pheno['Group'] = 'PRE'\n",
    "pheno.Group[pheno.SubID.str.contains('NAP')] = 'NAP'"
   ]
  },
  {
   "cell_type": "code",
   "execution_count": 6,
   "metadata": {
    "collapsed": false
   },
   "outputs": [
    {
     "data": {
      "text/plain": [
       "NAP    188\n",
       "PRE    104\n",
       "Name: Group, dtype: int64"
      ]
     },
     "execution_count": 6,
     "metadata": {},
     "output_type": "execute_result"
    }
   ],
   "source": [
    "# Take a look at the counts\n",
    "pheno.Group.value_counts()"
   ]
  },
  {
   "cell_type": "code",
   "execution_count": 7,
   "metadata": {
    "collapsed": true
   },
   "outputs": [],
   "source": [
    "pheno.to_csv(pheno_out, index=False)"
   ]
  },
  {
   "cell_type": "code",
   "execution_count": 8,
   "metadata": {
    "collapsed": true
   },
   "outputs": [],
   "source": [
    "# Get QC information\n",
    "qc = pd.read_csv(qc_in)\n",
    "qc['rest_pass'] = qc['Resting_session_QC_status']=='pass'\n",
    "qc['SubID'] = qc['preprocess_id']"
   ]
  },
  {
   "cell_type": "code",
   "execution_count": 9,
   "metadata": {
    "collapsed": false
   },
   "outputs": [],
   "source": [
    "# Get the motion information\n",
    "motion = pd.read_csv(motion_in)\n",
    "motion.rename(columns={' ':'SubID'}, inplace=True)"
   ]
  },
  {
   "cell_type": "code",
   "execution_count": 10,
   "metadata": {
    "collapsed": false
   },
   "outputs": [],
   "source": [
    "full = pheno.merge(qc, on='SubID', how='inner')\n",
    "full.to_csv(full_out, index=False)"
   ]
  },
  {
   "cell_type": "code",
   "execution_count": 11,
   "metadata": {
    "collapsed": false
   },
   "outputs": [],
   "source": [
    "# Now get the non-treated individuals that pass QC\n",
    "tmp = full[full['rest_pass']]\n",
    "tmp = tmp[tmp.Group=='PRE']\n",
    "passers = tmp[tmp.MRI_Visit=='Pass']\n",
    "passers.to_csv(pass_out, index=False)"
   ]
  }
 ],
 "metadata": {
  "kernelspec": {
   "display_name": "Python 3",
   "language": "python",
   "name": "python3"
  },
  "language_info": {
   "codemirror_mode": {
    "name": "ipython",
    "version": 3
   },
   "file_extension": ".py",
   "mimetype": "text/x-python",
   "name": "python",
   "nbconvert_exporter": "python",
   "pygments_lexer": "ipython3",
   "version": "3.5.2+"
  }
 },
 "nbformat": 4,
 "nbformat_minor": 1
}
