{
 "cells": [
  {
   "cell_type": "markdown",
   "metadata": {},
   "source": [
    "Take the netstack and linkage out of the rest of the pipeline and instead pickle things to disk for speed reasons."
   ]
  },
  {
   "cell_type": "code",
   "execution_count": 67,
   "metadata": {
    "collapsed": false
   },
   "outputs": [],
   "source": [
    "# Imports\n",
    "import os\n",
    "import sys\n",
    "import glob\n",
    "import numpy as np\n",
    "import pandas as pd\n",
    "import nibabel as nib\n",
    "import brainbox as bb"
   ]
  },
  {
   "cell_type": "code",
   "execution_count": 68,
   "metadata": {
    "collapsed": false
   },
   "outputs": [],
   "source": [
    "# Dummy variables\n",
    "pheno_path_0 = '/data1/abide/Pheno/existing_pheno.csv'\n",
    "pheno_path_1 = '/data1/abide/Pheno/unconstrained_3box_189_sample.csv'\n",
    "pheno_path_2 = '/data1/abide/Pheno/unconstrained_2box_308_sample.csv'\n",
    "pheno_path_3 = '/data1/abide/Pheno/nyu_pheno.csv'\n",
    "scales = [7, 12, 20, 36, 64]\n",
    "warn = False\n",
    "sc_id = 0\n",
    "# Variables\n",
    "scale = scales[sc_id]\n",
    "mtp = 'stability_maps'\n",
    "name = 'full_sample'\n",
    "# Input paths\n",
    "tpl = '*_fmri_{:07d}_session_1_run1_stability_maps.nii.gz'\n",
    "prior_path = '/data1/cambridge/template/template_cambridge_basc_multiscale_sym_scale{:03d}.nii.gz'.format(scale)\n",
    "data_path = '/data1/abide/Out/Scores/sc{:02d}/time'.format(scale)\n",
    "pheno_path = pheno_path_0\n",
    "mask_path = '/data1/abide/Mask/mask_data_specific.nii.gz'\n",
    "\n",
    "# Output paths\n",
    "out_path = '/data1/subtypes/serial_preps'\n",
    "net_raw_name = 'netstack_raw_{}_scale_{:03d}'.format(name, scale)\n",
    "net_demean_name = 'netstack_demeaned_{}_scale_{:03d}'.format(name, scale)\n",
    "sim_mat_name = 'correlation_matrix_{}_scale_{:03d}'.format(name, scale)\n",
    "net_raw_path = os.path.join(out_path, net_raw_name)\n",
    "net_demean_path = os.path.join(out_path, net_demean_name)\n",
    "sim_mat_path = os.path.join(out_path, sim_mat_name)\n",
    "# See if output path exists\n",
    "if not os.path.isdir(out_path):\n",
    "    print('Creating new output path {}'.format(out_path))\n",
    "    os.makedirs(out_path)"
   ]
  },
  {
   "cell_type": "code",
   "execution_count": 69,
   "metadata": {
    "collapsed": true
   },
   "outputs": [],
   "source": [
    "def dump_things(obj, path):\n",
    "    \"\"\"\n",
    "    dump object at path\n",
    "    \"\"\"\n",
    "    with gzip.open(path, 'wb') as outfile:\n",
    "        pickle.dump(obj, outfile, 2)\n",
    "    print('\\nDone serializing object @ {}'.format(path))\n",
    "    return 0"
   ]
  },
  {
   "cell_type": "code",
   "execution_count": 70,
   "metadata": {
    "collapsed": true
   },
   "outputs": [],
   "source": [
    "def alt_dump(obj, path):\n",
    "    np.savez(path,obj)\n",
    "    return 0"
   ]
  },
  {
   "cell_type": "code",
   "execution_count": 71,
   "metadata": {
    "collapsed": true
   },
   "outputs": [],
   "source": [
    "# Get the mask\n",
    "m_img = nib.load(mask_path)\n",
    "mask_data = m_img.get_data()\n",
    "mask = mask_data != 0"
   ]
  },
  {
   "cell_type": "code",
   "execution_count": 72,
   "metadata": {
    "collapsed": false
   },
   "outputs": [],
   "source": [
    "# Get the phenotype\n",
    "pheno = pd.read_csv(pheno_path)\n",
    "# Grab the corresponding file paths - should be sure that they exist\n",
    "path_list = [glob.glob(os.path.join(data_path, mtp, tpl.format(r['SUB_ID'])))[0] for i, r in pheno.iterrows()]"
   ]
  },
  {
   "cell_type": "code",
   "execution_count": 73,
   "metadata": {
    "collapsed": false
   },
   "outputs": [],
   "source": [
    "for i, r in pheno.iterrows():\n",
    "    if not glob.glob(os.path.join(data_path, mtp, tpl.format(r['SUB_ID']))):\n",
    "        print('{} not here'.format(tpl.format(r['SUB_ID'])))"
   ]
  },
  {
   "cell_type": "code",
   "execution_count": 74,
   "metadata": {
    "collapsed": false
   },
   "outputs": [],
   "source": [
    "# Get the prior\n",
    "p_img = nib.load(prior_path)\n",
    "prior = p_img.get_data()"
   ]
  },
  {
   "cell_type": "code",
   "execution_count": 75,
   "metadata": {
    "collapsed": true
   },
   "outputs": [],
   "source": [
    "# Get the number of voxels and subjects\n",
    "n_vox = np.sum(mask)\n",
    "n_sub = len(path_list)"
   ]
  },
  {
   "cell_type": "code",
   "execution_count": null,
   "metadata": {
    "collapsed": false
   },
   "outputs": [
    {
     "name": "stdout",
     "output_type": "stream",
     "text": [
      " 100.0 % done 0.00 seconds to go. One step takes 0.04430 and we ran for 36.88 s so far"
     ]
    }
   ],
   "source": [
    "# Storage\n",
    "netstack_raw = np.zeros((scale, n_vox, n_sub))\n",
    "netstack_demean = np.zeros((scale, n_vox, n_sub))\n",
    "sim_mat = np.zeros((scale, n_sub, n_sub))\n",
    "\n",
    "# Get the scores maps into a voxel by subject array\n",
    "net_stack = np.zeros((n_vox, n_sub))\n",
    "# Iterate files\n",
    "timer = bb.tools.Counter(n_sub)\n",
    "for sub_id in range(n_sub):\n",
    "    timer.tic()\n",
    "    s_path = path_list[sub_id]\n",
    "    # Getting data\n",
    "    netstack_raw[..., sub_id] = nib.load(s_path).get_data()[mask].T\n",
    "    timer.toc()\n",
    "    timer.progress()\n",
    "    \n",
    "# Save the netstack\n",
    "np.save(net_raw_path, netstack_raw)\n",
    "\n",
    "# Take the grand average\n",
    "grand_average = np.mean(netstack_raw, 2)\n",
    "# Demean the netstack\n",
    "netstack_demean = netstack_raw - np.tile(grand_average[..., None], (1,1,n_sub))\n",
    "\n",
    "# Save the demeaned netstack\n",
    "np.save(net_demean_path, netstack_demean)"
   ]
  },
  {
   "cell_type": "code",
   "execution_count": null,
   "metadata": {
    "collapsed": false
   },
   "outputs": [],
   "source": [
    "# Build the correlation matrices\n",
    "timer = bb.tools.Counter(scale)\n",
    "for net_id in range(scale):   \n",
    "    timer.tic()\n",
    "    # Build correlation matrix on the network stack\n",
    "    corr_mat = np.corrcoef(netstack_demean[net_id, ...], rowvar=0)\n",
    "    # Store the correlation matrix\n",
    "    sim_mat[net_id, ...] = corr_mat\n",
    "    timer.toc()\n",
    "    timer.progress()\n",
    "    \n",
    "# Serialize and save the output\n",
    "np.save(sim_mat_path, sim_mat)"
   ]
  },
  {
   "cell_type": "code",
   "execution_count": 78,
   "metadata": {
    "collapsed": false
   },
   "outputs": [
    {
     "data": {
      "text/plain": [
       "array([[[  1.00000000e+00,   1.75577320e-01,   6.35187080e-02, ...,\n",
       "          -3.99486365e-02,  -1.06050022e-01,  -5.20797828e-03],\n",
       "        [  1.75577320e-01,   1.00000000e+00,   1.35157567e-01, ...,\n",
       "          -7.01421384e-02,  -1.18049455e-01,   3.74213284e-03],\n",
       "        [  6.35187080e-02,   1.35157567e-01,   1.00000000e+00, ...,\n",
       "           7.75374145e-03,   1.11153640e-01,  -2.77059065e-02],\n",
       "        ..., \n",
       "        [ -3.99486365e-02,  -7.01421384e-02,   7.75374145e-03, ...,\n",
       "           1.00000000e+00,   2.92764912e-02,  -1.68677292e-02],\n",
       "        [ -1.06050022e-01,  -1.18049455e-01,   1.11153640e-01, ...,\n",
       "           2.92764912e-02,   1.00000000e+00,   1.05671242e-02],\n",
       "        [ -5.20797828e-03,   3.74213284e-03,  -2.77059065e-02, ...,\n",
       "          -1.68677292e-02,   1.05671242e-02,   1.00000000e+00]],\n",
       "\n",
       "       [[  1.00000000e+00,   1.15943465e-01,   7.23312425e-02, ...,\n",
       "           1.32874698e-02,   4.29672359e-02,   2.69384684e-02],\n",
       "        [  1.15943465e-01,   1.00000000e+00,   1.33074014e-01, ...,\n",
       "          -3.03395912e-02,   3.99560741e-02,  -3.64948214e-02],\n",
       "        [  7.23312425e-02,   1.33074014e-01,   1.00000000e+00, ...,\n",
       "           1.40563938e-02,   2.93931027e-02,   3.14949265e-02],\n",
       "        ..., \n",
       "        [  1.32874698e-02,  -3.03395912e-02,   1.40563938e-02, ...,\n",
       "           1.00000000e+00,   3.04198014e-02,   5.01730319e-02],\n",
       "        [  4.29672359e-02,   3.99560741e-02,   2.93931027e-02, ...,\n",
       "           3.04198014e-02,   1.00000000e+00,   3.74312391e-02],\n",
       "        [  2.69384684e-02,  -3.64948214e-02,   3.14949265e-02, ...,\n",
       "           5.01730319e-02,   3.74312391e-02,   1.00000000e+00]],\n",
       "\n",
       "       [[  1.00000000e+00,   6.36428779e-03,   2.27084423e-02, ...,\n",
       "          -2.59343265e-02,   9.83008353e-03,  -4.19772683e-02],\n",
       "        [  6.36428779e-03,   1.00000000e+00,   1.11812748e-01, ...,\n",
       "          -1.58729433e-02,   5.60506648e-02,  -4.28879279e-02],\n",
       "        [  2.27084423e-02,   1.11812748e-01,   1.00000000e+00, ...,\n",
       "          -3.03347088e-03,   2.06061106e-01,   2.11954687e-02],\n",
       "        ..., \n",
       "        [ -2.59343265e-02,  -1.58729433e-02,  -3.03347088e-03, ...,\n",
       "           1.00000000e+00,   1.44080200e-02,   6.23347408e-02],\n",
       "        [  9.83008353e-03,   5.60506648e-02,   2.06061106e-01, ...,\n",
       "           1.44080200e-02,   1.00000000e+00,   8.02470768e-02],\n",
       "        [ -4.19772683e-02,  -4.28879279e-02,   2.11954687e-02, ...,\n",
       "           6.23347408e-02,   8.02470768e-02,   1.00000000e+00]],\n",
       "\n",
       "       ..., \n",
       "       [[  1.00000000e+00,   7.44310817e-02,   1.19895486e-01, ...,\n",
       "          -8.34786980e-02,   5.23880435e-02,  -4.40719712e-02],\n",
       "        [  7.44310817e-02,   1.00000000e+00,   7.99581365e-02, ...,\n",
       "           9.48868141e-03,   5.45728096e-02,   1.44261115e-02],\n",
       "        [  1.19895486e-01,   7.99581365e-02,   1.00000000e+00, ...,\n",
       "           1.07766183e-01,  -2.68744062e-02,  -3.12956112e-02],\n",
       "        ..., \n",
       "        [ -8.34786980e-02,   9.48868141e-03,   1.07766183e-01, ...,\n",
       "           1.00000000e+00,   5.00511397e-02,   3.26185505e-03],\n",
       "        [  5.23880435e-02,   5.45728096e-02,  -2.68744062e-02, ...,\n",
       "           5.00511397e-02,   1.00000000e+00,  -2.22460945e-02],\n",
       "        [ -4.40719712e-02,   1.44261115e-02,  -3.12956112e-02, ...,\n",
       "           3.26185505e-03,  -2.22460945e-02,   1.00000000e+00]],\n",
       "\n",
       "       [[  1.00000000e+00,   1.01176915e-01,   1.77511420e-01, ...,\n",
       "          -6.55045796e-02,  -9.43650687e-04,   5.41567496e-02],\n",
       "        [  1.01176915e-01,   1.00000000e+00,   9.95272317e-02, ...,\n",
       "           3.21005113e-02,  -8.81581159e-02,  -2.38795724e-03],\n",
       "        [  1.77511420e-01,   9.95272317e-02,   1.00000000e+00, ...,\n",
       "          -5.09980838e-02,  -1.01749797e-01,   2.46018149e-02],\n",
       "        ..., \n",
       "        [ -6.55045796e-02,   3.21005113e-02,  -5.09980838e-02, ...,\n",
       "           1.00000000e+00,  -2.02366288e-02,   2.27333727e-02],\n",
       "        [ -9.43650687e-04,  -8.81581159e-02,  -1.01749797e-01, ...,\n",
       "          -2.02366288e-02,   1.00000000e+00,  -1.03630129e-01],\n",
       "        [  5.41567496e-02,  -2.38795724e-03,   2.46018149e-02, ...,\n",
       "           2.27333727e-02,  -1.03630129e-01,   1.00000000e+00]],\n",
       "\n",
       "       [[  1.00000000e+00,  -3.28190940e-02,   9.15749303e-02, ...,\n",
       "           6.02471303e-02,   1.09258957e-01,  -3.07404483e-02],\n",
       "        [ -3.28190940e-02,   1.00000000e+00,   1.85665136e-02, ...,\n",
       "           1.02579940e-02,  -3.45394642e-02,  -5.89721992e-02],\n",
       "        [  9.15749303e-02,   1.85665136e-02,   1.00000000e+00, ...,\n",
       "          -2.95648403e-02,   2.34746860e-02,   5.09720244e-02],\n",
       "        ..., \n",
       "        [  6.02471303e-02,   1.02579940e-02,  -2.95648403e-02, ...,\n",
       "           1.00000000e+00,   6.43590254e-02,   2.71676066e-02],\n",
       "        [  1.09258957e-01,  -3.45394642e-02,   2.34746860e-02, ...,\n",
       "           6.43590254e-02,   1.00000000e+00,   9.55133930e-02],\n",
       "        [ -3.07404483e-02,  -5.89721992e-02,   5.09720244e-02, ...,\n",
       "           2.71676066e-02,   9.55133930e-02,   1.00000000e+00]]])"
      ]
     },
     "execution_count": 78,
     "metadata": {},
     "output_type": "execute_result"
    }
   ],
   "source": [
    "sim_mat"
   ]
  },
  {
   "cell_type": "code",
   "execution_count": null,
   "metadata": {
    "collapsed": true
   },
   "outputs": [],
   "source": []
  }
 ],
 "metadata": {
  "kernelspec": {
   "display_name": "Python 2",
   "language": "python",
   "name": "python2"
  },
  "language_info": {
   "codemirror_mode": {
    "name": "ipython",
    "version": 2
   },
   "file_extension": ".py",
   "mimetype": "text/x-python",
   "name": "python",
   "nbconvert_exporter": "python",
   "pygments_lexer": "ipython2",
   "version": "2.7.10+"
  }
 },
 "nbformat": 4,
 "nbformat_minor": 0
}
