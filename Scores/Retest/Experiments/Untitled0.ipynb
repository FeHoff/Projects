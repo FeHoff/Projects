{
 "metadata": {
  "name": "",
  "signature": "sha256:5dca4b6c6ab50e05e90c20cd01e7b9dcecc01ce1e1b9dd99530faf9cd3f5aa56"
 },
 "nbformat": 3,
 "nbformat_minor": 0,
 "worksheets": [
  {
   "cells": [
    {
     "cell_type": "markdown",
     "metadata": {},
     "source": [
      "#This is course"
     ]
    },
    {
     "cell_type": "markdown",
     "metadata": {},
     "source": [
      "<div align=\"center\">__This is Yassine__  \n",
      "_This is Pierre_</div>"
     ]
    },
    {
     "cell_type": "code",
     "collapsed": false,
     "input": [],
     "language": "python",
     "metadata": {},
     "outputs": []
    }
   ],
   "metadata": {}
  }
 ]
}