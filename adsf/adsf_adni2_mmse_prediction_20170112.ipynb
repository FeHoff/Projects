{
 "cells": [
  {
   "cell_type": "code",
   "execution_count": 1,
   "metadata": {
    "collapsed": false
   },
   "outputs": [],
   "source": [
    "%matplotlib inline\n",
    "import numpy as np\n",
    "import matplotlib.pyplot as plt\n",
    "\n",
    "import pandas as pd # read csv and manip tables \n",
    "import scipy.io #read .mat files\n",
    "\n",
    "from sklearn.model_selection import KFold\n",
    "\n",
    "from sklearn.model_selection import GridSearchCV\n",
    "from sklearn.svm import SVC,SVR\n",
    "from sklearn import preprocessing"
   ]
  },
  {
   "cell_type": "code",
   "execution_count": 2,
   "metadata": {
    "collapsed": false
   },
   "outputs": [
    {
     "name": "stdout",
     "output_type": "stream",
     "text": [
      "Index(['RID', 'gender', 'age', 'diagnosis', 'pt_group', 'civetqc', 'mean_ct',\n",
      "       'excluded', 'ctrlvsmci', 'ctrlvsad', 'mcivsad', 'mtladni2sites',\n",
      "       'adni2', 'mean_gm', 'TIV', 'fd', 'adni2site2', 'adni2site6',\n",
      "       'adni2site10', 'adni2site13', 'adni2site18', 'adni2site19',\n",
      "       'adni2site31', 'adni2site53', 'adni2site100', 'adni2site129',\n",
      "       'adni2site130', 'adni2site131', 'adni2site136', 'FDG', 'AV45', 'CDRSB',\n",
      "       'ADAS11', 'ADAS13', 'MMSE', 'RAVLT_immediate', 'RAVLT_learning',\n",
      "       'RAVLT_forgetting', 'RAVLT_perc_forgetting', 'FAQ', 'MOCA', 'EcogPtMem',\n",
      "       'EcogPtLang', 'EcogPtVisspat', 'EcogPtPlan', 'EcogPtOrgan',\n",
      "       'EcogPtDivatt', 'EcogPtTotal', 'EcogSPMem', 'EcogSPLang',\n",
      "       'EcogSPVisspat', 'EcogSPPlan', 'EcogSPOrgan', 'EcogSPDivatt',\n",
      "       'EcogSPTotal', 'rs1_sub1', 'rs1_sub2', 'rs1_sub3', 'rs2_sub1',\n",
      "       'rs2_sub2', 'rs2_sub3', 'rs3_sub1', 'rs3_sub2', 'rs3_sub3', 'rs4_sub1',\n",
      "       'rs4_sub2', 'rs4_sub3', 'rs5_sub1', 'rs5_sub2', 'rs5_sub3', 'rs6_sub1',\n",
      "       'rs6_sub2', 'rs6_sub3', 'rs7_sub1', 'rs7_sub2', 'rs7_sub3',\n",
      "       'vbm_wb_sub1', 'vbm_wb_sub2', 'vbm_wb_sub3'],\n",
      "      dtype='object')\n",
      "nan_cog shape: (190,)\n",
      "y shape: (167,)\n",
      "[ 28.  27.  28.  30.  27.  30.  28.  27.  28.  28.  30.  28.  30.  30.  29.\n",
      "  29.  30.  29.  30.  27.  30.  30.  29.  29.  29.  26.  28.  29.  29.  29.\n",
      "  25.  27.  30.  26.  26.  24.  24.  28.  22.  28.  28.  19.  30.  30.  28.\n",
      "  29.  30.  30.  28.  29.  29.  29.  30.  22.  29.  29.  29.  30.  28.  29.\n",
      "  29.  26.  28.  25.  30.  30.  29.  29.  29.  30.  26.  29.  29.  28.  26.\n",
      "  28.  30.  29.  30.  28.  30.  29.  30.  30.  27.  28.  29.  29.  27.  28.\n",
      "  30.  21.  26.  30.  28.  26.  30.  27.  25.  25.  26.  21.  29.  27.  27.\n",
      "  30.  30.  26.  28.  26.  29.  29.  29.  26.  29.  24.  28.  28.  29.  20.\n",
      "  30.  28.  21.  26.  28.  29.  24.  29.  30.  26.  23.  27.  29.  28.  24.\n",
      "  27.  24.  25.  21.  20.  26.  25.  19.  21.  25.  23.  21.  21.  26.  19.\n",
      "  25.  29.  28.  29.  20.  29.  25.  30.  30.  30.  30.  27.  30.  26.  20.\n",
      "  29.  30.]\n",
      "X shape: (167, 24)\n",
      "[[ 0.079 -0.115  0.082 ..., -0.051  0.243 -0.267]\n",
      " [-0.185  0.068  0.02  ..., -0.18   0.404 -0.345]\n",
      " [ 0.286 -0.092 -0.044 ..., -0.214 -0.018  0.246]\n",
      " ..., \n",
      " [ 0.023  0.052 -0.066 ..., -0.393  0.347 -0.048]\n",
      " [-0.202  0.316 -0.231 ...,  0.147  0.101 -0.286]\n",
      " [-0.166 -0.029  0.112 ..., -0.137  0.311 -0.266]]\n"
     ]
    }
   ],
   "source": [
    "# load cognitive variables\n",
    "demog = pd.read_csv('adni2_weights_vbm_rs_model.csv',index_col=0)\n",
    "print(demog.columns)\n",
    "\n",
    "# remove NaN values within the cognitive variable\n",
    "nan_cog = ~np.isnan(demog['MMSE'].values)\n",
    "print('nan_cog shape:',nan_cog.shape)\n",
    "y = demog['MMSE'].values[nan_cog]\n",
    "print('y shape:',y.shape)\n",
    "print(y)\n",
    "\n",
    "scl = preprocessing.StandardScaler()\n",
    "y = scl.fit_transform(y.reshape(-1, 1))[:,0]\n",
    "\n",
    "# now i want X to equal all the columns rs and vbm (56th to last)\n",
    "X = demog.ix[:,55:].values[nan_cog]\n",
    "print('X shape:',X.shape)\n",
    "print(X)"
   ]
  },
  {
   "cell_type": "code",
   "execution_count": 3,
   "metadata": {
    "collapsed": false
   },
   "outputs": [
    {
     "name": "stdout",
     "output_type": "stream",
     "text": [
      "nan_X: (167, 24)\n",
      "[[False False False ..., False False False]\n",
      " [False False False ..., False False False]\n",
      " [False False False ..., False False False]\n",
      " ..., \n",
      " [False False False ..., False False False]\n",
      " [False False False ..., False False False]\n",
      " [False False False ..., False False False]]\n",
      "[ 0  0  0  0  0  0  0  0  0  0  0  0  0  0  0  0  0  0  0  0  0  0  0  0  0\n",
      "  0  0  0  0 24  0  0  0  0  3  3  0  0  0  3  0  0  0  0  0  0  0  0  0  0\n",
      "  0  0  0  0  0  0  0  0  0  0  0  0  0  0  0  0  0  0  0  0  0  0  3  0  0\n",
      "  0  0  0  0  0  0  3  0  0  0  0  0  0  0  0  0  0  0  0  0  0  0  0  0  0\n",
      "  0  0  0  0  0  0  0  0  0  0  0  0  0  0  0  0  0  0  0  0  0  0  0  0  0\n",
      "  0  0  0  0  0  0  0  0  0  0  0  0  0  0  0  0  0  0  0  0  0  0  0  0  0\n",
      "  0  0  0  0  0  0  0  0  0  0  0  0  0  0  0  0  0]\n",
      "[False False False False False False False False False False False False\n",
      " False False False False False False False False False False False False\n",
      " False False False False False  True False False False False  True  True\n",
      " False False False  True False False False False False False False False\n",
      " False False False False False False False False False False False False\n",
      " False False False False False False False False False False False False\n",
      "  True False False False False False False False False  True False False\n",
      " False False False False False False False False False False False False\n",
      " False False False False False False False False False False False False\n",
      " False False False False False False False False False False False False\n",
      " False False False False False False False False False False False False\n",
      " False False False False False False False False False False False False\n",
      " False False False False False False False False False False False False\n",
      " False False False False False False False False False False False]\n",
      "mask_nan shape: (167,)\n"
     ]
    }
   ],
   "source": [
    "# remove rows with NaN values within X\n",
    "\n",
    "# find the NaNs\n",
    "nan_X = np.isnan(X)\n",
    "print('nan_X:',nan_X.shape)\n",
    "print(nan_X)\n",
    "\n",
    "# sum the NaNs across rows/subjects\n",
    "mask_nan = nan_X.sum(axis=1)\n",
    "print(mask_nan)\n",
    "\n",
    "# make mask boolean\n",
    "mask_nan = mask_nan != 0\n",
    "print(mask_nan)\n",
    "print('mask_nan shape:',mask_nan.shape)"
   ]
  },
  {
   "cell_type": "code",
   "execution_count": 4,
   "metadata": {
    "collapsed": false
   },
   "outputs": [
    {
     "name": "stdout",
     "output_type": "stream",
     "text": [
      "[ 0.24169364 -0.11236634  0.24169364  0.9498136  -0.11236634  0.9498136\n",
      "  0.24169364 -0.11236634  0.24169364  0.24169364  0.9498136   0.24169364\n",
      "  0.9498136   0.9498136   0.59575362  0.59575362  0.9498136   0.59575362\n",
      "  0.9498136  -0.11236634  0.9498136   0.9498136   0.59575362  0.59575362\n",
      "  0.59575362 -0.46642632  0.24169364  0.59575362  0.59575362 -0.8204863\n",
      " -0.11236634  0.9498136  -0.46642632 -1.17454628  0.24169364 -1.88266624\n",
      "  0.24169364 -2.94484617  0.9498136   0.9498136   0.24169364  0.59575362\n",
      "  0.9498136   0.9498136   0.24169364  0.59575362  0.59575362  0.59575362\n",
      "  0.9498136  -1.88266624  0.59575362  0.59575362  0.59575362  0.9498136\n",
      "  0.24169364  0.59575362  0.59575362 -0.46642632  0.24169364 -0.8204863\n",
      "  0.9498136   0.9498136   0.59575362  0.59575362  0.59575362  0.9498136\n",
      " -0.46642632  0.59575362  0.24169364 -0.46642632  0.24169364  0.9498136\n",
      "  0.59575362  0.9498136   0.24169364  0.9498136   0.9498136   0.9498136\n",
      " -0.11236634  0.24169364  0.59575362  0.59575362 -0.11236634  0.24169364\n",
      "  0.9498136  -2.23672622 -0.46642632  0.9498136   0.24169364 -0.46642632\n",
      "  0.9498136  -0.11236634 -0.8204863  -0.8204863  -0.46642632 -2.23672622\n",
      "  0.59575362 -0.11236634 -0.11236634  0.9498136   0.9498136  -0.46642632\n",
      "  0.24169364 -0.46642632  0.59575362  0.59575362  0.59575362 -0.46642632\n",
      "  0.59575362 -1.17454628  0.24169364  0.24169364  0.59575362 -2.59078619\n",
      "  0.9498136   0.24169364 -2.23672622 -0.46642632  0.24169364  0.59575362\n",
      " -1.17454628  0.59575362  0.9498136  -0.46642632 -1.52860626 -0.11236634\n",
      "  0.59575362  0.24169364 -1.17454628 -0.11236634 -1.17454628 -0.8204863\n",
      " -2.23672622 -2.59078619 -0.46642632 -0.8204863  -2.94484617 -2.23672622\n",
      " -0.8204863  -1.52860626 -2.23672622 -2.23672622 -0.46642632 -2.94484617\n",
      " -0.8204863   0.59575362  0.24169364  0.59575362 -2.59078619  0.59575362\n",
      " -0.8204863   0.9498136   0.9498136   0.9498136   0.9498136  -0.11236634\n",
      "  0.9498136  -0.46642632 -2.59078619  0.59575362  0.9498136 ]\n",
      "y shape: (161,)\n",
      "[[ 0.079 -0.115  0.082 ..., -0.051  0.243 -0.267]\n",
      " [-0.185  0.068  0.02  ..., -0.18   0.404 -0.345]\n",
      " [ 0.286 -0.092 -0.044 ..., -0.214 -0.018  0.246]\n",
      " ..., \n",
      " [ 0.023  0.052 -0.066 ..., -0.393  0.347 -0.048]\n",
      " [-0.202  0.316 -0.231 ...,  0.147  0.101 -0.286]\n",
      " [-0.166 -0.029  0.112 ..., -0.137  0.311 -0.266]]\n",
      "X shape: (161, 24)\n"
     ]
    }
   ],
   "source": [
    "# apply the nan mask!\n",
    "\n",
    "y = y[~mask_nan]\n",
    "print(y)\n",
    "print('y shape:',y.shape)\n",
    "\n",
    "X = X[~mask_nan]\n",
    "print(X)\n",
    "print('X shape:',X.shape)\n"
   ]
  },
  {
   "cell_type": "code",
   "execution_count": 5,
   "metadata": {
    "collapsed": false
   },
   "outputs": [
    {
     "name": "stdout",
     "output_type": "stream",
     "text": [
      "[ 28.41796292  27.87929822  26.83114578  27.45883428  27.61063083\n",
      "  27.14548945  28.31658093  26.88242507  27.24614227  27.71452817\n",
      "  27.76708686  27.31310759  26.67434945  26.77880625  29.37007586\n",
      "  29.35856747  27.32972601  27.69432956  28.06388591  28.12358034\n",
      "  27.79838971  27.90703681  28.3777012   27.89541889  28.60707115\n",
      "  27.18896661  27.86408426  26.63759095  26.43291499  27.17962021\n",
      "  27.57280566  27.03521531  26.23423786  26.92145897  27.79510157\n",
      "  25.84760562  27.73364007  27.31387457  27.91650179  25.92942575\n",
      "  28.02249754  27.74579901  27.84854147  27.77690051  27.30056907\n",
      "  28.71113567  28.14826091  28.74407876  28.09377947  26.56539871\n",
      "  28.08647844  28.088771    27.79460991  28.29380457]\n",
      "0.0524846987952\n",
      "[ 28.37047982  29.29283598  29.73586448  26.54533344  27.17115023\n",
      "  29.62663172  27.53824728  29.63125059  28.75781058  29.18351869\n",
      "  28.04667338  27.66776438  28.30756968  28.81856669  27.47909888\n",
      "  27.90402359  27.43787025  28.65749417  30.12726157  28.77705634\n",
      "  25.63368152  28.3090194   26.31637674  28.19370527  27.70557013\n",
      "  27.19916545  28.65720983  27.91063966  27.75647315  27.96435715\n",
      "  28.88182189  28.93183989  29.67503666  28.57339119  29.14706306\n",
      "  25.14513171  28.65249507  27.79672791  27.92019516  23.74158742\n",
      "  26.75227588  25.17697133  28.64409287  25.27601817  27.52330121\n",
      "  28.76594773  28.14008388  25.34207666  28.25655271  27.77096609\n",
      "  25.7605036   27.89167313  29.23395043  29.33524804]\n",
      "0.0201517639474\n",
      "[ 28.6611724   28.42338713  28.27837528  28.39729523  28.59048165\n",
      "  28.6421727   28.6003024   28.67594553  28.65236841  28.61532408\n",
      "  28.65306502  28.98289386  28.42335058  28.53634626  28.32112583\n",
      "  28.18857794  28.16579675  28.70716059  28.57344845  28.42287532\n",
      "  28.35625166  28.58179997  28.33484099  28.60593786  28.30878653\n",
      "  28.34571661  28.49312719  28.31325069  28.54300872  28.48243799\n",
      "  28.55963997  28.41616435  28.43285246  28.30681593  28.29057053\n",
      "  28.31557685  28.83030781  28.52712338  28.60782003  28.3905837\n",
      "  28.47158499  28.54450757  28.16646971  28.67879774  28.34920164\n",
      "  28.66480266  28.33741793  28.44676967  28.65504009  28.32231798\n",
      "  28.38948533  28.82964745  28.17109321]\n",
      "-0.5501607348\n",
      "Average R2:  -0.159174757352\n"
     ]
    }
   ],
   "source": [
    "# init CV\n",
    "scores = []\n",
    "skf = KFold(n_splits=3)\n",
    "for train_index, test_index in skf.split(X):\n",
    "    #print(\"TRAIN:\", train_index, \"TEST:\", test_index)\n",
    "    X_train, X_test = X[train_index], X[test_index]\n",
    "    y_train, y_test = y[train_index], y[test_index]\n",
    "    \n",
    "    # train model\n",
    "    #clf = SVR(kernel='linear', C=1e3)\n",
    "    clf = SVR(kernel='rbf', C=1e1, gamma=0.1)\n",
    "    \n",
    "    # grid search cv\n",
    "    clf = GridSearchCV(clf, cv=10,param_grid={\"C\": [1e0, 1e1, 1e2, 1e3],\"gamma\": np.logspace(-2, 2, 5)})\n",
    "\n",
    "    clf.fit(X_train, y_train)\n",
    "    #sv_ratio = clf.best_estimator_.support_.shape[0] / (1.*len(y_train))\n",
    "    #print(\"Support vector ratio: %.3f\" % sv_ratio)\n",
    "    \n",
    "    # test\n",
    "    scores.append(clf.score(X_test,y_test))\n",
    "    print(scl.inverse_transform(clf.predict(X_test)))\n",
    "    print(scores[-1])\n",
    "    \n",
    "print('Average R2: ', np.mean(scores))"
   ]
  },
  {
   "cell_type": "code",
   "execution_count": null,
   "metadata": {
    "collapsed": true
   },
   "outputs": [],
   "source": []
  }
 ],
 "metadata": {
  "anaconda-cloud": {},
  "kernelspec": {
   "display_name": "Python [conda root]",
   "language": "python",
   "name": "conda-root-py"
  },
  "language_info": {
   "codemirror_mode": {
    "name": "ipython",
    "version": 3
   },
   "file_extension": ".py",
   "mimetype": "text/x-python",
   "name": "python",
   "nbconvert_exporter": "python",
   "pygments_lexer": "ipython3",
   "version": "3.5.2"
  }
 },
 "nbformat": 4,
 "nbformat_minor": 1
}
