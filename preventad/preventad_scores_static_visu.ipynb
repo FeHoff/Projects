{
 "cells": [
  {
   "cell_type": "markdown",
   "metadata": {},
   "source": [
    "Ok, quick outline:\n",
    "1. Have the network to left\n",
    "2. Have the network time series top center\n",
    "3. Take three time windows\n",
    "4. Have the seed map and winner takes all for each window in stack mid/bottom center\n",
    "5. Have the average winner takes all / scores on right"
   ]
  },
  {
   "cell_type": "code",
   "execution_count": 1,
   "metadata": {
    "collapsed": false
   },
   "outputs": [
    {
     "name": "stderr",
     "output_type": "stream",
     "text": [
      "/home/surchs/Enthought/Canopy_64bit/User/lib/python2.7/site-packages/matplotlib/__init__.py:1011: UserWarning: Duplicate key in file \"/home/surchs/.config/matplotlib/matplotlibrc\", line #405\n",
      "  (fname, cnt))\n"
     ]
    }
   ],
   "source": [
    "# Imports\n",
    "import os\n",
    "import glob\n",
    "import numpy as np\n",
    "import pandas as pd\n",
    "import nibabel as nib\n",
    "import brainbox as bb\n",
    "import multiprocessing as mp\n",
    "import statsmodels.api as sm\n",
    "from scipy import stats as st\n",
    "from matplotlib import gridspec\n",
    "from scipy import cluster as scl\n",
    "from nilearn import plotting as nlp\n",
    "from matplotlib import pyplot as plt\n",
    "from sklearn import linear_model as slin\n",
    "from statsmodels.sandbox import stats as sts\n",
    "from matplotlib.colors import LinearSegmentedColormap"
   ]
  },
  {
   "cell_type": "code",
   "execution_count": 2,
   "metadata": {
    "collapsed": false
   },
   "outputs": [
    {
     "name": "stdout",
     "output_type": "stream",
     "text": [
      "Populating the interactive namespace from numpy and matplotlib\n"
     ]
    }
   ],
   "source": [
    "%pylab inline"
   ]
  },
  {
   "cell_type": "code",
   "execution_count": 3,
   "metadata": {
    "collapsed": true
   },
   "outputs": [],
   "source": [
    "def remap(vec, mask):\n",
    "    # Remap the map into volume space\n",
    "    vol = np.zeros_like(mask, dtype=np.float64)\n",
    "    vol[mask] = vec\n",
    "\n",
    "    return vol"
   ]
  },
  {
   "cell_type": "code",
   "execution_count": 4,
   "metadata": {
    "collapsed": true
   },
   "outputs": [],
   "source": [
    "def make_image(vec, mask_i):\n",
    "    mask = mask_i.get_data() != 0\n",
    "    vol = remap(vec, mask)\n",
    "    img = nib.Nifti1Image(vol, affine=mask_i.get_affine(), header=mask_i.get_header())\n",
    "    return img, vol"
   ]
  },
  {
   "cell_type": "code",
   "execution_count": 5,
   "metadata": {
    "collapsed": true
   },
   "outputs": [],
   "source": [
    "# Define a new colormap\n",
    "cdict = {'red':   ((0.0, 0.0, 0.0),\n",
    "                   (0.5, 0.0, 0.0),\n",
    "                   (0.75, 1.0, 1.0),\n",
    "                   (1.0, 1.0, 1.0)),\n",
    "\n",
    "         'green': ((0.0, 1.0, 1.0),\n",
    "                   (0.25, 0.0, 0.0),\n",
    "                   (0.5, 0.0, 0.0),\n",
    "                   (0.75, 0.0, 0.0),\n",
    "                   (1.0, 1.0, 1.0)),\n",
    "\n",
    "         'blue':  ((0.0, 1.0, 1.0),\n",
    "                   (0.25, 1.0, 1.0),\n",
    "                   (0.5, 0.0, 0.0),\n",
    "                   (1.0, 0.0, 0.0))\n",
    "        }\n",
    "hotcold = LinearSegmentedColormap('hotcold', cdict)"
   ]
  },
  {
   "cell_type": "code",
   "execution_count": 6,
   "metadata": {
    "collapsed": true
   },
   "outputs": [],
   "source": [
    "# Paths\n",
    "mask_path = '/data1/abide/Mask/mask_data_specific.nii.gz'\n",
    "prior_path = '/data1/cambridge/template/template_cambridge_basc_multiscale_sym_scale012.nii.gz'\n",
    "pheno_path = '/data1/abide/Pheno/merged_pheno.csv'\n",
    "sub_path = '/data1/abide/Full/abide_release_sym_gsc0_lp01/Stanford/fmri_0051198_session_1_run1.nii.gz'"
   ]
  },
  {
   "cell_type": "code",
   "execution_count": 7,
   "metadata": {
    "collapsed": true
   },
   "outputs": [],
   "source": [
    "# Get the mask\n",
    "m_img = nib.load(mask_path)\n",
    "mask = m_img.get_data()!=0"
   ]
  },
  {
   "cell_type": "code",
   "execution_count": 8,
   "metadata": {
    "collapsed": true
   },
   "outputs": [],
   "source": [
    "# Get the subject\n",
    "s_img = nib.load(sub_path)\n",
    "data = s_img.get_data()[mask]"
   ]
  },
  {
   "cell_type": "code",
   "execution_count": 9,
   "metadata": {
    "collapsed": true
   },
   "outputs": [],
   "source": [
    "# Get the prior\n",
    "p_img = nib.load(prior_path)\n",
    "prior = p_img.get_data()\n",
    "part = prior[mask]"
   ]
  },
  {
   "cell_type": "code",
   "execution_count": 10,
   "metadata": {
    "collapsed": false
   },
   "outputs": [],
   "source": [
    "# Make an image of just network 8\n",
    "net_8 = np.zeros_like(prior)\n",
    "net_8[prior==8] = 1\n",
    "net_8_img = nib.Nifti1Image(net_8, affine=m_img.get_affine(), header=m_img.get_header())"
   ]
  },
  {
   "cell_type": "code",
   "execution_count": 11,
   "metadata": {
    "collapsed": false
   },
   "outputs": [],
   "source": [
    "# Make a mean time series for network 8\n",
    "net_data = data[part==8]\n",
    "net_mean = np.mean(net_data,0)"
   ]
  },
  {
   "cell_type": "code",
   "execution_count": 12,
   "metadata": {
    "collapsed": true
   },
   "outputs": [],
   "source": [
    "# Make some sliding windows\n",
    "n_img = data.shape[1]\n",
    "sld_width = 80\n",
    "window = np.arange(0,n_img-sld_width)"
   ]
  },
  {
   "cell_type": "code",
   "execution_count": 13,
   "metadata": {
    "collapsed": false
   },
   "outputs": [],
   "source": [
    "def get_net(w_id, windows, data, sld_width, part):\n",
    "    # Get the correlation of the network average with the rest of the brain in the sliding window\n",
    "    w_start = window[w_id]\n",
    "    w_stop = w_start+sld_width\n",
    "    sld_data = data[:,w_start:w_stop]\n",
    "\n",
    "    n_img = sld_data.shape[1]\n",
    "    n_vox = sld_data.shape[0]\n",
    "    # Get the network average for all networks\n",
    "    net_avg = np.zeros((12, n_img))\n",
    "    net_corr = np.zeros((12, n_vox))\n",
    "    for n_id, n_val in enumerate(np.arange(1,13)):\n",
    "        net_avg[n_id] = np.mean(sld_data[part==n_val,...],0)\n",
    "        net_corr[n_id, :] = np.array([np.corrcoef(sld_data[i,:],net_avg[n_id,:])[0,1] for i in np.arange(n_vox)])\n",
    "    \n",
    "    bin_part = np.argmax(net_corr,0)\n",
    "    \n",
    "    return net_avg, net_corr, bin_part"
   ]
  },
  {
   "cell_type": "code",
   "execution_count": 14,
   "metadata": {
    "collapsed": true
   },
   "outputs": [],
   "source": [
    "s1 = 10\n",
    "s2 = 70\n",
    "s3 = 130"
   ]
  },
  {
   "cell_type": "code",
   "execution_count": 15,
   "metadata": {
    "collapsed": true
   },
   "outputs": [],
   "source": [
    "def run_par(args):\n",
    "    w, window, data, sld_width, part = args\n",
    "    a1, c1, p1 = get_net(w, window, data, sld_width, part)\n",
    "    np1 = np.zeros(part.shape)\n",
    "    np1[p1==7] = 1\n",
    "    out = make_image(np1, m_img)[1]\n",
    "    \n",
    "    return out"
   ]
  },
  {
   "cell_type": "code",
   "execution_count": 16,
   "metadata": {
    "collapsed": false
   },
   "outputs": [],
   "source": [
    "job_list = list()\n",
    "for w_id, w in enumerate(window):\n",
    "    job_list.append((w, window, data, sld_width, part))"
   ]
  },
  {
   "cell_type": "code",
   "execution_count": 17,
   "metadata": {
    "collapsed": true
   },
   "outputs": [],
   "source": [
    "p = mp.Pool(processes=7)\n",
    "results = p.map(run_par, job_list)"
   ]
  },
  {
   "cell_type": "code",
   "execution_count": 18,
   "metadata": {
    "collapsed": false
   },
   "outputs": [],
   "source": [
    "net1 = np.zeros_like(mask, dtype=float)\n",
    "for res in results:\n",
    "    net1 += res\n",
    "net1 = net1/len(res)"
   ]
  },
  {
   "cell_type": "code",
   "execution_count": 19,
   "metadata": {
    "collapsed": false
   },
   "outputs": [],
   "source": [
    "ni_avg1 = nib.Nifti1Image(net1, affine=m_img.get_affine(), header=m_img.get_header())"
   ]
  },
  {
   "cell_type": "code",
   "execution_count": 22,
   "metadata": {
    "collapsed": false
   },
   "outputs": [],
   "source": [
    "a1, c1, p1 = get_net(s1, window, data, sld_width, part)\n",
    "np1 = np.zeros_like(part)\n",
    "np1[p1==7] = 1\n",
    "ni1 = make_image(np1, m_img)\n",
    "ci1 = make_image(c1[7,:], m_img)\n",
    "\n",
    "a2, c2, p2 = get_net(s2, window, data, sld_width, part)\n",
    "np2 = np.zeros_like(part)\n",
    "np2[p2==7] = 1\n",
    "ni2 = make_image(np2, m_img)\n",
    "ci2 = make_image(c2[7,:], m_img)\n",
    "\n",
    "a3, c3, p3 = get_net(s3, window, data, sld_width, part)\n",
    "np3 = np.zeros_like(part)\n",
    "np3[p3==7] = 1\n",
    "ni3 = make_image(np3, m_img)\n",
    "ci3 = make_image(c3[7,:], m_img)"
   ]
  },
  {
   "cell_type": "code",
   "execution_count": 51,
   "metadata": {
    "collapsed": false
   },
   "outputs": [
    {
     "data": {
      "image/png": "[encoded data removed]",
      "text/plain": [
       "<matplotlib.figure.Figure at 0xc313f90>"
      ]
     },
     "metadata": {},
     "output_type": "display_data"
    }
   ],
   "source": [
    "# Make a static figure\n",
    "fig = plt.figure(figsize=(14,8))\n",
    "gs = gridspec.GridSpec(3, 3, hspace=0.6)\n",
    "ax_prior = fig.add_subplot(gs[0,0])\n",
    "nlp.plot_stat_map(net_8_img, axes=ax_prior, colorbar=False, display_mode='x', cut_coords=(0,), cmap=cm.RdBu_r)\n",
    "ax_prior.set_title('Prior')\n",
    "\n",
    "ax_time = fig.add_subplot(gs[0,1])\n",
    "\n",
    "ax_time.plot(net_mean-np.mean(net_mean)+35)\n",
    "ax_time.plot([window[s1], window[s1]+sld_width], [2, 2], color='red', linewidth=5, alpha=0.5)\n",
    "ax_time.plot([window[s2], window[s2]+sld_width], [5, 5], color='yellow', linewidth=5, alpha=0.5)\n",
    "ax_time.plot([window[s3], window[s3]+sld_width], [8, 8], color='blue', linewidth=5, alpha=0.5)\n",
    "#ax_time.axvspan(window[s1], window[s1]+sld_width, color='red', alpha=0.5)\n",
    "#ax_time.axvspan(window[s2], window[s2]+sld_width, color='yellow', alpha=0.5)\n",
    "#ax_time.axvspan(window[s3], window[s3]+sld_width, color='blue', alpha=0.5)\n",
    "ax_time.set_xlim([0,220])\n",
    "ax_time.set_xlabel('time')\n",
    "ax_time.set_ylabel('network signal')\n",
    "ax_time.set_title('Average signal in network 8')\n",
    "ax_time.set_yticklabels([])\n",
    "\n",
    "ax_stab = fig.add_subplot(gs[0,2])\n",
    "nlp.plot_stat_map(ni_avg1, axes=ax_stab, colorbar=False, display_mode='x', cut_coords=(0,), cmap=hotcold)\n",
    "ax_stab.set_title('Stability map')\n",
    "\n",
    "ax_corr1 = fig.add_subplot(gs[1,0])\n",
    "nlp.plot_stat_map(ci1[0], cmap=hotcold, axes=ax_corr1, display_mode='x', cut_coords=(0,), colorbar=False)\n",
    "ax_corr1.set_title('seed window 1')\n",
    "\n",
    "ax_bin1 = fig.add_subplot(gs[2,0])\n",
    "nlp.plot_stat_map(ni1[0], axes=ax_bin1, colorbar=False, display_mode='x', cut_coords=(0,), cmap=cm.RdBu_r)\n",
    "ax_bin1.set_title('winner take all partition')\n",
    "\n",
    "ax_corr2 = fig.add_subplot(gs[1,1])\n",
    "nlp.plot_stat_map(ci2[0], cmap=hotcold, axes=ax_corr2, display_mode='x', cut_coords=(0,), colorbar=False)\n",
    "ax_corr2.set_title('seed window 2')\n",
    "\n",
    "ax_bin2 = fig.add_subplot(gs[2,1])\n",
    "nlp.plot_stat_map(ni2[0], axes=ax_bin2, colorbar=False, display_mode='x', cut_coords=(0,), cmap=cm.RdBu_r)\n",
    "ax_bin2.set_title('winner take all partition')\n",
    "\n",
    "ax_corr3 = fig.add_subplot(gs[1,2])\n",
    "nlp.plot_stat_map(ci3[0], cmap=hotcold, axes=ax_corr3, display_mode='x', cut_coords=(0,), colorbar=False)\n",
    "ax_corr3.set_title('seed window 3')\n",
    "\n",
    "ax_bin3 = fig.add_subplot(gs[2,2])\n",
    "nlp.plot_stat_map(ni3[0], axes=ax_bin3, colorbar=False, display_mode='x', cut_coords=(0,), cmap=cm.RdBu_r)\n",
    "ax_bin3.set_title('winner take all partition')\n",
    "fig.savefig('static_figure.svg', dpi=300)"
   ]
  },
  {
   "cell_type": "code",
   "execution_count": 38,
   "metadata": {
    "collapsed": false
   },
   "outputs": [],
   "source": [
    "# Save the images\n",
    "nib.save(ni_avg1, 'stability_map.nii.gz')\n",
    "nib.save(ci1[0], 'seed_window1.nii.gz')\n",
    "nib.save(ci2[0], 'seed_window2.nii.gz')\n",
    "nib.save(ci3[0], 'seed_window3.nii.gz')\n",
    "nib.save(ni1[0], 'winner_take_all_window1.nii.gz')\n",
    "nib.save(ni2[0], 'winner_take_all_window2.nii.gz')\n",
    "nib.save(ni3[0], 'winner_take_all_window3.nii.gz')"
   ]
  },
  {
   "cell_type": "code",
   "execution_count": 40,
   "metadata": {
    "collapsed": false
   },
   "outputs": [
    {
     "data": {
      "text/plain": [
       "(222,)"
      ]
     },
     "execution_count": 40,
     "metadata": {},
     "output_type": "execute_result"
    }
   ],
   "source": [
    "net_mean.shape"
   ]
  },
  {
   "cell_type": "code",
   "execution_count": null,
   "metadata": {
    "collapsed": true
   },
   "outputs": [],
   "source": []
  }
 ],
 "metadata": {
  "kernelspec": {
   "display_name": "Python 2",
   "language": "python",
   "name": "python2"
  },
  "language_info": {
   "codemirror_mode": {
    "name": "ipython",
    "version": 2
   },
   "file_extension": ".py",
   "mimetype": "text/x-python",
   "name": "python",
   "nbconvert_exporter": "python",
   "pygments_lexer": "ipython2",
   "version": "2.7.6"
  }
 },
 "nbformat": 4,
 "nbformat_minor": 0
}
