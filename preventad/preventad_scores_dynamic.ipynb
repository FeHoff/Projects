{
 "cells": [
  {
   "cell_type": "markdown",
   "metadata": {},
   "source": [
    "Ok, quick outline:\n",
    "1. Have the network to left\n",
    "2. Have the network time series top center"
   ]
  },
  {
   "cell_type": "code",
   "execution_count": 14,
   "metadata": {
    "collapsed": false
   },
   "outputs": [],
   "source": [
    "# Imports\n",
    "import os\n",
    "import glob\n",
    "import numpy as np\n",
    "import pandas as pd\n",
    "import nilearn as nil\n",
    "import nibabel as nib\n",
    "import brainbox as bb\n",
    "\n",
    "import multiprocessing as mp\n",
    "import statsmodels.api as sm\n",
    "from scipy import stats as st\n",
    "from matplotlib import gridspec\n",
    "from scipy import cluster as scl\n",
    "from nilearn import plotting as nlp\n",
    "\n",
    "from matplotlib import pyplot as plt\n",
    "from sklearn import linear_model as slin\n",
    "import matplotlib.animation as animation\n",
    "from statsmodels.sandbox import stats as sts\n",
    "from matplotlib.colors import LinearSegmentedColormap"
   ]
  },
  {
   "cell_type": "code",
   "execution_count": 15,
   "metadata": {
    "collapsed": false
   },
   "outputs": [
    {
     "name": "stdout",
     "output_type": "stream",
     "text": [
      "Populating the interactive namespace from numpy and matplotlib\n"
     ]
    }
   ],
   "source": [
    "%pylab inline"
   ]
  },
  {
   "cell_type": "code",
   "execution_count": 16,
   "metadata": {
    "collapsed": true
   },
   "outputs": [],
   "source": [
    "def remap(vec, mask):\n",
    "    # Remap the map into volume space\n",
    "    vol = np.zeros_like(mask, dtype=np.float64)\n",
    "    vol[mask] = vec\n",
    "    \n",
    "    return vol"
   ]
  },
  {
   "cell_type": "code",
   "execution_count": 17,
   "metadata": {
    "collapsed": true
   },
   "outputs": [],
   "source": [
    "def make_image(vec, mask_i):\n",
    "    mask = mask_i.get_data() != 0\n",
    "    vol = remap(vec, mask)\n",
    "    img = nib.Nifti1Image(vol, affine=mask_i.get_affine(), header=mask_i.get_header())\n",
    "    return img, vol"
   ]
  },
  {
   "cell_type": "code",
   "execution_count": 18,
   "metadata": {
    "collapsed": true
   },
   "outputs": [],
   "source": [
    "# Define a new colormap\n",
    "cdict = {'red':   ((0.0, 0.0, 0.0),\n",
    "                   (0.5, 0.0, 0.0),\n",
    "                   (0.75, 1.0, 1.0),\n",
    "                   (1.0, 1.0, 1.0)),\n",
    "\n",
    "         'green': ((0.0, 1.0, 1.0),\n",
    "                   (0.25, 0.0, 0.0),\n",
    "                   (0.5, 0.0, 0.0),\n",
    "                   (0.75, 0.0, 0.0),\n",
    "                   (1.0, 1.0, 1.0)),\n",
    "\n",
    "         'blue':  ((0.0, 1.0, 1.0),\n",
    "                   (0.25, 1.0, 1.0),\n",
    "                   (0.5, 0.0, 0.0),\n",
    "                   (1.0, 0.0, 0.0))\n",
    "        }\n",
    "hotcold = LinearSegmentedColormap('hotcold', cdict)"
   ]
  },
  {
   "cell_type": "code",
   "execution_count": 19,
   "metadata": {
    "collapsed": true
   },
   "outputs": [],
   "source": [
    "# Paths\n",
    "mask_path = '/data1/abide/Mask/mask_data_specific.nii.gz'\n",
    "prior_path = '/data1/cambridge/template/template_cambridge_basc_multiscale_sym_scale012.nii.gz'\n",
    "pheno_path = '/data1/abide/Pheno/merged_pheno.csv'\n",
    "sub_path = '/data1/abide/Full/abide_release_sym_gsc0_lp01/Stanford/fmri_0051198_session_1_run1.nii.gz'"
   ]
  },
  {
   "cell_type": "code",
   "execution_count": 20,
   "metadata": {
    "collapsed": true
   },
   "outputs": [],
   "source": [
    "# Get the mask\n",
    "m_img = nib.load(mask_path)\n",
    "mask = m_img.get_data()!=0"
   ]
  },
  {
   "cell_type": "code",
   "execution_count": 21,
   "metadata": {
    "collapsed": false
   },
   "outputs": [],
   "source": [
    "# Get the subject\n",
    "s_img = nib.load(sub_path)\n",
    "data = s_img.get_data()[mask]"
   ]
  },
  {
   "cell_type": "code",
   "execution_count": 118,
   "metadata": {
    "collapsed": true
   },
   "outputs": [],
   "source": [
    "# Get the prior\n",
    "p_img = nib.load(prior_path)\n",
    "prior = p_img.get_data()\n",
    "part = prior[mask]"
   ]
  },
  {
   "cell_type": "code",
   "execution_count": 122,
   "metadata": {
    "collapsed": false
   },
   "outputs": [],
   "source": [
    "# Make an image of just network 8\n",
    "net_8 = np.zeros_like(prior)\n",
    "net_8[prior==8] = 1\n",
    "net_8_img = nib.Nifti1Image(net_8, affine=m_img.get_affine(), header=m_img.get_header())"
   ]
  },
  {
   "cell_type": "code",
   "execution_count": 115,
   "metadata": {
    "collapsed": false
   },
   "outputs": [],
   "source": [
    "# Make a mean time series for network 8\n",
    "net_data = data[part==8]\n",
    "net_mean = np.mean(net_data,0)"
   ]
  },
  {
   "cell_type": "code",
   "execution_count": 8,
   "metadata": {
    "collapsed": true
   },
   "outputs": [],
   "source": [
    "# Make some sliding windows\n",
    "n_img = data.shape[1]\n",
    "sld_width = 80\n",
    "window = np.arange(0,n_img-sld_width)"
   ]
  },
  {
   "cell_type": "code",
   "execution_count": 55,
   "metadata": {
    "collapsed": false
   },
   "outputs": [],
   "source": [
    "def get_net(w_id, windows, data, sld_width, part):\n",
    "    # Get the correlation of the network average with the rest of the brain in the sliding window\n",
    "    w_start = window[w_id]\n",
    "    w_stop = w_start+sld_width\n",
    "    sld_data = data[:,w_start:w_stop]\n",
    "\n",
    "    n_img = sld_data.shape[1]\n",
    "    n_vox = sld_data.shape[0]\n",
    "    # Get the network average for all networks\n",
    "    net_avg = np.zeros((12, n_img))\n",
    "    net_corr = np.zeros((12, n_vox))\n",
    "    for n_id, n_val in enumerate(np.arange(1,13)):\n",
    "        net_avg[n_id] = np.mean(sld_data[part==n_val,...],0)\n",
    "        net_corr[n_id, :] = np.array([np.corrcoef(sld_data[i,:],net_avg[n_id,:])[0,1] for i in np.arange(n_vox)])\n",
    "    \n",
    "    bin_part = np.argmax(net_corr,0)\n",
    "    \n",
    "    return net_avg, net_corr, bin_part"
   ]
  },
  {
   "cell_type": "code",
   "execution_count": 57,
   "metadata": {
    "collapsed": true
   },
   "outputs": [],
   "source": [
    "s1 = 10\n",
    "s2 = 70\n",
    "s3 = 130"
   ]
  },
  {
   "cell_type": "code",
   "execution_count": 84,
   "metadata": {
    "collapsed": true
   },
   "outputs": [],
   "source": [
    "def run_par(args):\n",
    "    w, window, data, sld_width, part = args\n",
    "    a1, c1, p1 = get_net(w, window, data, sld_width, part)\n",
    "    np1 = np.zeros(part.shape)\n",
    "    np1[p1==7] = 1\n",
    "    out = make_image(np1, m_img)[1]\n",
    "    \n",
    "    return out"
   ]
  },
  {
   "cell_type": "code",
   "execution_count": 82,
   "metadata": {
    "collapsed": false
   },
   "outputs": [],
   "source": [
    "job_list = list()\n",
    "for w_id, w in enumerate(window):\n",
    "    job_list.append((w, window, data, sld_width, part))"
   ]
  },
  {
   "cell_type": "code",
   "execution_count": 83,
   "metadata": {
    "collapsed": true
   },
   "outputs": [
    {
     "name": "stdout",
     "output_type": "stream",
     "text": [
      "Running w 1\n",
      "Running w 7\n",
      "Running w 13\n",
      "Running w 19\n",
      "Running w 25\n",
      "Running w 31\n",
      "Running w 37\n",
      "Running w 2Running w 8Running w 14Running w 20Running w 26Running w 32Running w 38\n",
      "\n",
      "\n",
      "\n",
      "\n",
      "\n",
      "\n",
      "Running w 3Running w 9Running w 15Running w 21Running w 27Running w 33Running w 39\n",
      "\n",
      "\n",
      "\n",
      "\n",
      "\n",
      "\n",
      "Running w 4Running w 10Running w 16Running w 22Running w 28Running w 34Running w 40\n",
      "\n",
      "\n",
      "\n",
      "\n",
      "\n",
      "\n",
      "Running w 5Running w 11Running w 17Running w 23Running w 29Running w 35Running w 41\n",
      "\n",
      "\n",
      "\n",
      "\n",
      "\n",
      "\n",
      "Running w 6Running w 12Running w 18Running w 24Running w 30Running w 36Running w 42\n",
      "\n",
      "\n",
      "\n",
      "\n",
      "\n",
      "\n",
      "Running w 43Running w 55Running w 49Running w 67Running w 61Running w 73Running w 79\n",
      "\n",
      "\n",
      "\n",
      "\n",
      "\n",
      "\n",
      "Running w 44Running w 56Running w 50Running w 68Running w 62Running w 74Running w 80\n",
      "\n",
      "\n",
      "\n",
      "\n",
      "\n",
      "\n",
      "Running w 45Running w 57Running w 51Running w 69Running w 63Running w 75Running w 81\n",
      "\n",
      "\n",
      "\n",
      "\n",
      "\n",
      "\n",
      "Running w 46Running w 58Running w 52Running w 70Running w 64Running w 76Running w 82\n",
      "\n",
      "\n",
      "\n",
      "\n",
      "\n",
      "\n",
      "Running w 47Running w 59Running w 53Running w 71Running w 65Running w 77Running w 83\n",
      "\n",
      "\n",
      "\n",
      "\n",
      "\n",
      "\n",
      "Running w 48Running w 60Running w 54Running w 72Running w 66Running w 78Running w 84\n",
      "\n",
      "\n",
      "\n",
      "\n",
      "\n",
      "\n",
      "Running w 85Running w 109Running w 103Running w 115Running w 91Running w 97Running w 121\n",
      "\n",
      "\n",
      "\n",
      "\n",
      "\n",
      "\n",
      "Running w 86Running w 110Running w 104Running w 116Running w 92Running w 98Running w 122\n",
      "\n",
      "\n",
      "\n",
      "\n",
      "\n",
      "\n",
      "Running w 87Running w 111Running w 105Running w 117Running w 93Running w 99Running w 123\n",
      "\n",
      "\n",
      "\n",
      "\n",
      "\n",
      "\n",
      "Running w 88Running w 112Running w 106Running w 118Running w 94Running w 100Running w 124\n",
      "\n",
      "\n",
      "\n",
      "\n",
      "\n",
      "\n",
      "Running w 89Running w 113Running w 107Running w 119Running w 95Running w 101Running w 125\n",
      "\n",
      "\n",
      "\n",
      "\n",
      "\n",
      "\n",
      "Running w 90Running w 114Running w 108Running w 120Running w 96Running w 102Running w 126\n",
      "\n",
      "\n",
      "\n",
      "\n",
      "\n",
      "\n",
      "Running w 127Running w 133Running w 139\n",
      "\n",
      "\n",
      "Running w 128Running w 134Running w 140\n",
      "\n",
      "\n",
      "Running w 129Running w 135Running w 141\n",
      "\n",
      "\n",
      "Running w 130Running w 136Running w 142\n",
      "\n",
      "\n",
      "Running w 131Running w 137\n",
      "\n",
      "Running w 132Running w 138\n",
      "\n"
     ]
    }
   ],
   "source": [
    "p = mp.Pool(processes=7)\n",
    "results = p.map(run_par, job_list)"
   ]
  },
  {
   "cell_type": "code",
   "execution_count": 89,
   "metadata": {
    "collapsed": false
   },
   "outputs": [],
   "source": [
    "net1 = np.zeros_like(mask, dtype=float)\n",
    "for res in results:\n",
    "    net1 += res\n",
    "net1 = net1/len(res)"
   ]
  },
  {
   "cell_type": "code",
   "execution_count": 95,
   "metadata": {
    "collapsed": false
   },
   "outputs": [],
   "source": [
    "ni_avg1 = nib.Nifti1Image(net1, affine=m_img.get_affine(), header=m_img.get_header())"
   ]
  },
  {
   "cell_type": "code",
   "execution_count": 94,
   "metadata": {
    "collapsed": false
   },
   "outputs": [
    {
     "data": {
      "text/plain": [
       "<nilearn.plotting.displays.OrthoProjector at 0x70d8f50>"
      ]
     },
     "execution_count": 94,
     "metadata": {},
     "output_type": "execute_result"
    },
    {
     "data": {
      "image/png": "[encoded data removed]",
      "text/plain": [
       "<matplotlib.figure.Figure at 0x71a3e10>"
      ]
     },
     "metadata": {},
     "output_type": "display_data"
    }
   ],
   "source": [
    "nlp.plot_glass_brain(ni1)"
   ]
  },
  {
   "cell_type": "code",
   "execution_count": 107,
   "metadata": {
    "collapsed": false
   },
   "outputs": [],
   "source": [
    "a1, c1, p1 = get_net(s1, window, data, sld_width, part)\n",
    "np1 = np.zeros_like(part)\n",
    "np1[p1==7] = 1\n",
    "ni1 = make_image(np1, m_img)\n",
    "ci1 = make_image(c1[7,:], m_img)\n",
    "\n",
    "a2, c2, p2 = get_net(s2, window, data, sld_width, part)\n",
    "np2 = np.zeros_like(part)\n",
    "np2[p2==7] = 1\n",
    "ni2 = make_image(np2, m_img)\n",
    "ci2 = make_image(c2[7,:], m_img)\n",
    "\n",
    "a3, c3, p3 = get_net(s3, window, data, sld_width, part)\n",
    "np3 = np.zeros_like(part)\n",
    "np3[p3==7] = 1\n",
    "ni3 = make_image(np3, m_img)\n",
    "ci3 = make_image(c3[7,:], m_img)"
   ]
  },
  {
   "cell_type": "code",
   "execution_count": 3,
   "metadata": {
    "collapsed": false
   },
   "outputs": [
    {
     "ename": "NameError",
     "evalue": "name 'net_mean' is not defined",
     "output_type": "error",
     "traceback": [
      "\u001b[1;31m---------------------------------------------------------------------------\u001b[0m",
      "\u001b[1;31mNameError\u001b[0m                                 Traceback (most recent call last)",
      "\u001b[1;32m<ipython-input-3-f94a17ff569d>\u001b[0m in \u001b[0;36m<module>\u001b[1;34m()\u001b[0m\n\u001b[0;32m      7\u001b[0m \u001b[1;33m\u001b[0m\u001b[0m\n\u001b[0;32m      8\u001b[0m \u001b[0max_time\u001b[0m \u001b[1;33m=\u001b[0m \u001b[0mfig\u001b[0m\u001b[1;33m.\u001b[0m\u001b[0madd_subplot\u001b[0m\u001b[1;33m(\u001b[0m\u001b[0mgs\u001b[0m\u001b[1;33m[\u001b[0m\u001b[1;36m0\u001b[0m\u001b[1;33m,\u001b[0m\u001b[1;36m1\u001b[0m\u001b[1;33m]\u001b[0m\u001b[1;33m)\u001b[0m\u001b[1;33m\u001b[0m\u001b[0m\n\u001b[1;32m----> 9\u001b[1;33m \u001b[0max_time\u001b[0m\u001b[1;33m.\u001b[0m\u001b[0mplot\u001b[0m\u001b[1;33m(\u001b[0m\u001b[0mnet_mean\u001b[0m\u001b[1;33m)\u001b[0m\u001b[1;33m\u001b[0m\u001b[0m\n\u001b[0m\u001b[0;32m     10\u001b[0m \u001b[0max_time\u001b[0m\u001b[1;33m.\u001b[0m\u001b[0mset_xlim\u001b[0m\u001b[1;33m(\u001b[0m\u001b[1;33m[\u001b[0m\u001b[1;36m0\u001b[0m\u001b[1;33m,\u001b[0m\u001b[1;36m220\u001b[0m\u001b[1;33m]\u001b[0m\u001b[1;33m)\u001b[0m\u001b[1;33m\u001b[0m\u001b[0m\n\u001b[0;32m     11\u001b[0m \u001b[0max_time\u001b[0m\u001b[1;33m.\u001b[0m\u001b[0mset_xlabel\u001b[0m\u001b[1;33m(\u001b[0m\u001b[1;34m'time'\u001b[0m\u001b[1;33m)\u001b[0m\u001b[1;33m\u001b[0m\u001b[0m\n",
      "\u001b[1;31mNameError\u001b[0m: name 'net_mean' is not defined"
     ]
    }
   ],
   "source": [
    "# Make a static figure\n",
    "fig = plt.figure(figsize=(14,8))\n",
    "gs = gridspec.GridSpec(2, 3, hspace=0.6)\n",
    "\n",
    "ax_prior = fig.add_subplot(gs[0,0])\n",
    "ax_prior.set_title('Prior')\n",
    "\n",
    "ax_time = fig.add_subplot(gs[0,1])\n",
    "ax_time.plot(net_mean)\n",
    "ax_time.set_xlim([0,220])\n",
    "ax_time.set_xlabel('time')\n",
    "ax_time.set_ylabel('network signal')\n",
    "ax_time.set_title('Average signal in network 8')\n",
    "ax_time.set_yticklabels([])\n",
    "\n",
    "ax_stab = fig.add_subplot(gs[0,2])\n",
    "ax_stab.set_title('Stability map')\n",
    "\n",
    "ax_corr = fig.add_subplot(gs[1,:])\n",
    "ax_corr1.set_title('seed window 1')"
   ]
  },
  {
   "cell_type": "code",
   "execution_count": 51,
   "metadata": {
    "collapsed": true
   },
   "outputs": [],
   "source": [
    "def fig_iter(i, window, ax):\n",
    "    if i%2 == 0:\n",
    "        ax.axvspan(window[i], window[i]+80, color='red', alpha=0.5)\n",
    "    else:\n",
    "        ax.axvspan(window[i], window[i]+80, color='blue', alpha=0.5)\n",
    "    ax.set_title('{}'.format(i))\n",
    "    return ax"
   ]
  },
  {
   "cell_type": "code",
   "execution_count": 22,
   "metadata": {
    "collapsed": true
   },
   "outputs": [],
   "source": [
    "from tempfile import NamedTemporaryFile\n",
    "\n",
    "VIDEO_TAG = \"\"\"<video controls>\n",
    " <source src=\"data:video/x-m4v;base64,{0}\" type=\"video/mp4\">\n",
    " Your browser does not support the video tag.\n",
    "</video>\"\"\"\n",
    "\n",
    "def anim_to_html(anim):\n",
    "    if not hasattr(anim, '_encoded_video'):\n",
    "        with NamedTemporaryFile(suffix='.mp4') as f:\n",
    "            anim.save(f.name, fps=20, extra_args=['-vcodec', 'libx264'])\n",
    "            video = open(f.name, \"rb\").read()\n",
    "        anim._encoded_video = video.encode(\"base64\")\n",
    "    \n",
    "    return VIDEO_TAG.format(anim._encoded_video)"
   ]
  },
  {
   "cell_type": "code",
   "execution_count": 25,
   "metadata": {
    "collapsed": true
   },
   "outputs": [],
   "source": [
    "from IPython.display import HTML\n",
    "\n",
    "def display_animation(anim):\n",
    "    plt.close(anim._fig)\n",
    "    return HTML(anim_to_html(anim))"
   ]
  },
  {
   "cell_type": "code",
   "execution_count": 27,
   "metadata": {
    "collapsed": true
   },
   "outputs": [],
   "source": [
    "n_img = data.shape[1]\n",
    "sld_width = 80\n",
    "window = np.arange(0,n_img-sld_width)\n",
    "n_iter = len(window)"
   ]
  },
  {
   "cell_type": "code",
   "execution_count": 28,
   "metadata": {
    "collapsed": false
   },
   "outputs": [
    {
     "data": {
      "text/plain": [
       "(142,)"
      ]
     },
     "execution_count": 28,
     "metadata": {},
     "output_type": "execute_result"
    }
   ],
   "source": [
    "window.shape"
   ]
  },
  {
   "cell_type": "code",
   "execution_count": 69,
   "metadata": {
    "collapsed": false
   },
   "outputs": [
    {
     "ename": "TypeError",
     "evalue": "'AxesSubplot' object is not iterable",
     "output_type": "error",
     "traceback": [
      "\u001b[1;31m---------------------------------------------------------------------------\u001b[0m",
      "\u001b[1;31mTypeError\u001b[0m                                 Traceback (most recent call last)",
      "\u001b[1;32m<ipython-input-69-cca25d107367>\u001b[0m in \u001b[0;36m<module>\u001b[1;34m()\u001b[0m\n\u001b[0;32m     19\u001b[0m \u001b[1;33m\u001b[0m\u001b[0m\n\u001b[0;32m     20\u001b[0m im_ani = animation.ArtistAnimation(fig, ims, interval=50, repeat_delay=3000,\n\u001b[1;32m---> 21\u001b[1;33m     blit=True)\n\u001b[0m\u001b[0;32m     22\u001b[0m \u001b[1;33m\u001b[0m\u001b[0m\n\u001b[0;32m     23\u001b[0m \u001b[1;31m#line_ani = animation.FuncAnimation(fig, fig_iter, 40, fargs=(window, ax),\u001b[0m\u001b[1;33m\u001b[0m\u001b[1;33m\u001b[0m\u001b[0m\n",
      "\u001b[1;32m/home/surchs/Enthought/Canopy_64bit/User/lib/python2.7/site-packages/matplotlib/animation.pyc\u001b[0m in \u001b[0;36m__init__\u001b[1;34m(self, fig, artists, *args, **kwargs)\u001b[0m\n\u001b[0;32m    967\u001b[0m         \u001b[1;31m# over by the machinery.\u001b[0m\u001b[1;33m\u001b[0m\u001b[1;33m\u001b[0m\u001b[0m\n\u001b[0;32m    968\u001b[0m         \u001b[0mself\u001b[0m\u001b[1;33m.\u001b[0m\u001b[0m_framedata\u001b[0m \u001b[1;33m=\u001b[0m \u001b[0martists\u001b[0m\u001b[1;33m\u001b[0m\u001b[0m\n\u001b[1;32m--> 969\u001b[1;33m         \u001b[0mTimedAnimation\u001b[0m\u001b[1;33m.\u001b[0m\u001b[0m__init__\u001b[0m\u001b[1;33m(\u001b[0m\u001b[0mself\u001b[0m\u001b[1;33m,\u001b[0m \u001b[0mfig\u001b[0m\u001b[1;33m,\u001b[0m \u001b[1;33m*\u001b[0m\u001b[0margs\u001b[0m\u001b[1;33m,\u001b[0m \u001b[1;33m**\u001b[0m\u001b[0mkwargs\u001b[0m\u001b[1;33m)\u001b[0m\u001b[1;33m\u001b[0m\u001b[0m\n\u001b[0m\u001b[0;32m    970\u001b[0m \u001b[1;33m\u001b[0m\u001b[0m\n\u001b[0;32m    971\u001b[0m     \u001b[1;32mdef\u001b[0m \u001b[0m_init_draw\u001b[0m\u001b[1;33m(\u001b[0m\u001b[0mself\u001b[0m\u001b[1;33m)\u001b[0m\u001b[1;33m:\u001b[0m\u001b[1;33m\u001b[0m\u001b[0m\n",
      "\u001b[1;32m/home/surchs/Enthought/Canopy_64bit/User/lib/python2.7/site-packages/matplotlib/animation.pyc\u001b[0m in \u001b[0;36m__init__\u001b[1;34m(self, fig, interval, repeat_delay, repeat, event_source, *args, **kwargs)\u001b[0m\n\u001b[0;32m    911\u001b[0m \u001b[1;33m\u001b[0m\u001b[0m\n\u001b[0;32m    912\u001b[0m         Animation.__init__(self, fig, event_source=event_source,\n\u001b[1;32m--> 913\u001b[1;33m                            *args, **kwargs)\n\u001b[0m\u001b[0;32m    914\u001b[0m \u001b[1;33m\u001b[0m\u001b[0m\n\u001b[0;32m    915\u001b[0m     \u001b[1;32mdef\u001b[0m \u001b[0m_step\u001b[0m\u001b[1;33m(\u001b[0m\u001b[0mself\u001b[0m\u001b[1;33m,\u001b[0m \u001b[1;33m*\u001b[0m\u001b[0margs\u001b[0m\u001b[1;33m)\u001b[0m\u001b[1;33m:\u001b[0m\u001b[1;33m\u001b[0m\u001b[0m\n",
      "\u001b[1;32m/home/surchs/Enthought/Canopy_64bit/User/lib/python2.7/site-packages/matplotlib/animation.pyc\u001b[0m in \u001b[0;36m__init__\u001b[1;34m(self, fig, event_source, blit)\u001b[0m\n\u001b[0;32m    589\u001b[0m \u001b[1;33m\u001b[0m\u001b[0m\n\u001b[0;32m    590\u001b[0m         \u001b[1;31m# Clear the initial frame\u001b[0m\u001b[1;33m\u001b[0m\u001b[1;33m\u001b[0m\u001b[0m\n\u001b[1;32m--> 591\u001b[1;33m         \u001b[0mself\u001b[0m\u001b[1;33m.\u001b[0m\u001b[0m_init_draw\u001b[0m\u001b[1;33m(\u001b[0m\u001b[1;33m)\u001b[0m\u001b[1;33m\u001b[0m\u001b[0m\n\u001b[0m\u001b[0;32m    592\u001b[0m \u001b[1;33m\u001b[0m\u001b[0m\n\u001b[0;32m    593\u001b[0m         \u001b[1;31m# Instead of starting the event source now, we connect to the figure's\u001b[0m\u001b[1;33m\u001b[0m\u001b[1;33m\u001b[0m\u001b[0m\n",
      "\u001b[1;32m/home/surchs/Enthought/Canopy_64bit/User/lib/python2.7/site-packages/matplotlib/animation.pyc\u001b[0m in \u001b[0;36m_init_draw\u001b[1;34m(self)\u001b[0m\n\u001b[0;32m    973\u001b[0m         \u001b[0maxes\u001b[0m \u001b[1;33m=\u001b[0m \u001b[1;33m[\u001b[0m\u001b[1;33m]\u001b[0m\u001b[1;33m\u001b[0m\u001b[0m\n\u001b[0;32m    974\u001b[0m         \u001b[1;32mfor\u001b[0m \u001b[0mf\u001b[0m \u001b[1;32min\u001b[0m \u001b[0mself\u001b[0m\u001b[1;33m.\u001b[0m\u001b[0mnew_frame_seq\u001b[0m\u001b[1;33m(\u001b[0m\u001b[1;33m)\u001b[0m\u001b[1;33m:\u001b[0m\u001b[1;33m\u001b[0m\u001b[0m\n\u001b[1;32m--> 975\u001b[1;33m             \u001b[1;32mfor\u001b[0m \u001b[0martist\u001b[0m \u001b[1;32min\u001b[0m \u001b[0mf\u001b[0m\u001b[1;33m:\u001b[0m\u001b[1;33m\u001b[0m\u001b[0m\n\u001b[0m\u001b[0;32m    976\u001b[0m                 \u001b[0martist\u001b[0m\u001b[1;33m.\u001b[0m\u001b[0mset_visible\u001b[0m\u001b[1;33m(\u001b[0m\u001b[0mFalse\u001b[0m\u001b[1;33m)\u001b[0m\u001b[1;33m\u001b[0m\u001b[0m\n\u001b[0;32m    977\u001b[0m                 \u001b[1;31m# Assemble a list of unique axes that need flushing\u001b[0m\u001b[1;33m\u001b[0m\u001b[1;33m\u001b[0m\u001b[0m\n",
      "\u001b[1;31mTypeError\u001b[0m: 'AxesSubplot' object is not iterable"
     ]
    },
    {
     "data": {
      "image/png": "[encoded data removed]",
      "text/plain": [
       "<matplotlib.figure.Figure at 0x2b2b7b50>"
      ]
     },
     "metadata": {},
     "output_type": "display_data"
    }
   ],
   "source": [
    "# Make some sliding windows\n",
    "n_img = data.shape[1]\n",
    "sld_width = 80\n",
    "window = np.arange(0,n_img-sld_width)\n",
    "n_iter = len(window)\n",
    "\n",
    "fig = plt.figure(figsize=(14,8))\n",
    "gs = gridspec.GridSpec(1,1, hspace=0.6)\n",
    "\n",
    "ax = fig.add_subplot(gs[0,0])\n",
    "ax.set_xlim([0,220])\n",
    "ax.set_xlabel('time')\n",
    "ax.set_ylabel('network signal')\n",
    "\n",
    "ims = []\n",
    "for i in np.arange(40):\n",
    "    a = ax.axvspan(window[i], window[i]+80, color='red', alpha=0.5)\n",
    "    ims.append(ax)\n",
    "\n",
    "im_ani = animation.ArtistAnimation(fig, ims, interval=50, repeat_delay=3000,\n",
    "    blit=True)\n",
    "\n",
    "#line_ani = animation.FuncAnimation(fig, fig_iter, 40, fargs=(window, ax),\n",
    "#    interval=1, blit=True)\n",
    "display_animation(im_ani)"
   ]
  },
  {
   "cell_type": "code",
   "execution_count": 66,
   "metadata": {
    "collapsed": false
   },
   "outputs": [
    {
     "ename": "TypeError",
     "evalue": "draw_wrapper() takes at least 2 arguments (1 given)",
     "output_type": "error",
     "traceback": [
      "\u001b[1;31m---------------------------------------------------------------------------\u001b[0m",
      "\u001b[1;31mTypeError\u001b[0m                                 Traceback (most recent call last)",
      "\u001b[1;32m<ipython-input-66-05f1523ccc44>\u001b[0m in \u001b[0;36m<module>\u001b[1;34m()\u001b[0m\n\u001b[1;32m----> 1\u001b[1;33m \u001b[0ma\u001b[0m\u001b[1;33m.\u001b[0m\u001b[0mdraw\u001b[0m\u001b[1;33m(\u001b[0m\u001b[1;33m)\u001b[0m\u001b[1;33m\u001b[0m\u001b[0m\n\u001b[0m",
      "\u001b[1;31mTypeError\u001b[0m: draw_wrapper() takes at least 2 arguments (1 given)"
     ]
    }
   ],
   "source": [
    "a.draw()"
   ]
  },
  {
   "cell_type": "code",
   "execution_count": 61,
   "metadata": {
    "collapsed": false
   },
   "outputs": [
    {
     "ename": "NameError",
     "evalue": "name 'a' is not defined",
     "output_type": "error",
     "traceback": [
      "\u001b[1;31m---------------------------------------------------------------------------\u001b[0m",
      "\u001b[1;31mNameError\u001b[0m                                 Traceback (most recent call last)",
      "\u001b[1;32m<ipython-input-61-60b725f10c9c>\u001b[0m in \u001b[0;36m<module>\u001b[1;34m()\u001b[0m\n\u001b[1;32m----> 1\u001b[1;33m \u001b[0ma\u001b[0m\u001b[1;33m\u001b[0m\u001b[0m\n\u001b[0m",
      "\u001b[1;31mNameError\u001b[0m: name 'a' is not defined"
     ]
    }
   ],
   "source": [
    "a"
   ]
  },
  {
   "cell_type": "code",
   "execution_count": null,
   "metadata": {
    "collapsed": true
   },
   "outputs": [],
   "source": [
    "# Make a static figure\n",
    "fig = plt.figure(figsize=(14,8))\n",
    "gs = gridspec.GridSpec(3, 3, hspace=0.6)\n",
    "ax_prior = fig.add_subplot(gs[0,0])\n",
    "nlp.plot_stat_map(net_8_img, axes=ax_prior, colorbar=False, display_mode='x', cut_coords=(0,), cmap=cm.RdBu_r)\n",
    "ax_prior.set_title('Prior')\n",
    "\n",
    "ax_time = fig.add_subplot(gs[0,1])\n",
    "ax_time.plot(net_mean)\n",
    "ax_time.axvspan(window[s1], window[s1]+sld_width, color='red', alpha=0.5)\n",
    "ax_time.axvspan(window[s2], window[s2]+sld_width, color='yellow', alpha=0.5)\n",
    "ax_time.axvspan(window[s3], window[s3]+sld_width, color='blue', alpha=0.5)\n",
    "ax_time.set_xlim([0,220])\n",
    "ax_time.set_xlabel('time')\n",
    "ax_time.set_ylabel('network signal')\n",
    "ax_time.set_title('Average signal in network 8')\n",
    "ax_time.set_yticklabels([])\n",
    "\n",
    "ax_stab = fig.add_subplot(gs[0,2])\n",
    "nlp.plot_stat_map(ni_avg1, axes=ax_stab, colorbar=False, display_mode='x', cut_coords=(0,), cmap=hotcold)\n",
    "ax_stab.set_title('Stability map')\n",
    "\n",
    "ax_corr1 = fig.add_subplot(gs[1,0])\n",
    "nlp.plot_glass_brain(ci1[0], cmap=hotcold, axes=ax_corr1, vmin=-1, vmax=1)\n",
    "ax_corr1.set_title('seed window 1')\n",
    "\n",
    "ax_bin1 = fig.add_subplot(gs[2,0])\n",
    "nlp.plot_stat_map(ni1[0], axes=ax_bin1, colorbar=False, display_mode='x', cut_coords=(0,), cmap=cm.RdBu_r)\n",
    "ax_bin1.set_title('winner take all partition')\n",
    "\n",
    "ax_corr2 = fig.add_subplot(gs[1,1])\n",
    "nlp.plot_glass_brain(ci2[0], cmap=hotcold, axes=ax_corr2, vmin=-1, vmax=1)\n",
    "ax_corr2.set_title('seed window 2')\n",
    "\n",
    "ax_bin2 = fig.add_subplot(gs[2,1])\n",
    "nlp.plot_stat_map(ni2[0], axes=ax_bin2, colorbar=False, display_mode='x', cut_coords=(0,), cmap=cm.RdBu_r)\n",
    "ax_bin2.set_title('winner take all partition')\n",
    "\n",
    "ax_corr3 = fig.add_subplot(gs[1,2])\n",
    "nlp.plot_glass_brain(ci3[0], cmap=hotcold, axes=ax_corr3, vmin=-1, vmax=1)\n",
    "ax_corr3.set_title('seed window 3')\n",
    "\n",
    "ax_bin3 = fig.add_subplot(gs[2,2])\n",
    "nlp.plot_stat_map(ni3[0], axes=ax_bin3, colorbar=False, display_mode='x', cut_coords=(0,), cmap=cm.RdBu_r)\n",
    "ax_bin3.set_title('winner take all partition')\n",
    "fig.savefig('static_figure.svg', dpi=300)"
   ]
  }
 ],
 "metadata": {
  "kernelspec": {
   "display_name": "Python 2",
   "language": "python",
   "name": "python2"
  },
  "language_info": {
   "codemirror_mode": {
    "name": "ipython",
    "version": 2
   },
   "file_extension": ".py",
   "mimetype": "text/x-python",
   "name": "python",
   "nbconvert_exporter": "python",
   "pygments_lexer": "ipython2",
   "version": "2.7.6"
  }
 },
 "nbformat": 4,
 "nbformat_minor": 0
}
