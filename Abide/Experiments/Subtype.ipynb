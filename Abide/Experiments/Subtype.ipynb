{
 "cells": [
  {
   "cell_type": "markdown",
   "metadata": {},
   "source": [
    "# Subtype analysis\n",
    "This experiment aims to identify subtypes within the ABIDE dataset based on three different types of maps:\n",
    "\n",
    "1. Scores\n",
    "2. Dual Regression\n",
    "3. Seed Functional Connectivity\n",
    "\n",
    "I will then compute individual weights for each of these subjects reflecting the overall similarity of an individuals map with the average subtype map. These weights will then be used in a GLM to regress against a number of phenotype variables.\n",
    "\n",
    "## Scientific Assumptions\n",
    "\n",
    "1. We will identify 7 subtypes per map. This could also be a data driven number, but not for now.\n",
    "\n",
    "## Scientific Question\n",
    "These are the questions I want to ask:\n",
    "\n",
    "1. What are the subtype maps and how do they differ within a map-type\n",
    "2. Are there subtypes for which the individual weights are predictive of the phenotype data\n",
    "3. Is there a map type that is more useful for this investigation than the others (or a ranking)\n",
    "\n",
    "## Practical Questions\n",
    "\n",
    "1. Do we really need to demean the maps? For most of the maps, the values are already scaled. They are not 0-centered, but that could very well be meaningful. I'm not sure what demeaning does then."
   ]
  },
  {
   "cell_type": "code",
   "execution_count": 29,
   "metadata": {
    "collapsed": false
   },
   "outputs": [],
   "source": [
    "# Imports\n",
    "import os\n",
    "import glob\n",
    "import numpy as np\n",
    "import pandas as pd\n",
    "import nibabel as nib\n",
    "import statsmodels.api as sm\n",
    "from scipy import stats as st\n",
    "from scipy import cluster as scl\n",
    "from matplotlib import pyplot as plt\n",
    "from sklearn import linear_model as slin"
   ]
  },
  {
   "cell_type": "code",
   "execution_count": 5,
   "metadata": {
    "collapsed": false
   },
   "outputs": [
    {
     "name": "stdout",
     "output_type": "stream",
     "text": [
      "Populating the interactive namespace from numpy and matplotlib\n"
     ]
    }
   ],
   "source": [
    "%pylab inline"
   ]
  },
  {
   "cell_type": "code",
   "execution_count": 3,
   "metadata": {
    "collapsed": true
   },
   "outputs": [],
   "source": [
    "# Paths\n",
    "scale = 7\n",
    "subtypes = 7\n",
    "network = 1\n",
    "net_id = network - 1\n",
    "template = '*_fmri_{:07d}_session_1_run1_stability_maps.nii.gz'\n",
    "data_path = '/data1/abide/Out/Scores/sc{:02d}/time'.format(scale)\n",
    "pheno_path = '/data1/abide/Pheno/pheno.csv'\n",
    "mask_path = '/data1/abide/Mask/mask_data_specific.nii.gz'\n",
    "map_types = ['stability_maps', 'rmap_part', 'dual_regression']"
   ]
  },
  {
   "cell_type": "code",
   "execution_count": 25,
   "metadata": {
    "collapsed": false
   },
   "outputs": [],
   "source": [
    "# Load the mask\n",
    "m_img = nib.load(mask_path)\n",
    "mask = m_img.get_data()\n",
    "mask = mask!=0\n",
    "n_vox = np.sum(mask)"
   ]
  },
  {
   "cell_type": "code",
   "execution_count": 5,
   "metadata": {
    "collapsed": false
   },
   "outputs": [],
   "source": [
    "# Load the phenotype information\n",
    "pheno = pd.read_csv(pheno_path)"
   ]
  },
  {
   "cell_type": "code",
   "execution_count": 21,
   "metadata": {
    "collapsed": false
   },
   "outputs": [],
   "source": [
    "# Loop through the subject ID's and find the corresponding \n",
    "# files. If there is no file, drop the subject\n",
    "drop_id = list()\n",
    "path_list = list()\n",
    "for index, row in pheno.iterrows():\n",
    "    s_id = row['SUB_ID']\n",
    "    s_path = glob.glob(os.path.join(data_path, map_types[0], template.format(s_id)))\n",
    "    if s_path:\n",
    "        path_list.append(s_path[0])\n",
    "    else:\n",
    "        drop_id.append(index)\n",
    "        continue\n",
    "clean_pheno = pheno.drop(drop_id)"
   ]
  },
  {
   "cell_type": "code",
   "execution_count": 26,
   "metadata": {
    "collapsed": false
   },
   "outputs": [],
   "source": [
    "n_files = len(path_list)\n",
    "# Prepare the storage matrix\n",
    "net_mat = np.zeros((n_vox, n_files))\n",
    "# Go through the files\n",
    "for index, s_path in enumerate(path_list):\n",
    "    f_net = nib.load(s_path).get_data()[mask][..., net_id]\n",
    "    net_mat[..., index] = f_net\n",
    "net_mat = net_mat - np.mean(net_mat,0)"
   ]
  },
  {
   "cell_type": "code",
   "execution_count": 30,
   "metadata": {
    "collapsed": false
   },
   "outputs": [],
   "source": [
    "# Make a correlation matrix of the subjects\n",
    "corr_sub = np.corrcoef(net_mat, rowvar=0)\n",
    "link_sub = scl.hierarchy.ward(corr_sub)\n",
    "part_sub = scl.hierarchy.fcluster(link_sub, subtypes, criterion='maxclust')"
   ]
  },
  {
   "cell_type": "code",
   "execution_count": 31,
   "metadata": {
    "collapsed": false
   },
   "outputs": [],
   "source": [
    "# Make the average of the subtypes\n",
    "sbt_avg = np.zeros((n_vox, subtypes))\n",
    "for idx in range(subtypes):\n",
    "    sub_id = np.unique(part_sub)[idx]\n",
    "    sbt_avg[..., idx] = np.mean(net_mat[...,part_sub==sub_id],1)"
   ]
  },
  {
   "cell_type": "code",
   "execution_count": 59,
   "metadata": {
    "collapsed": false
   },
   "outputs": [],
   "source": [
    "# Generate the individual weights\n",
    "y_stp = np.zeros((n_files, subtypes))\n",
    "for s_id in range(subtypes):\n",
    "    type_map = sbt_avg[:, s_id]\n",
    "    y_stp[:, s_id] = np.array([np.corrcoef(type_map, net_mat[:,x])[0,1] for x in range(n_files)])"
   ]
  },
  {
   "cell_type": "code",
   "execution_count": 114,
   "metadata": {
    "collapsed": false
   },
   "outputs": [],
   "source": [
    "# Get the features from the phenotype data\n",
    "X_diag = pd.get_dummies(clean_pheno['SITE_ID'])\n",
    "X_diag = X_diag.rename(columns={'CALTECH': 'INTERCEPT'})\n",
    "X_diag['INTERCEPT'] = 1"
   ]
  },
  {
   "cell_type": "code",
   "execution_count": 115,
   "metadata": {
    "collapsed": false
   },
   "outputs": [
    {
     "name": "stdout",
     "output_type": "stream",
     "text": [
      "                            OLS Regression Results                            \n",
      "==============================================================================\n",
      "Dep. Variable:                      y   R-squared:                       0.160\n",
      "Model:                            OLS   Adj. R-squared:                  0.145\n",
      "Method:                 Least Squares   F-statistic:                     10.56\n",
      "Date:                Fri, 03 Jul 2015   Prob (F-statistic):           5.66e-25\n",
      "Time:                        13:48:02   Log-Likelihood:                 1027.5\n",
      "No. Observations:                 901   AIC:                            -2021.\n",
      "Df Residuals:                     884   BIC:                            -1939.\n",
      "Df Model:                          16                                         \n",
      "Covariance Type:            nonrobust                                         \n",
      "==============================================================================\n",
      "                 coef    std err          t      P>|t|      [95.0% Conf. Int.]\n",
      "------------------------------------------------------------------------------\n",
      "INTERCEPT      0.6887      0.013     54.360      0.000         0.664     0.714\n",
      "CMU           -0.0510      0.020     -2.595      0.010        -0.090    -0.012\n",
      "KKI            0.0146      0.016      0.885      0.376        -0.018     0.047\n",
      "LEUVEN_1       0.0418      0.019      2.170      0.030         0.004     0.080\n",
      "LEUVEN_2       0.0850      0.018      4.645      0.000         0.049     0.121\n",
      "MAX_MUN       -0.0403      0.016     -2.462      0.014        -0.072    -0.008\n",
      "NYU           -0.0023      0.014     -0.163      0.870        -0.030     0.025\n",
      "OHSU          -0.0270      0.019     -1.386      0.166        -0.065     0.011\n",
      "OLIN           0.0045      0.018      0.247      0.805        -0.031     0.040\n",
      "PITT           0.0089      0.016      0.543      0.587        -0.023     0.041\n",
      "SBL           -0.0335      0.019     -1.757      0.079        -0.071     0.004\n",
      "SDSU           0.0621      0.018      3.418      0.001         0.026     0.098\n",
      "STANFORD       0.0358      0.018      2.024      0.043         0.001     0.071\n",
      "TRINITY        0.0457      0.017      2.710      0.007         0.013     0.079\n",
      "UCLA_1        -0.0311      0.016     -1.988      0.047        -0.062    -0.000\n",
      "UCLA_2        -0.0487      0.020     -2.451      0.014        -0.088    -0.010\n",
      "USM            0.0313      0.015      2.108      0.035         0.002     0.060\n",
      "==============================================================================\n",
      "Omnibus:                      210.053   Durbin-Watson:                   1.984\n",
      "Prob(Omnibus):                  0.000   Jarque-Bera (JB):              576.479\n",
      "Skew:                          -1.178   Prob(JB):                    6.60e-126\n",
      "Kurtosis:                       6.131   Cond. No.                         21.5\n",
      "==============================================================================\n",
      "\n",
      "Warnings:\n",
      "[1] Standard Errors assume that the covariance matrix of the errors is correctly specified.\n"
     ]
    }
   ],
   "source": [
    "model = sm.OLS(y_stp[:,1], X_diag)\n",
    "results = model.fit()\n",
    "print(results.summary())"
   ]
  }
 ],
 "metadata": {
  "kernelspec": {
   "display_name": "Python 2",
   "language": "python",
   "name": "python2"
  },
  "language_info": {
   "codemirror_mode": {
    "name": "ipython",
    "version": 2
   },
   "file_extension": ".py",
   "mimetype": "text/x-python",
   "name": "python",
   "nbconvert_exporter": "python",
   "pygments_lexer": "ipython2",
   "version": "2.7.6"
  }
 },
 "nbformat": 4,
 "nbformat_minor": 0
}
