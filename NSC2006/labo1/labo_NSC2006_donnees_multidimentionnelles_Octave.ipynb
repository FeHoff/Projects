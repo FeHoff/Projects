{
 "metadata": {
  "kernelspec": {
   "display_name": "Python 2",
   "language": "python",
   "name": "python2"
  },
  "language_info": {
   "codemirror_mode": {
    "name": "ipython",
    "version": 2
   },
   "file_extension": ".py",
   "mimetype": "text/x-python",
   "name": "python",
   "nbconvert_exporter": "python",
   "pygments_lexer": "ipython2",
   "version": "2.7.6"
  },
  "name": "",
  "signature": "sha256:c1d8f418e5da5e036f211c5b83055d85690348b9f8ddd5068e481549e96bcf0a"
 },
 "nbformat": 3,
 "nbformat_minor": 0,
 "worksheets": [
  {
   "cells": [
    {
     "cell_type": "markdown",
     "metadata": {},
     "source": [
      "<div align=\"center\">\n",
      "  <h2> M\u00e9thodes quantitatives en neurosciences </h2>\n",
      "</div>"
     ]
    },
    {
     "cell_type": "markdown",
     "metadata": {},
     "source": [
      "<div align=\"center\">\n",
      "<b><i> Cours NSC-2006, ann\u00e9e 2015</i></b><br>\n",
      "<b>Laboratoire d'analyse de donn\u00e9es multidimensionnelle-R\u00e9ponses</b><br>\n",
      "     *Pierre Bellec, Yassine Ben Haj Ali*\n",
      "</div>"
     ]
    },
    {
     "cell_type": "heading",
     "level": 3,
     "metadata": {},
     "source": [
      "Objectif:"
     ]
    },
    {
     "cell_type": "markdown",
     "metadata": {},
     "source": [
      "Ce laboratoire a pour but de vous initier \u00e0 la manipulation\n",
      "d\u2019informations multidimensionnelles avec Matlab. Nous allons pour cela\n",
      "analyser des donn\u00e9es \u00e9lectrophysiologiques de d\u00e9charges d\u2019activit\u00e9\n",
      "neuronale. Nous allons effectuer diff\u00e9rentes op\u00e9rations visant \u00e0\n",
      "**visualiser**, **r\u00e9sumer** et **mod\u00e9liser** ces donn\u00e9es. Les donn\u00e9es\n",
      "sont tir\u00e9e de l\u2019exp\u00e9rience de Georgopoulos1982 sur l\u2019encodage\n",
      "neuronale du mouvement du bras chez un macaque avec des implants\n",
      "neuronaux. L\u2019animal commence l\u2019exp\u00e9rience en fixant un curseur au centre\n",
      "d\u2019une cible, ensuite il doit rejoindre des cibles p\u00e9riph\u00e9riques\n",
      "apparaissent dans une des 8 directions arrang\u00e9 en cercle. Une fois \n",
      "la cible apparue, l\u2019animal doit attendre (\u00a0100-1500 ms) le signal de d\u00e9part avant d\u2019aller rejoindre la cible pour\n",
      "une dur\u00e9e de 500ms, ensuite il retourne au point de d\u00e9part (au centre).\n",
      "Cette s\u00e9quence de mouvement est appel\u00e9e essai et dans cette exp\u00e9rience\n",
      "il y en a 47. Le but de l\u2019exp\u00e9rience de Georgopoulos et coll\u00e8gues est de\n",
      "d\u00e9terminer l\u2019orientation spatiale pr\u00e9f\u00e9rentielle du neurone en question\n",
      "dans la r\u00e9gion MI, et qu\u2019il est possible de pr\u00e9dire la direction du\n",
      "mouvement \u00e0 partir d\u2019enregistrements physiologiques. Leurs r\u00e9sultats\n",
      "indiquent qu\u2019il y a bel et bien une pr\u00e9f\u00e9rence vers les angles de\n",
      "mouvement entre 90 et 180 degr\u00e9s. Durant ce travail nous allons reproduire certaines des analyses de donn\u00e9es et\n",
      "la visualisation des r\u00e9sultats de cette exp\u00e9rience.\n",
      "\n",
      "Pour r\u00e9aliser ce laboratoire, il est n\u00e9cessaire de r\u00e9cup\u00e9rer les\n",
      "resources suivantes sur [studium](https://studium.umontreal.ca/):\n",
      "\n",
      "-   Chap17_Data.mat: le jeu de donn\u00e9es tir\u00e9 de Georgopoulos1982.\n",
      "\n",
      "-   Les scripts `diagramme_dispersion.m` et `diagramme_dispersion_essais.m` pour la Section 1.\n",
      "\n",
      "-   Les scripts `histogramme_essai1.m`, `histogramme_essais.m` pour la Section 2.\n",
      "\n",
      "Notez que le laboratoire est not\u00e9. Il faudra remettre un rapport\n",
      "d\u00e9taill\u00e9 incluant une r\u00e9ponse pour l\u2019ensemble des questions num\u00e9rot\u00e9es\n",
      "ci dessous. Chaque r\u00e9ponse fera typiquement quelques lignes, incluant du\n",
      "code et une figure si demand\u00e9 dans l\u2019\u00e9nonc\u00e9."
     ]
    },
    {
     "cell_type": "markdown",
     "metadata": {},
     "source": [
      "Ne pas tenir compte et ne pas executer cette partie du code:"
     ]
    },
    {
     "cell_type": "code",
     "collapsed": false,
     "input": [
      "%matplotlib inline\n",
      "from pymatbridge import Matlab\n",
      "mlab = Matlab()\n",
      "mlab.start()\n",
      "%load_ext pymatbridge"
     ],
     "language": "python",
     "metadata": {},
     "outputs": [
      {
       "output_type": "stream",
       "stream": "stdout",
       "text": [
        "Starting MATLAB on ZMQ socket ipc:///tmp/pymatbridge\n",
        "Send 'exit' command to kill the server\n",
        ".."
       ]
      },
      {
       "output_type": "stream",
       "stream": "stdout",
       "text": [
        "MATLAB started and connected!\n",
        "Starting MATLAB on ZMQ socket ipc:///tmp/pymatbridge"
       ]
      },
      {
       "output_type": "stream",
       "stream": "stdout",
       "text": [
        "\n",
        "Send 'exit' command to kill the server\n",
        ".MATLAB started and connected!"
       ]
      },
      {
       "output_type": "stream",
       "stream": "stdout",
       "text": [
        "\n"
       ]
      }
     ],
     "prompt_number": 1
    },
    {
     "cell_type": "code",
     "collapsed": false,
     "input": [
      "%matplotlib inline\n",
      "from pymatbridge import Octave\n",
      "octave = Octave()\n",
      "octave.start()\n",
      "%load_ext pymatbridge"
     ],
     "language": "python",
     "metadata": {},
     "outputs": [
      {
       "output_type": "stream",
       "stream": "stdout",
       "text": [
        "Starting Octave on ZMQ socket ipc:///tmp/pymatbridge\n",
        "Send 'exit' command to kill the server\n",
        ".Octave started and connected!"
       ]
      },
      {
       "output_type": "stream",
       "stream": "stdout",
       "text": [
        "\n",
        "Starting MATLAB on ZMQ socket ipc:///tmp/pymatbridge\n",
        "Send 'exit' command to kill the server\n",
        ".MATLAB started and connected!"
       ]
      },
      {
       "output_type": "stream",
       "stream": "stdout",
       "text": [
        "\n"
       ]
      }
     ],
     "prompt_number": 1
    },
    {
     "cell_type": "heading",
     "level": 3,
     "metadata": {},
     "source": [
      "Section 1 : Diagramme de dispersion"
     ]
    },
    {
     "cell_type": "markdown",
     "metadata": {},
     "source": [
      "Nous allons commencer par effectuer un **diagramme de dispersion**\n",
      "(scatter plot) de l\u2019activation d\u2019un neurone tout au long de la dur\u00e9e\n",
      "d\u2019un essai. Voir le script pour suivre ces \u00e9tapes."
     ]
    },
    {
     "cell_type": "markdown",
     "metadata": {},
     "source": [
      "<ol start=\"1\">\n",
      "  <h4><li>Commen\u00e7ons par charger les donn\u00e9es:</li></h4>\n",
      "</ol>"
     ]
    },
    {
     "cell_type": "code",
     "collapsed": true,
     "input": [
      "%%matlab\n",
      "load('Chap17_Data')"
     ],
     "language": "python",
     "metadata": {},
     "outputs": [],
     "prompt_number": 3
    },
    {
     "cell_type": "markdown",
     "metadata": {},
     "source": [
      "<ol start=\"2\">\n",
      "  <h4><li>La commande `whos` nous permet de d\u00e9terminer quelles variables sont disponibles dans l\u2019espace de travail, ainsi que leur type.</li></h4>\n",
      "</ol>"
     ]
    },
    {
     "cell_type": "code",
     "collapsed": false,
     "input": [
      "%%matlab\n",
      "whos"
     ],
     "language": "python",
     "metadata": {},
     "outputs": [
      {
       "metadata": {},
       "output_type": "display_data",
       "text": [
        "Variables in the current scope:\n",
        "\n",
        "   Attr Name             Size                     Bytes  Class\n",
        "   ==== ====             ====                     =====  ===== \n",
        "        direction      158x1                       1264  double\n",
        "        go             158x1                       1264  double\n",
        "        instruction    158x1                       1264  double\n",
        "        spike            1x47                     24296  struct\n",
        "        unit             1x143                 11808319  struct\n",
        "\n",
        "Total is 664 elements using 11836407 bytes\n",
        "\n"
       ]
      }
     ],
     "prompt_number": 4
    },
    {
     "cell_type": "markdown",
     "metadata": {},
     "source": [
      "- Quelles variables sont pr\u00e9sentes? Quel est le type de la variable spike? Quelle est sa taille?\n",
      "\n",
      "    Les variables sont direction, go, intruction, spike et unit. La variable spike est de type structure et de taille 1x47"
     ]
    },
    {
     "cell_type": "markdown",
     "metadata": {},
     "source": [
      "<ol start=\"3\">\n",
      "  <h4><li>La variable spike contient les temps des potentiels d\u2019action d\u00e9tect\u00e9 pour\n",
      "    un neurone. Chaque entr\u00e9e de la structure contient les donn\u00e9es d\u2019un\n",
      "    essai diff\u00e9rent. Il est possible de lister les champs de la\n",
      "    structure avec la commande fieldnames:</li></h4>\n",
      "</ol>"
     ]
    },
    {
     "cell_type": "code",
     "collapsed": false,
     "input": [
      "%%matlab\n",
      "fieldnames(spike)"
     ],
     "language": "python",
     "metadata": {},
     "outputs": [
      {
       "metadata": {},
       "output_type": "display_data",
       "text": [
        "ans = \n",
        "{\n",
        "  [1,1] = times\n",
        "}\n"
       ]
      }
     ],
     "prompt_number": 5
    },
    {
     "cell_type": "markdown",
     "metadata": {},
     "source": [
      "    Le champ \"spikes(1).times\" contient les temps de d\u00e9charges de potentiels d\u2019action pour\n",
      "    le premier essai. La commande permet de d\u00e9terminer la taille de ce\n",
      "    vecteur, c\u2019est \u00e0 dire le nombre de d\u00e9charges d\u00e9tect\u00e9es:"
     ]
    },
    {
     "cell_type": "code",
     "collapsed": false,
     "input": [
      "%%matlab\n",
      "size(spike(1).times)"
     ],
     "language": "python",
     "metadata": {},
     "outputs": [
      {
       "metadata": {},
       "output_type": "display_data",
       "text": [
        "ans =\n",
        "\n",
        "   52    1\n",
        "\n"
       ]
      }
     ],
     "prompt_number": 6
    },
    {
     "cell_type": "markdown",
     "metadata": {},
     "source": [
      "- Combien y-a-t-il eu de d\u00e9charges pour l\u2019essai 2? pour l\u2019essai 10?"
     ]
    },
    {
     "cell_type": "code",
     "collapsed": false,
     "input": [
      "%%matlab\n",
      "size(spike(2).times) %nb de d\u00e9charges pour l'essai 2"
     ],
     "language": "python",
     "metadata": {},
     "outputs": [
      {
       "metadata": {},
       "output_type": "display_data",
       "text": [
        "ans =\n",
        "\n",
        "   51    1\n",
        "\n"
       ]
      }
     ],
     "prompt_number": 7
    },
    {
     "cell_type": "code",
     "collapsed": false,
     "input": [
      "%%matlab\n",
      "size(spike(10).times) %nb de d\u00e9charges pour l'essai 10"
     ],
     "language": "python",
     "metadata": {},
     "outputs": [
      {
       "metadata": {},
       "output_type": "display_data",
       "text": [
        "ans =\n",
        "\n",
        "   85    1\n",
        "\n"
       ]
      }
     ],
     "prompt_number": 8
    },
    {
     "cell_type": "markdown",
     "metadata": {},
     "source": [
      "<ol start=\"4\">\n",
      "  <h4><li> La commande suivante va pr\u00e9senter l\u2019ensemble des temps de d\u00e9charge pour l\u2019essai 1. </li></h4>\n",
      "</ol>"
     ]
    },
    {
     "cell_type": "markdown",
     "metadata": {},
     "source": [
      "```       \n",
      "        >> spike(1).times\n",
      "           -0.9893\n",
      "           -0.9402\n",
      "           -0.9158\n",
      "        (...) \n",
      "```"
     ]
    },
    {
     "cell_type": "markdown",
     "metadata": {},
     "source": [
      "-    Quelle est l\u2019unit\u00e9 probable de ces temps? Pourquoi y-a-t-il des\n",
      "    valeurs n\u00e9gatives?"
     ]
    },
    {
     "cell_type": "markdown",
     "metadata": {},
     "source": [
      "    l'unit\u00e9 est en millisecondes et les valeurs n\u00e9gatives indiquent un temps de d\u00e9charge qui pr\u00e9c\u00e8de le signal de d\u00e9part le de l'exp\u00e9rience"
     ]
    },
    {
     "cell_type": "markdown",
     "metadata": {},
     "source": [
      "<ol start=\"5\">\n",
      "  <h4><li> On extrait les temps de d\u00e9charges des deux premiers essais dans deux\n",
      "    variables `t1` et `t2`: </li></h4>\n",
      "</ol>\n"
     ]
    },
    {
     "cell_type": "code",
     "collapsed": true,
     "input": [
      " %%matlab\n",
      " t1 = spike(1).times; \n",
      " t2 = spike(2).times; "
     ],
     "language": "python",
     "metadata": {},
     "outputs": [],
     "prompt_number": 9
    },
    {
     "cell_type": "markdown",
     "metadata": {},
     "source": [
      "<ol start=\"6\">\n",
      "  <h4><li> On ouvre une nouvelle fen\u00eatre, d\u00e9di\u00e9e \u00e0 la visualisation: </li></h4>\n",
      "</ol> "
     ]
    },
    {
     "cell_type": "code",
     "collapsed": false,
     "input": [
      "%%matlab\n",
      "figure \n",
      "hold on "
     ],
     "language": "python",
     "metadata": {},
     "outputs": [
      {
       "metadata": {},
       "output_type": "display_data",
       "png": "[encoded data removed]"
      }
     ],
     "prompt_number": 10
    },
    {
     "cell_type": "markdown",
     "metadata": {},
     "source": [
      "    Attention \u00e0 la deuxi\u00e8me instruction! Elle permet de dessiner\n",
      "    plusieurs objets sur une m\u00eame figure, l\u2019un \u00e0 la suite de l\u2019autre,\n",
      "    sans r\u00e9-initialiser la figure."
     ]
    },
    {
     "cell_type": "markdown",
     "metadata": {},
     "source": [
      "<ol start=\"7\">\n",
      "  <h4><li> Maintenant on va tracer la premi\u00e8re ligne du diagramme. Notez que le\n",
      "    nombre de d\u00e9charges dans l\u2019essai 1 est . On applique une boucle : </li></h4>\n",
      "</ol>"
     ]
    },
    {
     "cell_type": "code",
     "collapsed": false,
     "input": [
      "%%matlab\n",
      "for num_temps = 1:length(t1) \n",
      "    line([t1(num_temps) t1(num_temps)], [0 1]) \n",
      "end"
     ],
     "language": "python",
     "metadata": {},
     "outputs": [
      {
       "metadata": {},
       "output_type": "display_data",
       "png": "[encoded data removed]"
      }
     ],
     "prompt_number": 11
    },
    {
     "cell_type": "markdown",
     "metadata": {},
     "source": [
      "    Notez l\u2019utilisation de la commande line."
     ]
    },
    {
     "cell_type": "markdown",
     "metadata": {},
     "source": [
      "<ol start=\"8\">\n",
      "  <h4><li> On va maintenant ajouter un label sur l\u2019axe des x et y . </li></h4>\n",
      "</ol>"
     ]
    },
    {
     "cell_type": "code",
     "collapsed": false,
     "input": [
      "%%matlab\n",
      "for num_temps = 1:length(t1) \n",
      "    line([t1(num_temps) t1(num_temps)], [0 1]) \n",
      "end\n",
      "xlabel('Temp (sec)'); \n",
      "%Idem pour l\u2019axe des y:\n",
      "ylabel('Essai #')\n",
      "%Enfin, on fixe les limites de l\u2019axe des y\n",
      "ylim([0 3])\n",
      "\n",
      "%9-Sauvegardez la figure dans un fichier au format png (utilisez la commande \"print\" ), sous le nom \"figure_dispersion.png\". \n",
      "print ( 'figure_dispersion' , '-dpng')\n",
      "\n",
      "%Le r\u00e9sultat ressemble \u00e0 la figure qui suit:"
     ],
     "language": "python",
     "metadata": {},
     "outputs": [
      {
       "metadata": {},
       "output_type": "display_data",
       "png": "[encoded data removed]"
      }
     ],
     "prompt_number": 12
    },
    {
     "cell_type": "markdown",
     "metadata": {},
     "source": [
      "<ol start=\"10\">\n",
      "  <h4><li> Faire une nouvelle figure o\u00f9 chaque barre du diagramme a une hauteur\n",
      "    de 0.5, plut\u00f4t que 1. Sauvegardez ce fichier sous le nom \"figure_dispersion_lignes.png\". </li></h4>\n",
      "</ol>"
     ]
    },
    {
     "cell_type": "code",
     "collapsed": false,
     "input": [
      "%%matlab\n",
      "for num_temps = 1:length(t1) \n",
      "    line([t1(num_temps) t1(num_temps)], [0 0.5]) \n",
      "end\n",
      "xlabel('Temp (sec)')\n",
      "%Idem pour l\u2019axe des y:\n",
      "ylabel('Essai #')\n",
      "%Enfin, on fixe les limites de l\u2019axe des y\n",
      "ylim([0 3])"
     ],
     "language": "python",
     "metadata": {},
     "outputs": [
      {
       "metadata": {},
       "output_type": "display_data",
       "png": "[encoded data removed]"
      }
     ],
     "prompt_number": 13
    },
    {
     "cell_type": "markdown",
     "metadata": {},
     "source": [
      "<ol start=\"11\">\n",
      "  <h4><li> Vous allez compl\u00e9ter, \u00e0 partir du fichier , les 4 lignes de code\n",
      "    manquante \u00e0 l\u2019interieure de la boucle pour tracer tous les essais\n",
      "    (47) dans une m\u00eame figure. Le r\u00e9sultat ressemblerait \u00e0 la figure\n",
      "    suivante: </li></h4>\n",
      "</ol>"
     ]
    },
    {
     "cell_type": "code",
     "collapsed": false,
     "input": [
      "%%matlab\n",
      "% Charger les donnees\n",
      "load('Chap17_Data')\n",
      "% Preparer une figure\n",
      "figure \n",
      "% permettre la superposition de plusieurs graphiques dans la meme figure\n",
      "hold on \n",
      "% Donner un label \u00e0 l'axe des x\n",
      "xlabel('Temp (sec)'); \n",
      "% Donner un label \u00e0 l'axe des y\n",
      "ylabel('Essai #');\n",
      "% Ajuster les limites de l'axe des y\n",
      "ylim([0 length(spike)]);\n",
      "\n",
      "for num_spike = 1:length(spike) %faire une boucle pour tout les essaies\n",
      "    t = spike(num_spike).times; %definir la variable pour chaque essai\n",
      "    for num_temps=1:length(t) %faire une boucle pour tous les points temps\n",
      "        line([t(num_temps) t(num_temps)], [0+(num_spike-1) 1+(num_spike-1)]); %dessiner une line pour chaque point temps t1(i) avec longueur de 1\n",
      "    end\n",
      "end"
     ],
     "language": "python",
     "metadata": {},
     "outputs": [
      {
       "metadata": {},
       "output_type": "display_data",
       "png": "[encoded data removed]"
      }
     ],
     "prompt_number": 14
    },
    {
     "cell_type": "heading",
     "level": 3,
     "metadata": {},
     "source": [
      "Section 2 : Histogramme"
     ]
    },
    {
     "cell_type": "markdown",
     "metadata": {},
     "source": [
      "Nous allons continuer l\u2019exploration des donn\u00e9es \u00e0 travers un histogramme\n",
      "qui r\u00e9sumerait la somme des activations dans un intervalle de temps\n",
      "donn\u00e9. Voir le script `histograme_essai1.m` pour reproduire les commandes suivantes:"
     ]
    },
    {
     "cell_type": "markdown",
     "metadata": {},
     "source": [
      "<ol start=\"1\">\n",
      "  <h4><li>Commen\u00e7ons par nettoyer l\u2019espace de travail: </li></h4>\n",
      "</ol>"
     ]
    },
    {
     "cell_type": "code",
     "collapsed": false,
     "input": [
      "%%matlab\n",
      "clear         "
     ],
     "language": "python",
     "metadata": {},
     "outputs": [],
     "prompt_number": 15
    },
    {
     "cell_type": "markdown",
     "metadata": {},
     "source": [
      "<ol start=\"2\">\n",
      "  <h4><li> Chargeons de nouveau les donn\u00e9es: </li></h4>\n",
      "</ol>"
     ]
    },
    {
     "cell_type": "code",
     "collapsed": false,
     "input": [
      "%%matlab\n",
      "load('Chap17_Data')"
     ],
     "language": "python",
     "metadata": {},
     "outputs": [],
     "prompt_number": 16
    },
    {
     "cell_type": "markdown",
     "metadata": {},
     "source": [
      "<ol start=\"3\">\n",
      "  <h4><li>D\u00e9finissant les bords et le pas des l\u2019histogramme </li></h4>\n",
      "</ol>"
     ]
    },
    {
     "cell_type": "code",
     "collapsed": false,
     "input": [
      "%%matlab\n",
      "centres = [-0.95:0.1:0.95];"
     ],
     "language": "python",
     "metadata": {},
     "outputs": [],
     "prompt_number": 17
    },
    {
     "cell_type": "markdown",
     "metadata": {},
     "source": [
      "<ol start=\"4\">\n",
      "  <h4><li>Initialiser une matrice de z\u00e9ros dont la longueur est \u00e9gale au\n",
      "    nombre d\u2019intervalles: </li></h4>\n",
      "</ol>"
     ]
    },
    {
     "cell_type": "code",
     "collapsed": false,
     "input": [
      "%%matlab\n",
      "histo = zeros(1,length(centres));"
     ],
     "language": "python",
     "metadata": {},
     "outputs": [],
     "prompt_number": 18
    },
    {
     "cell_type": "markdown",
     "metadata": {},
     "source": [
      "<ol start=\"5\">\n",
      "  <h4><li>R\u00e9cup\u00e9rez le nombre de d\u00e9charges par intervalle de temps dans\n",
      "    l\u2019essai num\u00e9ro 1, \u00e0 l\u2019aide avec la fonction . </li></h4>\n",
      "</ol>"
     ]
    },
    {
     "cell_type": "code",
     "collapsed": false,
     "input": [
      "%%matlab\n",
      "histo = hist(spike(1).times,centres); "
     ],
     "language": "python",
     "metadata": {},
     "outputs": [],
     "prompt_number": 19
    },
    {
     "cell_type": "markdown",
     "metadata": {},
     "source": [
      "- Examinez le contenu de la variable `histo`. Quelle est sa taille ? Son minimum, maximum, sa moyenne (voir les fonctions matlab `min, max, mean` )."
     ]
    },
    {
     "cell_type": "code",
     "collapsed": false,
     "input": [
      "%%matlab\n",
      "whos histo % elle est de taille 1x20"
     ],
     "language": "python",
     "metadata": {},
     "outputs": [
      {
       "metadata": {},
       "output_type": "display_data",
       "text": [
        "Variables in the current scope:\n",
        "\n",
        "   Attr Name        Size                     Bytes  Class\n",
        "   ==== ====        ====                     =====  ===== \n",
        "        histo       1x20                       160  double\n",
        "\n",
        "Total is 20 elements using 160 bytes\n",
        "\n"
       ]
      }
     ],
     "prompt_number": 20
    },
    {
     "cell_type": "code",
     "collapsed": false,
     "input": [
      "%%matlab\n",
      "min(histo)\n",
      "max(histo)\n",
      "mean(histo)"
     ],
     "language": "python",
     "metadata": {},
     "outputs": [
      {
       "metadata": {},
       "output_type": "display_data",
       "text": [
        "ans =  1\n",
        "ans =  6\n",
        "ans =  2.6000\n"
       ]
      }
     ],
     "prompt_number": 21
    },
    {
     "cell_type": "markdown",
     "metadata": {},
     "source": [
      "<ol start=\"6\">\n",
      "  <h4><li>Dessinez l\u2019histogramme avec la fonction `bar`. </li></h4>\n",
      "</ol>"
     ]
    },
    {
     "cell_type": "code",
     "collapsed": false,
     "input": [
      "%%matlab\n",
      "bar(centres,histo);\n",
      " %Ajuster les limites de l\u2019axe des x\n",
      "xlim([-1.1 1]);\n",
      "xlabel('Temps (sec)');  %Donner un label \u00e0 l\u2019axe des x\n",
      "ylabel('# essai');%Donner un label \u00e0 l\u2019axe des y"
     ],
     "language": "python",
     "metadata": {},
     "outputs": [
      {
       "metadata": {},
       "output_type": "display_data",
       "png": "[encoded data removed]"
      }
     ],
     "prompt_number": 22
    },
    {
     "cell_type": "markdown",
     "metadata": {},
     "source": [
      "<ol start=\"10\">\n",
      "  <h4><li>Reprenez le code du fichier et remplissez la boucle afin de r\u00e9aliser\n",
      "    un histogramme pour l\u2019ensemble des essais </li></h4>\n",
      "</ol>"
     ]
    },
    {
     "cell_type": "code",
     "collapsed": false,
     "input": [
      "%%matlab\n",
      "%Charger les donnees\n",
      "load('Chap17_Data')\n",
      "\n",
      "% Definir les centres des intervalles pour l'histogramme\n",
      "centres = [-0.95:0.1:0.95];\n",
      "\n",
      "% Initialiser une matrice de z\u00e9ros histo dont la longueur est \u00e9gale au nombre d'intervalles:\n",
      "histo = zeros(length(centres),1);\n",
      "\n",
      "% Faire une boucle \u00e0 travers tous les essais et recuperer le nombre de decharges par intervalle avec la fonction histc \n",
      "for jj = 1:47\n",
      "    histo=histo+histc(spike(jj).times,centres);\n",
      "end\n",
      "\n",
      "% Dessiner l'histograme avec la fonction bar\n",
      "bar(centres,histo);\n",
      "\n",
      "%Ajuster les limites de l'axe des x\n",
      "xlim([-1.1 1]);\n",
      "\n",
      "%Donner un label \u00e0 l\u2019axe des x\n",
      "xlabel('Temps (sec)');  \n",
      "\n",
      "%Donner un label \u00e0 l\u2019axe des y\n",
      "ylabel('# essai');"
     ],
     "language": "python",
     "metadata": {},
     "outputs": [
      {
       "metadata": {},
       "output_type": "display_data",
       "png": "[encoded data removed]"
      }
     ],
     "prompt_number": 23
    },
    {
     "cell_type": "markdown",
     "metadata": {},
     "source": [
      "###Section 3 : R\u00e9gression"
     ]
    },
    {
     "cell_type": "markdown",
     "metadata": {},
     "source": [
      "Nous allons maintenant impl\u00e9menter une r\u00e9gression \u00e0 l\u2019aide de Matlab."
     ]
    },
    {
     "cell_type": "markdown",
     "metadata": {},
     "source": [
      "<ol start=\"1\">\n",
      "  <h4><li>Commen\u00e7ons par nettoyer l\u2019espace de travail: </li></h4>\n",
      "</ol> "
     ]
    },
    {
     "cell_type": "code",
     "collapsed": false,
     "input": [
      "%%matlab\n",
      "clear"
     ],
     "language": "python",
     "metadata": {},
     "outputs": [],
     "prompt_number": 31
    },
    {
     "cell_type": "markdown",
     "metadata": {},
     "source": [
      "<ol start=\"2\">\n",
      "  <h4><li>Maintenant nous allons r\u00e9cuperer les donn\u00e9es de \u201cnotes\u201d du cours. </li></h4>\n",
      "</ol> "
     ]
    },
    {
     "cell_type": "code",
     "collapsed": false,
     "input": [
      "%%matlab\n",
      "x = [ 165 165 157 170 175 165 182 178 ]';\n",
      "y = [  47  56  49  60  82  52  78  90 ]';          "
     ],
     "language": "python",
     "metadata": {},
     "outputs": [],
     "prompt_number": 3
    },
    {
     "cell_type": "markdown",
     "metadata": {},
     "source": [
      "- Quels est la taille et le contenu des vecteurs x et y? A quoi sert l'op\u00e9ration `'` ?"
     ]
    },
    {
     "cell_type": "code",
     "collapsed": false,
     "input": [
      "%%matlab\n",
      "whos"
     ],
     "language": "python",
     "metadata": {},
     "outputs": [
      {
       "metadata": {},
       "output_type": "display_data",
       "text": [
        "  Name      Size            Bytes  Class     Attributes\n",
        "\n",
        "  x         8x1                64  double              \n",
        "  y         8x1                64  double              \n",
        "\n"
       ]
      }
     ],
     "prompt_number": 4
    },
    {
     "cell_type": "markdown",
     "metadata": {},
     "source": [
      "<ol start=\"3\">\n",
      "  <h4><li>On d\u00e9finit une nouvelle fonction en ligne: </li></h4>\n",
      "</ol>"
     ]
    },
    {
     "cell_type": "code",
     "collapsed": false,
     "input": [
      "%%matlab\n",
      "ftheta = inline('theta(1)+theta(2)*x','theta','x');"
     ],
     "language": "python",
     "metadata": {},
     "outputs": [],
     "prompt_number": 5
    },
    {
     "cell_type": "markdown",
     "metadata": {},
     "source": [
      "- Quel est le type de la variable `ftheta`?"
     ]
    },
    {
     "cell_type": "code",
     "collapsed": false,
     "input": [
      "%%matlab\n",
      "whos ftheta"
     ],
     "language": "python",
     "metadata": {},
     "outputs": [
      {
       "metadata": {},
       "output_type": "display_data",
       "text": [
        "  Name        Size            Bytes  Class     Attributes\n",
        "\n",
        "  ftheta      1x1              1238  inline              \n",
        "\n"
       ]
      }
     ],
     "prompt_number": 6
    },
    {
     "cell_type": "markdown",
     "metadata": {},
     "source": [
      "<ol start=\"4\">\n",
      "  <h4><li>Estimez les coefficients de r\u00e9gression \u00e0 l\u2019aide de la fonction : </li></h4>\n",
      "</ol>"
     ]
    },
    {
     "cell_type": "code",
     "collapsed": false,
     "input": [
      "%%matlab\n",
      "theta_chap = nlinfit(x, y, ftheta, [1 1] );"
     ],
     "language": "python",
     "metadata": {},
     "outputs": [],
     "prompt_number": 7
    },
    {
     "cell_type": "markdown",
     "metadata": {},
     "source": [
      "- Quelles sont les valeurs de ? A quoi sert l\u2019argument `[1 1]`? Essayez de reproduire l\u2019estimation avec d\u2019autres valeurs pour cet argument, est-ce que cela affecte le r\u00e9sultat?"
     ]
    },
    {
     "cell_type": "markdown",
     "metadata": {},
     "source": [
      "<ol start=\"5\">\n",
      "  <h4><li>Maintenant repr\u00e9senter le r\u00e9sultat de la r\u00e9gression. </li></h4>\n",
      "</ol> "
     ]
    },
    {
     "cell_type": "code",
     "collapsed": false,
     "input": [
      "%%matlab\n",
      "figure\n",
      "plot(x,y,'b.');\n",
      "hold on\n",
      "plot(x,ftheta(theta_chap,x),'r');\n",
      "            "
     ],
     "language": "python",
     "metadata": {},
     "outputs": [
      {
       "metadata": {},
       "output_type": "display_data",
       "png": "[encoded data removed]"
      }
     ],
     "prompt_number": 8
    },
    {
     "cell_type": "markdown",
     "metadata": {},
     "source": [
      "<ol start=\"6\">\n",
      "  <h4><li>Utilisez la fonction `ylim` pour changer les limites de l\u2019axe y de 40 \u00e0 95.\n",
      "    Ajouter le label `taille` sur l\u2019axe des x avec la commande `xlabel`, et le label `poids` sur\n",
      "    l\u2019axe des y avec la commande `ylabel`. Faites une sauvegarde de cette image,\n",
      "    dans un fichier `regression_notes.png`. </li></h4>\n",
      "</ol>"
     ]
    },
    {
     "cell_type": "code",
     "collapsed": false,
     "input": [],
     "language": "python",
     "metadata": {},
     "outputs": []
    },
    {
     "cell_type": "markdown",
     "metadata": {},
     "source": [
      "<ol start=\"7\">\n",
      "  <h4><li>Maintenant nous allons ajuster une courbe plus complexe, un cosinus.\n",
      "    On commence par simuler des donn\u00e9es: </li></h4>\n",
      "</ol> "
     ]
    },
    {
     "cell_type": "code",
     "collapsed": false,
     "input": [
      "%%matlab\n",
      "clear\n",
      "x = 0:0.1:30;\n",
      "y = cos(x) + randn(1,301); "
     ],
     "language": "python",
     "metadata": {},
     "outputs": [],
     "prompt_number": 9
    },
    {
     "cell_type": "markdown",
     "metadata": {},
     "source": [
      "- Quelle est la taille de x? La taille de y? A quoi sert la fonction `randn` (utilisez la commande `help` ). G\u00e9n\u00e9rer un graphe de la relation entre x et y, et sauvegardez cette image dans un fichier `donnees_cosinus.png`."
     ]
    },
    {
     "cell_type": "markdown",
     "metadata": {},
     "source": [
      "<ol start=\"8\">\n",
      "  <h4><li>On va maintenant d\u00e9finir une fonction de trois param\u00e8tres: </li></h4>\n",
      "</ol>"
     ]
    },
    {
     "cell_type": "code",
     "collapsed": false,
     "input": [
      "%%matlab\n",
      "ftheta = inline('theta(1)+theta(2)*cos(x-theta(3))','theta','x');"
     ],
     "language": "python",
     "metadata": {},
     "outputs": [],
     "prompt_number": 10
    },
    {
     "cell_type": "markdown",
     "metadata": {},
     "source": [
      "- Quelle est la valeur de la fonction `ftheta` pour `theta=[0 1 1]` et `x=0` ?"
     ]
    },
    {
     "cell_type": "markdown",
     "metadata": {},
     "source": [
      "<ol start=\"9\">\n",
      "  <h4><li>Estimez les coefficients de r\u00e9gression \u00e0 l\u2019aide de la fonction : </li></h4>\n",
      "</ol>"
     ]
    },
    {
     "cell_type": "code",
     "collapsed": false,
     "input": [
      "%%matlab\n",
      "theta_chap = nlinfit(x, y, ftheta, [0 1 1] );    "
     ],
     "language": "python",
     "metadata": {},
     "outputs": [],
     "prompt_number": 11
    },
    {
     "cell_type": "markdown",
     "metadata": {},
     "source": [
      "- Quelles sont les valeurs de `theta_chap` ? A quoi sert l\u2019argument\n",
      "    `[0 1 1]` ? Essayez de reproduire l\u2019estimation avec d\u2019autres valeurs pour cet argument, est-ce que\n",
      "    cela affecte le r\u00e9sultat?"
     ]
    },
    {
     "cell_type": "markdown",
     "metadata": {},
     "source": [
      "<ol start=\"10\">\n",
      "  <h4><li> Maintenant repr\u00e9senter le r\u00e9sultat de la r\u00e9gression. </li></h4>\n",
      "</ol>"
     ]
    },
    {
     "cell_type": "code",
     "collapsed": true,
     "input": [
      "%%matlab\n",
      "figure\n",
      "plot(x,y,'b');\n",
      "hold on\n",
      "plot(x,ftheta(theta_chap,x),'r');\n",
      "            "
     ],
     "language": "python",
     "metadata": {},
     "outputs": [
      {
       "metadata": {},
       "output_type": "display_data",
       "png": "[encoded data removed]"
      }
     ],
     "prompt_number": 12
    },
    {
     "cell_type": "code",
     "collapsed": true,
     "input": [
      "    Faites une sauvegarde de cette image, dans un fichier ."
     ],
     "language": "python",
     "metadata": {},
     "outputs": [],
     "prompt_number": null
    }
   ],
   "metadata": {}
  }
 ]
}