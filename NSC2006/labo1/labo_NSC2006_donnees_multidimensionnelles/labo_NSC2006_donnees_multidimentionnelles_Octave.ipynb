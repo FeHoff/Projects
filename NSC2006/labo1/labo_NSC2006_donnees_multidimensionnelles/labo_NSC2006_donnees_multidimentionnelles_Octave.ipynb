{
 "cells": [
  {
   "cell_type": "markdown",
   "metadata": {},
   "source": [
    "<div align=\"center\">\n",
    "  <h2> Méthodes quantitatives en neurosciences </h2>\n",
    "</div>"
   ]
  },
  {
   "cell_type": "markdown",
   "metadata": {},
   "source": [
    "<div align=\"center\">\n",
    "<b><i> Cours NSC-2006, année 2015</i></b><br>\n",
    "<b>Laboratoire d'analyse de données multidimensionnelle-Réponses</b><br>\n",
    "     *Pierre Bellec, Yassine Ben Haj Ali*\n",
    "</div>"
   ]
  },
  {
   "cell_type": "markdown",
   "metadata": {},
   "source": [
    "### Objectif:"
   ]
  },
  {
   "cell_type": "markdown",
   "metadata": {},
   "source": [
    "Ce laboratoire a pour but de vous initier à la manipulation\n",
    "d’informations multidimensionnelles avec Matlab. Nous allons pour cela\n",
    "analyser des données électrophysiologiques de décharges d’activité\n",
    "neuronale. Nous allons effectuer différentes opérations visant à\n",
    "**visualiser**, **résumer** et **modéliser** ces données. Les données\n",
    "sont tirée de l’expérience de Georgopoulos1982 sur l’encodage\n",
    "neuronale du mouvement du bras chez un macaque avec des implants\n",
    "neuronaux. L’animal commence l’expérience en fixant un curseur au centre\n",
    "d’une cible, ensuite il doit rejoindre des cibles périphériques\n",
    "apparaissent dans une des 8 directions arrangé en cercle. Une fois \n",
    "la cible apparue, l’animal doit attendre ( 100-1500 ms) le signal de départ avant d’aller rejoindre la cible pour\n",
    "une durée de 500ms, ensuite il retourne au point de départ (au centre).\n",
    "Cette séquence de mouvement est appelée essai et dans cette expérience\n",
    "il y en a 47. Le but de l’expérience de Georgopoulos et collègues est de\n",
    "déterminer l’orientation spatiale préférentielle du neurone en question\n",
    "dans la région MI, et qu’il est possible de prédire la direction du\n",
    "mouvement à partir d’enregistrements physiologiques. Leurs résultats\n",
    "indiquent qu’il y a bel et bien une préférence vers les angles de\n",
    "mouvement entre 90 et 180 degrés. Durant ce travail nous allons reproduire certaines des analyses de données et\n",
    "la visualisation des résultats de cette expérience.\n",
    "\n",
    "Pour réaliser ce laboratoire, il est nécessaire de récupérer les\n",
    "resources suivantes sur [studium](https://studium.umontreal.ca/):\n",
    "\n",
    "-   Chap17_Data.mat: le jeu de données tiré de Georgopoulos1982.\n",
    "\n",
    "-   Les scripts `diagramme_dispersion.m` et `diagramme_dispersion_essais.m` pour la Section 1.\n",
    "\n",
    "-   Les scripts `histogramme_essai1.m`, `histogramme_essais.m` pour la Section 2.\n",
    "\n",
    "Notez que le laboratoire est noté. Il faudra remettre un rapport\n",
    "détaillé incluant une réponse pour l’ensemble des questions numérotées\n",
    "ci dessous. Chaque réponse fera typiquement quelques lignes, incluant du\n",
    "code et une figure si demandé dans l’énoncé."
   ]
  },
  {
   "cell_type": "markdown",
   "metadata": {},
   "source": [
    "Ne pas tenir compte et ne pas executer cette partie du code:"
   ]
  },
  {
   "cell_type": "code",
   "execution_count": 16,
   "metadata": {
    "collapsed": false
   },
   "outputs": [
    {
     "name": "stdout",
     "output_type": "stream",
     "text": [
      "Starting Octave on ZMQ socket ipc:///tmp/pymatbridge\n",
      "Send 'exit' command to kill the server\n",
      ".Octave started and connected!\n",
      "The pymatbridge extension is already loaded. To reload it, use:\n",
      "  %reload_ext pymatbridge\n"
     ]
    }
   ],
   "source": [
    "%matplotlib inline\n",
    "from pymatbridge import Octave\n",
    "octave = Octave()\n",
    "octave.start()\n",
    "%load_ext pymatbridge"
   ]
  },
  {
   "cell_type": "markdown",
   "metadata": {},
   "source": [
    "### Section 1 : Diagramme de dispersion"
   ]
  },
  {
   "cell_type": "markdown",
   "metadata": {},
   "source": [
    "Nous allons commencer par effectuer un **diagramme de dispersion**\n",
    "(scatter plot) de l’activation d’un neurone tout au long de la durée\n",
    "d’un essai. Voir le script pour suivre ces étapes."
   ]
  },
  {
   "cell_type": "markdown",
   "metadata": {},
   "source": [
    "<ol start=\"1\">\n",
    "  <h4><li>Commençons par charger les données:</li></h4>\n",
    "</ol>"
   ]
  },
  {
   "cell_type": "code",
   "execution_count": 56,
   "metadata": {
    "collapsed": true
   },
   "outputs": [],
   "source": [
    "%%matlab\n",
    "load('Chap17_Data')"
   ]
  },
  {
   "cell_type": "markdown",
   "metadata": {},
   "source": [
    "<ol start=\"2\">\n",
    "  <h4><li>La commande `whos` nous permet de déterminer quelles variables sont disponibles dans l’espace de travail, ainsi que leur type.</li></h4>\n",
    "</ol>"
   ]
  },
  {
   "cell_type": "code",
   "execution_count": 18,
   "metadata": {
    "collapsed": false
   },
   "outputs": [
    {
     "data": {
      "text/plain": [
       "Variables in the current scope:\n",
       "\n",
       "   Attr Name             Size                     Bytes  Class\n",
       "   ==== ====             ====                     =====  ===== \n",
       "        ans              1x2                         16  double\n",
       "        direction      158x1                       1264  double\n",
       "        go             158x1                       1264  double\n",
       "        instruction    158x1                       1264  double\n",
       "        num_temps        1x1                          8  double\n",
       "        spike            1x47                     24296  struct\n",
       "        t1              52x1                        416  double\n",
       "        t2              51x1                        408  double\n",
       "        unit             1x143                 11808319  struct\n",
       "\n",
       "Total is 770 elements using 11837255 bytes\n",
       "\n"
      ]
     },
     "metadata": {},
     "output_type": "display_data"
    }
   ],
   "source": [
    "%%matlab\n",
    "whos"
   ]
  },
  {
   "cell_type": "markdown",
   "metadata": {},
   "source": [
    "- Quelles variables sont présentes? Quel est le type de la variable spike? Quelle est sa taille?\n",
    "\n",
    "    Les variables sont direction, go, intruction, spike et unit. La variable spike est de type structure et de taille 1x47"
   ]
  },
  {
   "cell_type": "markdown",
   "metadata": {},
   "source": [
    "<ol start=\"3\">\n",
    "  <h4><li>La variable spike contient les temps des potentiels d’action détecté pour\n",
    "    un neurone. Chaque entrée de la structure contient les données d’un\n",
    "    essai différent. Il est possible de lister les champs de la\n",
    "    structure avec la commande fieldnames:</li></h4>\n",
    "</ol>"
   ]
  },
  {
   "cell_type": "code",
   "execution_count": 31,
   "metadata": {
    "collapsed": false
   },
   "outputs": [
    {
     "data": {
      "text/plain": [
       "ans = \n",
       "{\n",
       "  [1,1] = times\n",
       "}\n"
      ]
     },
     "metadata": {},
     "output_type": "display_data"
    }
   ],
   "source": [
    "%%matlab\n",
    "fieldnames(spike)"
   ]
  },
  {
   "cell_type": "markdown",
   "metadata": {},
   "source": [
    "    Le champ \"spikes(1).times\" contient les temps de décharges de potentiels d’action pour\n",
    "    le premier essai. La commande permet de déterminer la taille de ce\n",
    "    vecteur, c’est à dire le nombre de décharges détectées:"
   ]
  },
  {
   "cell_type": "code",
   "execution_count": 32,
   "metadata": {
    "collapsed": false
   },
   "outputs": [
    {
     "data": {
      "text/plain": [
       "ans =\n",
       "\n",
       "   52    1\n",
       "\n"
      ]
     },
     "metadata": {},
     "output_type": "display_data"
    }
   ],
   "source": [
    "%%matlab\n",
    "size(spike(1).times)"
   ]
  },
  {
   "cell_type": "markdown",
   "metadata": {},
   "source": [
    "- Combien y-a-t-il eu de décharges pour l’essai 2? pour l’essai 10?"
   ]
  },
  {
   "cell_type": "code",
   "execution_count": 33,
   "metadata": {
    "collapsed": false
   },
   "outputs": [
    {
     "data": {
      "text/plain": [
       "ans =\n",
       "\n",
       "   51    1\n",
       "\n"
      ]
     },
     "metadata": {},
     "output_type": "display_data"
    }
   ],
   "source": [
    "%%matlab\n",
    "size(spike(2).times) %nb de décharges pour l'essai 2"
   ]
  },
  {
   "cell_type": "code",
   "execution_count": 34,
   "metadata": {
    "collapsed": false
   },
   "outputs": [
    {
     "data": {
      "text/plain": [
       "ans =\n",
       "\n",
       "   85    1\n",
       "\n"
      ]
     },
     "metadata": {},
     "output_type": "display_data"
    }
   ],
   "source": [
    "%%matlab\n",
    "size(spike(10).times) %nb de décharges pour l'essai 10"
   ]
  },
  {
   "cell_type": "markdown",
   "metadata": {},
   "source": [
    "<ol start=\"4\">\n",
    "  <h4><li> La commande suivante va présenter l’ensemble des temps de décharge pour l’essai 1. </li></h4>\n",
    "</ol>"
   ]
  },
  {
   "cell_type": "markdown",
   "metadata": {},
   "source": [
    "```       \n",
    "        >> spike(1).times\n",
    "           -0.9893\n",
    "           -0.9402\n",
    "           -0.9158\n",
    "        (...) \n",
    "```"
   ]
  },
  {
   "cell_type": "markdown",
   "metadata": {},
   "source": [
    "-    Quelle est l’unité probable de ces temps? Pourquoi y-a-t-il des\n",
    "    valeurs négatives?"
   ]
  },
  {
   "cell_type": "markdown",
   "metadata": {},
   "source": [
    "    l'unité est en millisecondes et les valeurs négatives indiquent un temps de décharge qui précède le signal de départ le de l'expérience"
   ]
  },
  {
   "cell_type": "markdown",
   "metadata": {},
   "source": [
    "<ol start=\"5\">\n",
    "  <h4><li> On extrait les temps de décharges des deux premiers essais dans deux\n",
    "    variables et : </li></h4>\n",
    "</ol>\n"
   ]
  },
  {
   "cell_type": "code",
   "execution_count": 35,
   "metadata": {
    "collapsed": true
   },
   "outputs": [],
   "source": [
    " %%matlab\n",
    " t1 = spike(1).times; \n",
    " t2 = spike(2).times; "
   ]
  },
  {
   "cell_type": "markdown",
   "metadata": {},
   "source": [
    "<ol start=\"6\">\n",
    "  <h4><li> On ouvre une nouvelle fenêtre, dédiée à la visualisation: </li></h4>\n",
    "</ol> "
   ]
  },
  {
   "cell_type": "code",
   "execution_count": 36,
   "metadata": {
    "collapsed": false
   },
   "outputs": [
    {
     "data": {
      "image/png": "[encoded data removed]"
     },
     "metadata": {},
     "output_type": "display_data"
    }
   ],
   "source": [
    "%%matlab\n",
    "figure \n",
    "hold on "
   ]
  },
  {
   "cell_type": "markdown",
   "metadata": {},
   "source": [
    "    Attention à la deuxième instruction! Elle permet de dessiner\n",
    "    plusieurs objets sur une même figure, l’un à la suite de l’autre,\n",
    "    sans ré-initialiser la figure."
   ]
  },
  {
   "cell_type": "markdown",
   "metadata": {},
   "source": [
    "<ol start=\"7\">\n",
    "  <h4><li> Maintenant on va tracer la première ligne du diagramme. Notez que le\n",
    "    nombre de décharges dans l’essai 1 est . On applique une boucle : </li></h4>\n",
    "</ol>"
   ]
  },
  {
   "cell_type": "code",
   "execution_count": 41,
   "metadata": {
    "collapsed": false
   },
   "outputs": [
    {
     "data": {
      "text/plain": [
       "fig1 =  1\n"
      ]
     },
     "metadata": {},
     "output_type": "display_data"
    },
    {
     "data": {
      "image/png": "[encoded data removed]"
     },
     "metadata": {},
     "output_type": "display_data"
    }
   ],
   "source": [
    "%%matlab\n",
    "for num_temps = 1:length(t1) \n",
    "    line([t1(num_temps) t1(num_temps)], [0 1]) \n",
    "end"
   ]
  },
  {
   "cell_type": "markdown",
   "metadata": {},
   "source": [
    "    Notez l’utilisation de la commande line."
   ]
  },
  {
   "cell_type": "markdown",
   "metadata": {},
   "source": [
    "<ol start=\"8\">\n",
    "  <h4><li> On va maintenant ajouter un label sur l’axe des x et y . </li></h4>\n",
    "</ol>"
   ]
  },
  {
   "cell_type": "code",
   "execution_count": 52,
   "metadata": {
    "collapsed": false
   },
   "outputs": [
    {
     "data": {
      "image/png": "[encoded data removed]"
     },
     "metadata": {},
     "output_type": "display_data"
    }
   ],
   "source": [
    "%%matlab\n",
    "for num_temps = 1:length(t1) \n",
    "    line([t1(num_temps) t1(num_temps)], [0 1]) \n",
    "end\n",
    "xlabel('Temp (sec)'); \n",
    "%Idem pour l’axe des y:\n",
    "ylabel('Essai #')\n",
    "%Enfin, on fixe les limites de l’axe des y\n",
    "ylim([0 3])\n",
    "\n",
    "%Sauvegardez la figure dans un fichier au format png (utilisez la commande \"print\" ), sous le nom \"figure_dispersion.png\". \n",
    "print ( 'figure_dispersion' , '-dpng')\n",
    "\n",
    "%Le résultat ressemble à la figure qui suit:"
   ]
  },
  {
   "cell_type": "markdown",
   "metadata": {},
   "source": [
    "<ol start=\"10\">\n",
    "  <h4><li> Faire une nouvelle figure où chaque barre du diagramme a une hauteur\n",
    "    de 0.5, plutôt que 1. Sauvegardez ce fichier sous le nom \"figure_dispersion_lignes.png\". </li></h4>\n",
    "</ol>"
   ]
  },
  {
   "cell_type": "code",
   "execution_count": 53,
   "metadata": {
    "collapsed": false
   },
   "outputs": [
    {
     "data": {
      "image/png": "[encoded data removed]"
     },
     "metadata": {},
     "output_type": "display_data"
    }
   ],
   "source": [
    "%%matlab\n",
    "for num_temps = 1:length(t1) \n",
    "    line([t1(num_temps) t1(num_temps)], [0 0.5]) \n",
    "end\n",
    "xlabel('Temp (sec)')\n",
    "%Idem pour l’axe des y:\n",
    "ylabel('Essai #')\n",
    "%Enfin, on fixe les limites de l’axe des y\n",
    "ylim([0 1])"
   ]
  },
  {
   "cell_type": "markdown",
   "metadata": {},
   "source": [
    "<ol start=\"11\">\n",
    "  <h4><li> Vous allez compléter, à partir du fichier , les 4 lignes de code\n",
    "    manquante à l’interieure de la boucle pour tracer tous les essais\n",
    "    (47) dans une même figure. Le résultat ressemblerait à la figure\n",
    "    suivante: </li></h4>\n",
    "</ol>"
   ]
  },
  {
   "cell_type": "code",
   "execution_count": 54,
   "metadata": {
    "collapsed": false
   },
   "outputs": [
    {
     "data": {
      "image/png": "[encoded data removed]"
     },
     "metadata": {},
     "output_type": "display_data"
    }
   ],
   "source": [
    "%%matlab\n",
    "% Charger les donnees\n",
    "load('Chap17_Data')\n",
    "% Preparer une figure\n",
    "figure \n",
    "% permettre la superposition de plusieurs graphiques dans la meme figure\n",
    "hold on \n",
    "% Donner un label à l'axe des x\n",
    "xlabel('Temp (sec)'); \n",
    "% Donner un label à l'axe des y\n",
    "ylabel('Essai #');\n",
    "% Ajuster les limites de l'axe des y\n",
    "ylim([0 length(spike)]);\n",
    "\n",
    "for num_spike = 1:length(spike) %faire une boucle pour tout les essaies\n",
    "    t = spike(num_spike).times; %definir la variable pour chaque essai\n",
    "    for num_temps=1:length(t) %faire une boucle pour tous les points temps\n",
    "        line([t(num_temps) t(num_temps)], [0+(num_spike-1) 1+(num_spike-1)]); %dessiner une line pour chaque point temps t1(i) avec longueur de 1\n",
    "    end\n",
    "end"
   ]
  },
  {
   "cell_type": "markdown",
   "metadata": {},
   "source": [
    "### Section 2 : Histogramme"
   ]
  },
  {
   "cell_type": "markdown",
   "metadata": {},
   "source": [
    "Nous allons continuer l’exploration des données à travers un histogramme\n",
    "qui résumerait la somme des activations dans un intervalle de temps\n",
    "donné. Voir le script `histograme_essai1.m` pour reproduire les commandes suivantes:"
   ]
  },
  {
   "cell_type": "markdown",
   "metadata": {},
   "source": [
    "1.  Commençons par nettoyer l’espace de travail:"
   ]
  },
  {
   "cell_type": "markdown",
   "metadata": {},
   "source": [
    "            >> clear\n",
    "            "
   ]
  },
  {
   "cell_type": "markdown",
   "metadata": {},
   "source": [
    "2.  Chargeons de nouveau les données:"
   ]
  },
  {
   "cell_type": "markdown",
   "metadata": {},
   "source": [
    "            >> load('Chap17_Data')  \n",
    "            "
   ]
  },
  {
   "cell_type": "markdown",
   "metadata": {},
   "source": [
    "3.  Définissant les bords et le pas des l’histogramme"
   ]
  },
  {
   "cell_type": "markdown",
   "metadata": {},
   "source": [
    "            >> centres = [-0.95:0.1:0.95];"
   ]
  },
  {
   "cell_type": "markdown",
   "metadata": {},
   "source": [
    "            \n",
    "\n",
    "4.  Initialiser une matrice de zéros dont la longueur est égale au\n",
    "    nombre d’intervalles:"
   ]
  },
  {
   "cell_type": "markdown",
   "metadata": {},
   "source": [
    "            >> histo = zeros(1,length(centres));"
   ]
  },
  {
   "cell_type": "markdown",
   "metadata": {},
   "source": [
    "            \n",
    "\n",
    "5.  Récupérez le nombre de décharges par intervalle de temps dans\n",
    "    l’essai numéro 1, à l’aide avec la fonction ."
   ]
  },
  {
   "cell_type": "markdown",
   "metadata": {},
   "source": [
    "            >> histo = hist(spike(1).times,centres); "
   ]
  },
  {
   "cell_type": "markdown",
   "metadata": {},
   "source": [
    "            \n",
    "\n",
    "    Examinez le contenu de la variable . Quelle est sa taille ? Son\n",
    "    minimum, maximum, sa moyenne (voir les fonctions matlab , , )."
   ]
  },
  {
   "cell_type": "markdown",
   "metadata": {},
   "source": [
    "6.  Dessinez l’histogramme avec la fonction"
   ]
  },
  {
   "cell_type": "markdown",
   "metadata": {},
   "source": [
    "            >> bar(centres,histo); "
   ]
  },
  {
   "cell_type": "markdown",
   "metadata": {},
   "source": [
    "7.  Ajuster les limites de l’axe des x"
   ]
  },
  {
   "cell_type": "markdown",
   "metadata": {},
   "source": [
    "            >> xlim([-1.1 1]);"
   ]
  },
  {
   "cell_type": "markdown",
   "metadata": {},
   "source": [
    "8.  Donner un label à l’axe des x"
   ]
  },
  {
   "cell_type": "markdown",
   "metadata": {},
   "source": [
    "            >> xlabel('Temps (sec)');\n",
    "            "
   ]
  },
  {
   "cell_type": "markdown",
   "metadata": {},
   "source": [
    "9.  Donner un label à l’axe des y"
   ]
  },
  {
   "cell_type": "markdown",
   "metadata": {},
   "source": [
    "            >> ylabel('# essai');\n",
    "            "
   ]
  },
  {
   "cell_type": "markdown",
   "metadata": {},
   "source": [
    "10. Reprenez le code du fichier et remplissez la boucle afin de réaliser\n",
    "    un histogramme pour l’ensemble des essais"
   ]
  },
  {
   "cell_type": "markdown",
   "metadata": {},
   "source": [
    "Régression\n",
    "=========="
   ]
  },
  {
   "cell_type": "markdown",
   "metadata": {},
   "source": [
    "Nous allons maintenant implémenter une régression à l’aide de Matlab."
   ]
  },
  {
   "cell_type": "markdown",
   "metadata": {},
   "source": [
    "1.  Commençons par nettoyer l’espace de travail:"
   ]
  },
  {
   "cell_type": "markdown",
   "metadata": {},
   "source": [
    "            >> clear\n",
    "            "
   ]
  },
  {
   "cell_type": "markdown",
   "metadata": {},
   "source": [
    "2.  Maintenant nous allons **récuperer** les données de “notes” du\n",
    "    cours."
   ]
  },
  {
   "cell_type": "markdown",
   "metadata": {},
   "source": [
    "            >> x = [ 165 165 157 170 175 165 182 178 ]';\n",
    "            >> y = [  47  56  49  60  82  52  78  90 ]';\n",
    "            "
   ]
  },
  {
   "cell_type": "markdown",
   "metadata": {},
   "source": [
    "    Quels sont la taille et le contenu des vecteurs et . A quoi sert\n",
    "    l’opération ?"
   ]
  },
  {
   "cell_type": "markdown",
   "metadata": {},
   "source": [
    "3.  On définit une nouvelle fonction en ligne:\n",
    "\n",
    "            >> ftheta = inline('theta(1)+theta(2)*x','theta','x');"
   ]
  },
  {
   "cell_type": "markdown",
   "metadata": {},
   "source": [
    "            \n",
    "\n",
    "    Quel est le type de la variable ?"
   ]
  },
  {
   "cell_type": "markdown",
   "metadata": {},
   "source": [
    "4.  Estimez les coefficients de régression à l’aide de la fonction :"
   ]
  },
  {
   "cell_type": "markdown",
   "metadata": {},
   "source": [
    "            >> theta_chap = nlinfit(x, y, ftheta, [1 1] );"
   ]
  },
  {
   "cell_type": "markdown",
   "metadata": {},
   "source": [
    "            \n",
    "\n",
    "    Quelles sont les valeurs de ? A quoi sert l’argument\n",
    "    `basicstyle=\\lstbasicfont\\small]|`1 1]|? Essayez de reproduire\n",
    "    l’estimation avec d’autres valeurs pour cet argument, est-ce que\n",
    "    cela affecte le résultat?"
   ]
  },
  {
   "cell_type": "markdown",
   "metadata": {},
   "source": [
    "5.  Maintenant représenter le résultat de la régression."
   ]
  },
  {
   "cell_type": "markdown",
   "metadata": {},
   "source": [
    "            >> figure\n",
    "            >> plot(x,y,'b.');\n",
    "            >> hold on\n",
    "            >> plot(x,ftheta(theta_chap,x),'r');\n",
    "            "
   ]
  },
  {
   "cell_type": "markdown",
   "metadata": {},
   "source": [
    "6.  Utilisez la fonction pour changer les limites de l’axe y de 40 à 95.\n",
    "    Ajouter le label sur l’axe des x avec la commande , et le label sur\n",
    "    l’axe des y avec la commande . Faites une sauvegarde de cette image,\n",
    "    dans un fichier ."
   ]
  },
  {
   "cell_type": "markdown",
   "metadata": {},
   "source": [
    "7.  Maintenant nous allons ajuster une courbe plus complexe, un cosinus.\n",
    "    On commence par simuler des données:"
   ]
  },
  {
   "cell_type": "markdown",
   "metadata": {},
   "source": [
    "            >> clear\n",
    "            >> x = 0:0.1:30;\n",
    "            >> y = cos(x) + randn(1,301); "
   ]
  },
  {
   "cell_type": "markdown",
   "metadata": {},
   "source": [
    "            \n",
    "\n",
    "    Quelle est la taille de x? La taille de y? A quoi sert la fonction\n",
    "    (utilisez la commande ). Générer un graphe de la relation entre et ,\n",
    "    et sauvegardez cette image dans un fichier ."
   ]
  },
  {
   "cell_type": "markdown",
   "metadata": {},
   "source": [
    "8.  On va maintenant définir une fonction de trois paramètres:"
   ]
  },
  {
   "cell_type": "markdown",
   "metadata": {},
   "source": [
    "            >> ftheta = inline('theta(1)+theta(2)*cos(x-theta(3))','theta','x');"
   ]
  },
  {
   "cell_type": "markdown",
   "metadata": {},
   "source": [
    "            \n",
    "\n",
    "    Quelle est la valeur de la fonction pour\n",
    "    `basicstyle=\\lstbasicfont\\small]|theta=`0 1 1]| et ?"
   ]
  },
  {
   "cell_type": "markdown",
   "metadata": {},
   "source": [
    "9.  Estimez les coefficients de régression à l’aide de la fonction :"
   ]
  },
  {
   "cell_type": "markdown",
   "metadata": {},
   "source": [
    "            >> theta_chap = nlinfit(x, y, ftheta, [0 1 1] );\n",
    "            "
   ]
  },
  {
   "cell_type": "markdown",
   "metadata": {},
   "source": [
    "    Quelles sont les valeurs de ? A quoi sert l’argument\n",
    "    `basicstyle=\\lstbasicfont\\small]|`0 1 1]|? Essayez de reproduire\n",
    "    l’estimation avec d’autres valeurs pour cet argument, est-ce que\n",
    "    cela affecte le résultat?"
   ]
  },
  {
   "cell_type": "code",
   "execution_count": null,
   "metadata": {
    "collapsed": true
   },
   "outputs": [],
   "source": [
    "10. Maintenant représenter le résultat de la régression."
   ]
  },
  {
   "cell_type": "code",
   "execution_count": null,
   "metadata": {
    "collapsed": true
   },
   "outputs": [],
   "source": [
    "            >> figure\n",
    "            >> plot(x,y,'b');\n",
    "            >> hold on\n",
    "            >> plot(x,ftheta(theta_chap,x),'r');\n",
    "            "
   ]
  },
  {
   "cell_type": "code",
   "execution_count": null,
   "metadata": {
    "collapsed": true
   },
   "outputs": [],
   "source": [
    "    Faites une sauvegarde de cette image, dans un fichier ."
   ]
  }
 ],
 "metadata": {
  "kernelspec": {
   "display_name": "Python 2",
   "language": "python",
   "name": "python2"
  },
  "language_info": {
   "codemirror_mode": {
    "name": "ipython",
    "version": 2
   },
   "file_extension": ".py",
   "mimetype": "text/x-python",
   "name": "python",
   "nbconvert_exporter": "python",
   "pygments_lexer": "ipython2",
   "version": "2.7.6"
  }
 },
 "nbformat": 4,
 "nbformat_minor": 0
}
