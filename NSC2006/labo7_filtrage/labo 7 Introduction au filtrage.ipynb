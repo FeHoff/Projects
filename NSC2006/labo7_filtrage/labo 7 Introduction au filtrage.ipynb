{
 "cells": [
  {
   "cell_type": "markdown",
   "metadata": {},
   "source": [
    "#Laboratoire d'introduction au filtrage"
   ]
  },
  {
   "cell_type": "markdown",
   "metadata": {},
   "source": [
    "> Cours NSC-2006, année 2015\n",
    "\n",
    "> Méthodes quantitatives en neurosciences \n",
    "\n",
    "> Pierre Bellec, Yassine Ben Haj Ali"
   ]
  },
  {
   "cell_type": "markdown",
   "metadata": {},
   "source": [
    "## Objectifs:"
   ]
  },
  {
   "cell_type": "markdown",
   "metadata": {},
   "source": [
    "Ce laboratoire a pour but de vous initier au filtrage de signaux temporels avec Matlab. Nous allons travailler avec un signal simulé qui contient plusieurs sources, une d'intérêt et d'autres qui sont du bruit. \n",
    " - Nous allons tout d'abord nous familiariser avec les différentes sources de signal, en temps et en fréquence. \n",
    " - Nous allons ensuite chercher un filtrage qui permette d'éliminer le bruit sans altérer de maniére forte le signal. \n",
    " - Enfin, nous évaluerons l'impact d'une perte de résolution temporelle sur notre capacité à débruiter le signal, lié au phénomène de repliement de fréquences (aliasing). \n",
    "\n",
    "Pour réaliser ce laboratoire, il est nécessaire de récupérer la\n",
    "ressource suivante sur [studium](https://studium.umontreal.ca/):\n",
    "\n",
    "-   labo7_filtrage.zip: cette archive contient plusieurs codes et jeux de données. SVP décompressez l'archive et copiez les fichiers dans votre répertoire de travail Matlab.\n",
    "\n",
    "De nombreuses portions du labo consiste à modifier un code réalisé dans une autre question. Il est donc fortement conseillé d'ouvrir un nouveau fichier dans l'éditeur matlab, et d'exécuter le code depuis l'éditeur, de façon à pouvoir copier des paragraphes de code rapidement. Ne pas tenir compte et ne pas exécuter cette partie du code:"
   ]
  },
  {
   "cell_type": "code",
   "execution_count": 3,
   "metadata": {
    "collapsed": false
   },
   "outputs": [
    {
     "name": "stdout",
     "output_type": "stream",
     "text": [
      "Starting Octave on ZMQ socket ipc:///tmp/pymatbridge\n",
      "Send 'exit' command to kill the server\n",
      ".Octave started and connected!\n",
      "Starting MATLAB on ZMQ socket ipc:///tmp/pymatbridge\n",
      "Send 'exit' command to kill the server\n",
      ".MATLAB started and connected!\n"
     ]
    }
   ],
   "source": [
    "%matplotlib inline\n",
    "from pymatbridge import Octave\n",
    "octave = Octave()\n",
    "octave.start()\n",
    "%load_ext pymatbridge"
   ]
  },
  {
   "cell_type": "markdown",
   "metadata": {},
   "source": [
    "## Section 1: Exemple de signaux, temps et fréquence"
   ]
  },
  {
   "cell_type": "markdown",
   "metadata": {},
   "source": [
    "#### 1. Commençons par générer un signal d'intêret:"
   ]
  },
  {
   "cell_type": "code",
   "execution_count": 4,
   "metadata": {
    "collapsed": false
   },
   "outputs": [],
   "source": [
    "%%matlab\n",
    "\n",
    "%% Définition du signal d'intêret\n",
    "% fréquence du signal\n",
    "freq = 1;  \n",
    "% on crée des blocs off/on de 15 secondes\n",
    "bloc = repmat([zeros(1,15*freq) ones(1,15*freq)],[1 10]); \n",
    "% les temps d'acquisition\n",
    "ech = (0:(1/freq):(length(bloc)/freq)-(1/freq)); \n",
    "% ce paramètre fixe le pic de la réponse hémodynamique\n",
    "pic = 5; \n",
    "% noyau de réponse hémodynamique\n",
    "noyau = [linspace(0,1,(pic*freq)+1) linspace(1,-0.3,(pic*freq)/2) linspace(-0.3,0,(pic*freq)/2)]; \n",
    "noyau = [zeros(1,length(noyau)-1) noyau]; \n",
    "% normalisation du noyau\n",
    "noyau = noyau/sum(abs(noyau)); \n",
    "% convolution du bloc avec le noyau\n",
    "signal = conv(bloc,noyau,'same'); \n",
    "% on fixe la moyenne de la réponse à zéro\n",
    "signal = signal - mean(signal); "
   ]
  },
  {
   "cell_type": "markdown",
   "metadata": {},
   "source": [
    "Représentez `noyau` et `signal` en temps, à l'aide de la commande `plot`. Utiliser les temps d'acquisition corrects, et labéliser les axes (xlabel, ylabel). Comment est généré `signal`? reconnaissez vous le processus employé? Est ce que le signal est périodique? si oui, quelle est sa période? Peut-on trouver la réponse dans le code? "
   ]
  },
  {
   "cell_type": "markdown",
   "metadata": {},
   "source": [
    "#### 2. Représenter le contenu fréquentiel de `signal` avec la commande `Analyse_Frequence_Puissance`. \n",
    "\n",
    "Utilisez la commande `ylim` pour ajuster les limites de l'axe y et pouvoir bien observer le signal. Notez que l'axe y (puissance) est en échelle log (dB). Quelles sont les fréquences principales contenues dans le signal? Etait-ce attendu?"
   ]
  },
  {
   "cell_type": "markdown",
   "metadata": {},
   "source": [
    "#### 3. Répétez les questions 1.1 et 1.2 avec un bruit dit blanc, généré ci dessous.\n",
    "Pourquoi est ce que ce bruit porte ce nom?</li></h4>\n"
   ]
  },
  {
   "cell_type": "code",
   "execution_count": 5,
   "metadata": {
    "collapsed": false
   },
   "outputs": [],
   "source": [
    "%%matlab\n",
    "%% définition du bruit blanc\n",
    "bruit = 0.05*randn(size(signal));"
   ]
  },
  {
   "cell_type": "markdown",
   "metadata": {},
   "source": [
    "#### 4. Bruit respiratoire.\n",
    "Répétez les les questions 1.1 et 1.2 avec un bruit dit respiratoire, généré ci dessous. Est ce une simulation raisonnable de variations liées à la respiration? pourquoi?"
   ]
  },
  {
   "cell_type": "code",
   "execution_count": 6,
   "metadata": {
    "collapsed": false
   },
   "outputs": [],
   "source": [
    "%%matlab\n",
    "\n",
    "%% définition du signal de respiration\n",
    "% fréquence de la respiration\n",
    "freq_resp = 0.3; \n",
    "% un modéle simple (cosinus) des fluctuations liées à la respiration\n",
    "resp = cos(2*pi*freq_resp*ech/freq); \n",
    "% fréquence de modulation lente de l'amplitude respiratoire\n",
    "freq_mod = 0.01; \n",
    "% modulation de l'amplitude du signal lié à la respiration\n",
    "resp = resp.*(ones(size(resp))-0.1*cos(2*pi*freq_mod*ech/freq)); \n",
    "% on force une moyenne nulle, et une amplitude max de 0.1\n",
    "resp = 0.1*(resp-mean(resp)); "
   ]
  },
  {
   "cell_type": "markdown",
   "metadata": {},
   "source": [
    "#### 5. Ligne de base.\n",
    "Répétez les les questions 1.1 et 1.2 avec une dérive de la ligne de base, telle que générée ci dessous."
   ]
  },
  {
   "cell_type": "code",
   "execution_count": 10,
   "metadata": {
    "collapsed": false
   },
   "outputs": [],
   "source": [
    "%%matlab\n",
    "%% définition de la ligne de base\n",
    "base = 0.1*(ech-mean(ech))/mean(ech);"
   ]
  },
  {
   "cell_type": "markdown",
   "metadata": {},
   "source": [
    "#### 6. Mélange de signaux. \n",
    "On va maintenant mélanger nos différentes signaux, tel qu'indiqué ci-dessous. Représentez les trois mélanges en temps et en fréquence, superposé au signal d'intérêt sans aucun bruit (variable `signal`). Pouvez-vous reconnaitre la contribution de chaque source dans le mélange fréquentiel? Est ce que les puissances de fréquences s'additionnent systématiquement?"
   ]
  },
  {
   "cell_type": "code",
   "execution_count": 11,
   "metadata": {
    "collapsed": false
   },
   "outputs": [],
   "source": [
    "%%matlab\n",
    "%% Mélanges de signaux\n",
    "y_sr   = signal + resp;\n",
    "y_srb  = signal + resp + bruit;\n",
    "y_srbb = signal + resp + bruit + base;"
   ]
  },
  {
   "cell_type": "markdown",
   "metadata": {},
   "source": [
    "### Section 2: Optimisation de filtre"
   ]
  },
  {
   "cell_type": "markdown",
   "metadata": {},
   "source": [
    "#### 2.1. Nous allons commencer par appliquer un filtre de moyenne mobile, avec le signal le plus simple (`y_sr`).\n",
    "Pour cela on crée un noyau et on applique une convolution, comme indiqué ci dessous. Représentez le noyau en fréquence (avec `Analyse_Frequence_Puissance`), commentez sur l'impact fréquentiel de la convolution. Faire un deuxième graphe représentant le signal d'intérêt superposé au signal filtré."
   ]
  },
  {
   "cell_type": "code",
   "execution_count": 13,
   "metadata": {
    "collapsed": true
   },
   "outputs": [],
   "source": [
    "%%matlab\n",
    "%%définition d'un noyau de moyenne mobile\n",
    "% taille de la fenêtre pour la moyenne mobile, en nombre d'échantillons temporels\n",
    "taille = ceil(3*freq);\n",
    "% le noyau, défini sur une fenêtre identique aux signaux précédents\n",
    "noyau = [zeros(1,(length(signal)-taille)/2) ones(1,taille) zeros(1,(length(signal)-taille)/2)];\n",
    "% normalisation du moyau\n",
    "noyau = noyau/sum(abs(noyau));\n",
    "\n",
    "%% convolution avec le noyau (filtrage)\n",
    "y_f = conv(y_sr,noyau,'same');"
   ]
  },
  {
   "cell_type": "markdown",
   "metadata": {},
   "source": [
    "#### 2.2 Répétez la question 2.1 avec un noyau plus gros.\n",
    "Commentez qualitativement sur la qualité du débruitage. Comparez quantitativement les deux filtres avec une mesure d'erreur résiduelle suivante:"
   ]
  },
  {
   "cell_type": "code",
   "execution_count": null,
   "metadata": {
    "collapsed": true
   },
   "outputs": [],
   "source": [
    "%%matlab\n",
    "err = sqrt(mean((signal-y_f).^2))"
   ]
  },
  {
   "cell_type": "markdown",
   "metadata": {},
   "source": [
    "#### 2.3 Réponse des filtres de Butterworth.\n",
    "Ces filtres sont disponibles dans des fonctions que vous avez déjà utilisé lors du laboratoire sur la transformée de Fourier:\n",
    " - `FiltrePasseHaut.m`: suppression des basses fréquences.\n",
    " - `FiltrePasseBas.m`: suppression des hautes fréquences.\n",
    " \n",
    "Le filtre de Butterworth n'utilise pas explicitement un noyau de convolution. Mais comme il s'agit d'un systéme linéaire invariant dans le temps, on peut toujours récupérer le noyau en regardant la réponse à une impulsion finie unitaire, définie comme suit:"
   ]
  },
  {
   "cell_type": "code",
   "execution_count": null,
   "metadata": {
    "collapsed": true
   },
   "outputs": [],
   "source": [
    "%%matlab\n",
    "%% Définition d'une implusion finie unitaire\n",
    "impulsion = zeros(size(signal));\n",
    "impulsion(round(length(impulsion)/2))=1;\n",
    "noyau = FiltrePasseHaut(impulsion,freq,0.1);"
   ]
  },
  {
   "cell_type": "markdown",
   "metadata": {},
   "source": [
    "Représentez le noyau en temps et en fréquence. Quelle est la fréquence de coupure du filtre?"
   ]
  },
  {
   "cell_type": "markdown",
   "metadata": {},
   "source": [
    "#### 2.4. Application du filtre de Butterworth.\n",
    "L'exemple ci dessous filtre le signal avec un filtre passe bas, avec une fréquence de coupure de 0.1:\n"
   ]
  },
  {
   "cell_type": "code",
   "execution_count": null,
   "metadata": {
    "collapsed": true
   },
   "outputs": [],
   "source": [
    "%%matlab\n",
    "y = y_sr;\n",
    "y_f = FiltrePasseBas(y,freq,0.1);"
   ]
  },
  {
   "cell_type": "markdown",
   "metadata": {},
   "source": [
    "Faire un graphe représentant le signal d'intérêt (`signal`) superposé au signal filtré. Calculez l'erreur résiduelle, et comparez au filtre par moyenne mobile évalué précédemment."
   ]
  },
  {
   "cell_type": "markdown",
   "metadata": {},
   "source": [
    "#### 2.5. Optimisation du filtre de Butterworth.\n",
    "Trouvez une combinaison de filtre passe-haut et de filtre passe-bas de Butterworth qui permette d'améliorer l'erreur résiduelle par rapport au filtre de moyenne mobile.  Faire un graphe représentant le signal d'intérêt (signal) superposé au signal filtré, et un second avec le signal d'intérêt superposé au signal bruité, pour référence."
   ]
  },
  {
   "cell_type": "markdown",
   "metadata": {},
   "source": [
    "#### 2.6 Optionnel: autres exemples.\n",
    "Recommencez les questions 2.1 et 2.5, avec les signaux `y_srb` et `y_srbb`."
   ]
  },
  {
   "cell_type": "markdown",
   "metadata": {},
   "source": [
    "#### 2.7. Optionnel: impact du recouvrement de fréquences.\n",
    "Recommencez la totalité de la section 1, et la question 2.5., en modifiant la valeur de la variable variable `freq` (fréquence d'échantillonnage) de 1 à 0.33. Dans la section 1, observez le recouvrement de fréquence pour le signal respiratoire. "
   ]
  }
 ],
 "metadata": {
  "kernelspec": {
   "display_name": "Python 2",
   "language": "python",
   "name": "python2"
  },
  "language_info": {
   "codemirror_mode": {
    "name": "ipython",
    "version": 2
   },
   "file_extension": ".py",
   "mimetype": "text/x-python",
   "name": "python",
   "nbconvert_exporter": "python",
   "pygments_lexer": "ipython2",
   "version": "2.7.6"
  }
 },
 "nbformat": 4,
 "nbformat_minor": 0
}
