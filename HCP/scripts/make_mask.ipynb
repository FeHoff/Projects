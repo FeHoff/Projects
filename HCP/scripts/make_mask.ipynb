{
 "cells": [
  {
   "cell_type": "code",
   "execution_count": 1,
   "metadata": {
    "collapsed": false
   },
   "outputs": [
    {
     "name": "stderr",
     "output_type": "stream",
     "text": [
      "/home/surchs/Venv/py35/lib/python3.5/site-packages/sklearn/cross_validation.py:44: DeprecationWarning: This module was deprecated in version 0.18 in favor of the model_selection module into which all the refactored classes and functions are moved. Also note that the interface of the new CV iterators are different from that of this module. This module will be removed in 0.20.\n",
      "  \"This module will be removed in 0.20.\", DeprecationWarning)\n"
     ]
    }
   ],
   "source": [
    "import os\n",
    "import numpy as np\n",
    "import nibabel as nib\n",
    "from nilearn import plotting as nlp\n",
    "from matplotlib import pyplot as plt"
   ]
  },
  {
   "cell_type": "code",
   "execution_count": 2,
   "metadata": {
    "collapsed": true
   },
   "outputs": [],
   "source": [
    "%matplotlib inline"
   ]
  },
  {
   "cell_type": "code",
   "execution_count": 8,
   "metadata": {
    "collapsed": false
   },
   "outputs": [],
   "source": [
    "# Paths\n",
    "temp_sub = '/data1/guilimin/HCP/HCP_raw_data/100307/MNINonLinear/'\n",
    "parc_name = os.path.join(temp_sub, 'wmparc.nii.gz')\n",
    "rest_name = os.path.join(temp_sub, 'Results/rfMRI_REST1_LR/rfMRI_REST1_LR.nii.gz')\n",
    "gm_out = os.path.join(temp_sub, 'gm_mask.nii.gz')\n",
    "wm_out = os.path.join(temp_sub, 'wm_mask.nii.gz')\n",
    "csf_out = os.path.join(temp_sub, 'csf_mask.nii.gz')"
   ]
  },
  {
   "cell_type": "code",
   "execution_count": 4,
   "metadata": {
    "collapsed": true
   },
   "outputs": [],
   "source": [
    "# Mask stuff\n",
    "# CSF stuff\n",
    "all_csf = np.array([4, 5, 14, 15, 43, 44, 72, 75, 76, 213, 221, 24])\n",
    "\n",
    "# WM stuff\n",
    "wm_hypo = np.arange(77,83)\n",
    "wm_baby = np.arange(159,163)\n",
    "wm_left = np.append(np.arange(3000, 3036), np.arange(3100, 3182))\n",
    "wm_right = np.append(np.arange(4000, 4036), np.arange(4100, 4182))\n",
    "wm_vals = np.array([2, 7, 41, 46, 85, 86, 219, 223, 703, 5001, 5002, 100, 109])\n",
    "\n",
    "all_wm = np.concatenate((wm_baby, wm_left, wm_right, wm_vals))\n",
    "\n",
    "# GM stuff\n",
    "brain = np.concatenate((np.array([3, 42, 220]), \n",
    "                        np.arange(1000, 1036), np.arange(2000, 2036), \n",
    "                        np.arange(1100, 1181), np.arange(2100, 2181),\n",
    "                        np.arange(2200, 2212)))\n",
    "cerebellum = np.array([8, 47])\n",
    "\n",
    "thalamus = np.array([9, 10, 48, 49])\n",
    "caudate_putamen = np.array([11, 12, 50, 51, 136, 137])\n",
    "pallidum = np.array([13, 52])\n",
    "hippocampus = np.array([17, 53, 193, 197, 215, 505, 555, 1016, 2016, 1119, 2119])\n",
    "amygdala = np.array([18, 54, 96, 97, 218])\n",
    "insula = np.array([19, 55, 1035, 2035, 1112, 1113, 1146, 1149, 1150, 1151, 2112, 2113, 2146, 2149, 2150, 2151, 20, 56])\n",
    "basal_ganglia = np.sort(np.concatenate((thalamus, caudate_putamen, pallidum, hippocampus, amygdala, insula)))\n",
    "other_brain = np.concatenate((np.arange(26, 40), np.arange(58,71)))\n",
    "\n",
    "all_brain = np.concatenate((brain, cerebellum, basal_ganglia, other_brain))"
   ]
  },
  {
   "cell_type": "code",
   "execution_count": 5,
   "metadata": {
    "collapsed": true
   },
   "outputs": [],
   "source": [
    "def make_mask(reference, values):\n",
    "    mask = np.zeros_like(reference, dtype=bool)\n",
    "    for val in values:\n",
    "        mask += reference == val\n",
    "    \n",
    "    return mask"
   ]
  },
  {
   "cell_type": "code",
   "execution_count": 11,
   "metadata": {
    "collapsed": true
   },
   "outputs": [],
   "source": [
    "# Make mask\n",
    "m_img = nib.load(parc_name)\n",
    "mask = m_img.get_data().astype(int)\n",
    "\n",
    "# Make WM mask\n",
    "wm_mask = make_mask(mask, all_wm)\n",
    "# Make GM mask\n",
    "gm_mask = make_mask(mask, all_brain)\n",
    "# Make CSF mask\n",
    "csf_mask = make_mask(mask, all_csf)"
   ]
  },
  {
   "cell_type": "code",
   "execution_count": 12,
   "metadata": {
    "collapsed": true
   },
   "outputs": [],
   "source": [
    "# Turn those things into images\n",
    "wm_img = nib.Nifti1Image(wm_mask, affine=m_img.affine, header=m_img.header)\n",
    "gm_img = nib.Nifti1Image(gm_mask, affine=m_img.affine, header=m_img.header)\n",
    "csf_img = nib.Nifti1Image(csf_mask, affine=m_img.affine, header=m_img.header)"
   ]
  },
  {
   "cell_type": "code",
   "execution_count": 13,
   "metadata": {
    "collapsed": false
   },
   "outputs": [],
   "source": [
    "# Save them\n",
    "nib.save(wm_img, wm_out)\n",
    "nib.save(gm_img, gm_out)\n",
    "nib.save(csf_img, csf_out)"
   ]
  },
  {
   "cell_type": "code",
   "execution_count": null,
   "metadata": {
    "collapsed": true
   },
   "outputs": [],
   "source": []
  }
 ],
 "metadata": {
  "kernelspec": {
   "display_name": "Python 3.5 (v)",
   "language": "python",
   "name": "py35"
  },
  "language_info": {
   "codemirror_mode": {
    "name": "ipython",
    "version": 3
   },
   "file_extension": ".py",
   "mimetype": "text/x-python",
   "name": "python",
   "nbconvert_exporter": "python",
   "pygments_lexer": "ipython3",
   "version": "3.5.2+"
  }
 },
 "nbformat": 4,
 "nbformat_minor": 1
}
