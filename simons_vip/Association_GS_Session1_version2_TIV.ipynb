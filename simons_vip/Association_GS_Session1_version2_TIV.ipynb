{
 "cells": [
  {
   "cell_type": "markdown",
   "metadata": {},
   "source": [
    "\n",
    "# Look at association of genetic status @ session 1 B\n",
    "Changes to previous version:\n",
    "- do marginal FDR correction\n",
    "- put swarmplots on the boxplots\n",
    "- have only one plot per subtype"
   ]
  },
  {
   "cell_type": "code",
   "execution_count": 1,
   "metadata": {
    "collapsed": true
   },
   "outputs": [],
   "source": [
    "%matplotlib notebook"
   ]
  },
  {
   "cell_type": "code",
   "execution_count": 2,
   "metadata": {
    "collapsed": false
   },
   "outputs": [],
   "source": [
    "import numpy as np\n",
    "import scipy as sp\n",
    "import pandas as pd\n",
    "import nilearn as nil\n",
    "import seaborn as sns\n",
    "import nibabel as nib\n",
    "from scipy import io as sio\n",
    "import statsmodels.api as sm\n",
    "from nilearn import plotting as nlp\n",
    "from matplotlib import pyplot as plt\n",
    "import matplotlib.gridspec as gridspec\n",
    "from statsmodels.sandbox.stats import multicomp as smi"
   ]
  },
  {
   "cell_type": "code",
   "execution_count": 3,
   "metadata": {
    "collapsed": false
   },
   "outputs": [],
   "source": [
    "# Paths\n",
    "model_path = '/data1/guillimin/sim_data/simons_vip/pheno/pheno_tiv2.csv'\n",
    "#weights_path = '/data1/guillimin/sim_data/simons_vip/subtype/subtypes3_16p_session1/subtype_weights.mat'\n",
    "weights_path = '/data1/guillimin/sim_data/simons_vip/svip_subtype_TIV/subtype_weights.mat'\n",
    "\n",
    "#sbt_map_temp= '/data1/guillimin/sim_data/simons_vip/subtype/subtypes3_16p_session1/network_{}/mean_subtype.nii.gz'\n",
    "sbt_map_temp= '/data1/guillimin/sim_data/simons_vip/svip_subtype_TIV/network_{}/mean_subtype.nii.gz'"
   ]
  },
  {
   "cell_type": "code",
   "execution_count": 4,
   "metadata": {
    "collapsed": false
   },
   "outputs": [],
   "source": [
    "model = pd.read_csv(model_path, delimiter=';')"
   ]
  },
  {
   "cell_type": "code",
   "execution_count": 5,
   "metadata": {
    "collapsed": false
   },
   "outputs": [
    {
     "data": {
      "text/html": [
       "<div>\n",
       "<table border=\"1\" class=\"dataframe\">\n",
       "  <thead>\n",
       "    <tr style=\"text-align: right;\">\n",
       "      <th></th>\n",
       "      <th>Unnamed: 0</th>\n",
       "      <th>frames_scrubbed.</th>\n",
       "      <th>frames_OK</th>\n",
       "      <th>FD</th>\n",
       "      <th>FD_scrubbed</th>\n",
       "      <th>session</th>\n",
       "      <th>sex</th>\n",
       "      <th>family</th>\n",
       "      <th>age_zscore</th>\n",
       "      <th>age_months</th>\n",
       "      <th>...</th>\n",
       "      <th>suspected_diagnosis1</th>\n",
       "      <th>suspected_diagnosis2</th>\n",
       "      <th>ID2</th>\n",
       "      <th>GM</th>\n",
       "      <th>WM</th>\n",
       "      <th>CSF</th>\n",
       "      <th>TBV</th>\n",
       "      <th>TIV</th>\n",
       "      <th>Genetic_status.1</th>\n",
       "      <th>ID</th>\n",
       "    </tr>\n",
       "  </thead>\n",
       "  <tbody>\n",
       "    <tr>\n",
       "      <th>0</th>\n",
       "      <td>s14702xx3xFCAP1_session1_rest</td>\n",
       "      <td>39</td>\n",
       "      <td>79</td>\n",
       "      <td>0.305145</td>\n",
       "      <td>0.227978</td>\n",
       "      <td>session1</td>\n",
       "      <td>1</td>\n",
       "      <td>14702</td>\n",
       "      <td>1.687134</td>\n",
       "      <td>95</td>\n",
       "      <td>...</td>\n",
       "      <td>315-32-mixed-receptive-expressive-language-dis...</td>\n",
       "      <td>NaN</td>\n",
       "      <td>s14702xx3xFCAP1</td>\n",
       "      <td>0.964216</td>\n",
       "      <td>0.396450</td>\n",
       "      <td>0.262746</td>\n",
       "      <td>1.360666</td>\n",
       "      <td>1.623412</td>\n",
       "      <td>1</td>\n",
       "      <td>14702x3</td>\n",
       "    </tr>\n",
       "    <tr>\n",
       "      <th>1</th>\n",
       "      <td>s14714xx18xFCAP1_session1_rest</td>\n",
       "      <td>8</td>\n",
       "      <td>110</td>\n",
       "      <td>0.129200</td>\n",
       "      <td>0.118603</td>\n",
       "      <td>session1</td>\n",
       "      <td>1</td>\n",
       "      <td>14714</td>\n",
       "      <td>-0.208128</td>\n",
       "      <td>249</td>\n",
       "      <td>...</td>\n",
       "      <td>NaN</td>\n",
       "      <td>NaN</td>\n",
       "      <td>s14714xx18xFCAP1</td>\n",
       "      <td>0.740053</td>\n",
       "      <td>0.415315</td>\n",
       "      <td>0.393928</td>\n",
       "      <td>1.155368</td>\n",
       "      <td>1.549296</td>\n",
       "      <td>1</td>\n",
       "      <td>14714x18</td>\n",
       "    </tr>\n",
       "    <tr>\n",
       "      <th>2</th>\n",
       "      <td>s14725xx48xFCAP1_session1_rest</td>\n",
       "      <td>35</td>\n",
       "      <td>83</td>\n",
       "      <td>0.342359</td>\n",
       "      <td>0.249759</td>\n",
       "      <td>session1</td>\n",
       "      <td>1</td>\n",
       "      <td>14725</td>\n",
       "      <td>0.335883</td>\n",
       "      <td>415</td>\n",
       "      <td>...</td>\n",
       "      <td>309-0-adjustment-disorder-with-depressed-mood</td>\n",
       "      <td>311-depressive-disorder-nos</td>\n",
       "      <td>s14725xx48xFCAP1</td>\n",
       "      <td>0.661548</td>\n",
       "      <td>0.374882</td>\n",
       "      <td>0.226072</td>\n",
       "      <td>1.036430</td>\n",
       "      <td>1.262502</td>\n",
       "      <td>3</td>\n",
       "      <td>14725x48</td>\n",
       "    </tr>\n",
       "    <tr>\n",
       "      <th>3</th>\n",
       "      <td>s14729xx5xFCAP1_session1_rest</td>\n",
       "      <td>35</td>\n",
       "      <td>83</td>\n",
       "      <td>0.228533</td>\n",
       "      <td>0.158575</td>\n",
       "      <td>session1</td>\n",
       "      <td>1</td>\n",
       "      <td>14729</td>\n",
       "      <td>1.757329</td>\n",
       "      <td>99</td>\n",
       "      <td>...</td>\n",
       "      <td>296-90-mood-disorder-nos</td>\n",
       "      <td>NaN</td>\n",
       "      <td>s14729xx5xFCAP1</td>\n",
       "      <td>0.839764</td>\n",
       "      <td>0.380459</td>\n",
       "      <td>0.637733</td>\n",
       "      <td>1.220223</td>\n",
       "      <td>1.857956</td>\n",
       "      <td>1</td>\n",
       "      <td>14729x5</td>\n",
       "    </tr>\n",
       "    <tr>\n",
       "      <th>4</th>\n",
       "      <td>s14732xx6xFCAP1_session1_rest</td>\n",
       "      <td>34</td>\n",
       "      <td>84</td>\n",
       "      <td>0.199322</td>\n",
       "      <td>0.144287</td>\n",
       "      <td>session1</td>\n",
       "      <td>2</td>\n",
       "      <td>14732</td>\n",
       "      <td>-1.138210</td>\n",
       "      <td>131</td>\n",
       "      <td>...</td>\n",
       "      <td>NaN</td>\n",
       "      <td>315-32-mixed-receptive-expressive-language-dis...</td>\n",
       "      <td>s14732xx6xFCAP1</td>\n",
       "      <td>0.687705</td>\n",
       "      <td>0.231177</td>\n",
       "      <td>0.330932</td>\n",
       "      <td>0.918882</td>\n",
       "      <td>1.249814</td>\n",
       "      <td>1</td>\n",
       "      <td>14732x6</td>\n",
       "    </tr>\n",
       "  </tbody>\n",
       "</table>\n",
       "<p>5 rows × 44 columns</p>\n",
       "</div>"
      ],
      "text/plain": [
       "                        Unnamed: 0  frames_scrubbed.  frames_OK        FD  \\\n",
       "0   s14702xx3xFCAP1_session1_rest                 39         79  0.305145   \n",
       "1  s14714xx18xFCAP1_session1_rest                  8        110  0.129200   \n",
       "2  s14725xx48xFCAP1_session1_rest                 35         83  0.342359   \n",
       "3   s14729xx5xFCAP1_session1_rest                 35         83  0.228533   \n",
       "4   s14732xx6xFCAP1_session1_rest                 34         84  0.199322   \n",
       "\n",
       "   FD_scrubbed   session  sex  family  age_zscore  age_months    ...     \\\n",
       "0     0.227978  session1    1   14702    1.687134          95    ...      \n",
       "1     0.118603  session1    1   14714   -0.208128         249    ...      \n",
       "2     0.249759  session1    1   14725    0.335883         415    ...      \n",
       "3     0.158575  session1    1   14729    1.757329          99    ...      \n",
       "4     0.144287  session1    2   14732   -1.138210         131    ...      \n",
       "\n",
       "                                suspected_diagnosis1  \\\n",
       "0  315-32-mixed-receptive-expressive-language-dis...   \n",
       "1                                                NaN   \n",
       "2      309-0-adjustment-disorder-with-depressed-mood   \n",
       "3                           296-90-mood-disorder-nos   \n",
       "4                                                NaN   \n",
       "\n",
       "                                suspected_diagnosis2                ID2  \\\n",
       "0                                                NaN   s14702xx3xFCAP1    \n",
       "1                                                NaN  s14714xx18xFCAP1    \n",
       "2                        311-depressive-disorder-nos  s14725xx48xFCAP1    \n",
       "3                                                NaN   s14729xx5xFCAP1    \n",
       "4  315-32-mixed-receptive-expressive-language-dis...   s14732xx6xFCAP1    \n",
       "\n",
       "         GM        WM       CSF       TBV       TIV  Genetic_status.1  \\\n",
       "0  0.964216  0.396450  0.262746  1.360666  1.623412                 1   \n",
       "1  0.740053  0.415315  0.393928  1.155368  1.549296                 1   \n",
       "2  0.661548  0.374882  0.226072  1.036430  1.262502                 3   \n",
       "3  0.839764  0.380459  0.637733  1.220223  1.857956                 1   \n",
       "4  0.687705  0.231177  0.330932  0.918882  1.249814                 1   \n",
       "\n",
       "         ID  \n",
       "0   14702x3  \n",
       "1  14714x18  \n",
       "2  14725x48  \n",
       "3   14729x5  \n",
       "4   14732x6  \n",
       "\n",
       "[5 rows x 44 columns]"
      ]
     },
     "execution_count": 5,
     "metadata": {},
     "output_type": "execute_result"
    }
   ],
   "source": [
    "model.head()"
   ]
  },
  {
   "cell_type": "code",
   "execution_count": 6,
   "metadata": {
    "collapsed": false
   },
   "outputs": [],
   "source": [
    "tmp = sio.loadmat(weights_path)\n",
    "weights = tmp['weight_mat']"
   ]
  },
  {
   "cell_type": "code",
   "execution_count": 7,
   "metadata": {
    "collapsed": false
   },
   "outputs": [],
   "source": [
    "n_sbt, n_net = weights.shape[1:]"
   ]
  },
  {
   "cell_type": "code",
   "execution_count": 9,
   "metadata": {
    "collapsed": false
   },
   "outputs": [],
   "source": [
    "p_mat = np.zeros((n_sbt, n_net))\n",
    "res_list = list()\n",
    "for nid in range(n_net):\n",
    "    tmp_list = list()\n",
    "    for sid in range(n_sbt):\n",
    "        m = sm.OLS(weights[:, sid, nid], model[['g1','g2','g3']])\n",
    "        res = m.fit()\n",
    "        p_mat[sid, nid] = res.f_pvalue\n",
    "        tmp_list.append(res)\n",
    "    res_list.append(tmp_list)"
   ]
  },
  {
   "cell_type": "code",
   "execution_count": 10,
   "metadata": {
    "collapsed": false
   },
   "outputs": [],
   "source": [
    "pcorr_vec = smi.multipletests(p_mat.flatten(), alpha=0.05, method='fdr_bh')\n",
    "pcorr_mat = np.reshape(pcorr_vec[0], (n_sbt, n_net))"
   ]
  },
  {
   "cell_type": "code",
   "execution_count": 16,
   "metadata": {
    "collapsed": false
   },
   "outputs": [
    {
     "data": {
      "text/plain": [
       "array([[ 0.21914223,  0.27073091,  0.5275454 ,  0.17705027,  0.51800223,\n",
       "         0.80826912,  0.01375848,  0.20454397,  0.10373806,  0.42615782,\n",
       "         0.07411997,  0.71526929],\n",
       "       [ 0.35862254,  0.08056252,  0.27237562,  0.33228972,  0.20682879,\n",
       "         0.91994755,  0.34261553,  0.38535989,  0.11668905,  0.06743058,\n",
       "         0.51759543,  0.17159479],\n",
       "       [ 0.22489061,  0.45489077,  0.0820101 ,  0.16209854,  0.14912332,\n",
       "         0.87607411,  0.35739121,  0.05162909,  0.55965077,  0.01848546,\n",
       "         0.64032927,  0.53664192]])"
      ]
     },
     "execution_count": 16,
     "metadata": {},
     "output_type": "execute_result"
    }
   ],
   "source": [
    "p_mat"
   ]
  },
  {
   "cell_type": "code",
   "execution_count": 11,
   "metadata": {
    "collapsed": false
   },
   "outputs": [
    {
     "data": {
      "text/plain": [
       "array([[False, False, False, False, False, False, False, False, False,\n",
       "        False, False, False],\n",
       "       [False, False, False, False, False, False, False, False, False,\n",
       "        False, False, False],\n",
       "       [False, False, False, False, False, False, False, False, False,\n",
       "        False, False, False]], dtype=bool)"
      ]
     },
     "execution_count": 11,
     "metadata": {},
     "output_type": "execute_result"
    }
   ],
   "source": [
    "pcorr_mat"
   ]
  },
  {
   "cell_type": "code",
   "execution_count": 12,
   "metadata": {
    "collapsed": true
   },
   "outputs": [],
   "source": [
    "# Run post hoc tests on the subtypes that show effects\n",
    "hits = np.argwhere(pcorr_mat)\n",
    "n_hits = len(hits)"
   ]
  },
  {
   "cell_type": "code",
   "execution_count": 13,
   "metadata": {
    "collapsed": true
   },
   "outputs": [],
   "source": [
    "# Sort hits by network\n",
    "ind = np.argsort([x[1] for x in hits])\n",
    "hits = hits[ind]"
   ]
  },
  {
   "cell_type": "code",
   "execution_count": 14,
   "metadata": {
    "collapsed": false
   },
   "outputs": [],
   "source": [
    "# Define the post hocs to run\n",
    "post_hocs = 'g1 = g2, g2 = g3, g1 = g3'\n",
    "post_dict = {0:'g1vg2', 1:'g2vg3', 2:'g1vg3'}\n",
    "hit_dict = dict()\n",
    "\n",
    "#for hit_sbt, hit_net in hits:\n",
    "for hit_sbt, hit_net in hits:\n",
    "    if not hit_net in hit_dict.keys():\n",
    "        hit_dict[hit_net] = dict()\n",
    "    res = res_list[hit_net][hit_sbt]\n",
    "    pvals = res.t_test(post_hocs).pvalue\n",
    "    # FDR\n",
    "    corr = smi.multipletests(pvals, alpha=0.05, method='fdr_bh')\n",
    "    # Store\n",
    "    hit_dict[hit_net][hit_sbt] = corr"
   ]
  },
  {
   "cell_type": "markdown",
   "metadata": {},
   "source": [
    "- G1 - Dels (Autism)\n",
    "- G2 - Controls\n",
    "- G3 - Dups (Schizo)"
   ]
  },
  {
   "cell_type": "code",
   "execution_count": 15,
   "metadata": {
    "collapsed": false
   },
   "outputs": [],
   "source": [
    "for net in sorted(hit_dict.keys()):\n",
    "    tmpd = hit_dict[net]\n",
    "    n_plots = len(tmpd.keys())\n",
    "    # Prepare figure\n",
    "    fig = plt.figure(figsize=(12,4*n_plots))\n",
    "    gs = gridspec.GridSpec(n_plots, 3, hspace=0.4)\n",
    "    \n",
    "    for pid, sbt in enumerate(sorted(tmpd.keys())):\n",
    "        # Define axis\n",
    "        ax = fig.add_subplot(gs[pid,0])\n",
    "        fd_pass, pval, a, b = tmpd[sbt]\n",
    "        n_tests = np.sum(fd_pass)\n",
    "        \n",
    "        # Plot the main plot\n",
    "        sns.boxplot(model.genetic, weights[:, sbt, net], ax=ax)\n",
    "        # Add swarm plot\n",
    "        sns.boxplot(model.genetic, weights[:, sbt, net], ax=ax)\n",
    "        sns.swarmplot(model.genetic, weights[:, sbt, net], ax=ax, size=4, linewidth=1)\n",
    "        # Compute text overlay\n",
    "        y = weights[:, sbt, net].max()\n",
    "        h = y*0.15*n_tests\n",
    "        y += y*0.1\n",
    "        \n",
    "        # Go through the significant tests\n",
    "        for tid, test in enumerate(np.argwhere(fd_pass)):\n",
    "            # figure out the test\n",
    "            if test[0] == 0:\n",
    "                x1, x2 = 0, 1\n",
    "            elif test[0] == 1:\n",
    "                x1, x2 = 1, 2\n",
    "            elif test[0] == 2:\n",
    "                x1, x2 = 0, 2\n",
    "            \n",
    "            ax.plot([x1, x1, x2, x2], [y, y+h*(tid+1), y+h*(tid+1), y], lw=1.5, c='k')\n",
    "            ax.text((x1+x2)*.5, y+h*(tid+1), 'p={:.3f}'.format(pval[test][0]), ha='center', va='bottom', color='k')\n",
    "            \n",
    "        # Set axis\n",
    "        (dn, up) = ax.get_ylim()\n",
    "        ax.set_ylim((dn, up+h*n_tests))\n",
    "        #ax.set_ylim((-0.8, 1.3))\n",
    "        ax.set_title('Network {} Subtype {}'.format(net+1, sbt+1))\n",
    "        ax.set_xticklabels(['deletion', 'control', 'duplication'])\n",
    "        ax.set_ylabel('subtype weights')\n",
    "        \n",
    "        # Add the network plot\n",
    "        ax2 = fig.add_subplot(gs[pid,1:])\n",
    "        tmp_i = nib.load(sbt_map_temp.format(net+1))\n",
    "        # Load the corresponding network\n",
    "        nlp.plot_stat_map(nil.image.index_img(tmp_i, sbt), display_mode='x', threshold=0, \n",
    "                          cut_coords=[-50, -30, -10, 10, 30, 50], black_bg=True,axes=ax2,\n",
    "                          title='Net {} Sbt {}'.format(net+1, sbt+1))"
   ]
  },
  {
   "cell_type": "code",
   "execution_count": null,
   "metadata": {
    "collapsed": true
   },
   "outputs": [],
   "source": []
  }
 ],
 "metadata": {
  "kernelspec": {
   "display_name": "Python 3.5 (v)",
   "language": "python",
   "name": "py35"
  },
  "language_info": {
   "codemirror_mode": {
    "name": "ipython",
    "version": 3
   },
   "file_extension": ".py",
   "mimetype": "text/x-python",
   "name": "python",
   "nbconvert_exporter": "python",
   "pygments_lexer": "ipython3",
   "version": "3.5.2+"
  }
 },
 "nbformat": 4,
 "nbformat_minor": 1
}
